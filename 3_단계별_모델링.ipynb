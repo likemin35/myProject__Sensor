{
  "cells": [
    {
      "cell_type": "markdown",
      "metadata": {
        "id": "NbI_RoQ9AP5r"
      },
      "source": [
        "#**스마트폰 센서 데이터 기반 모션 분류**\n",
        "# 단계3 : 단계별 모델링\n"
      ]
    },
    {
      "cell_type": "markdown",
      "metadata": {
        "id": "JmtZXcVs0IXm"
      },
      "source": [
        "## 0.미션4"
      ]
    },
    {
      "cell_type": "markdown",
      "metadata": {
        "id": "1Q7N3tIf0IXn"
      },
      "source": [
        "* 단계별로 나눠서 모델링을 수행하고자 합니다.  \n",
        "* 단계 구분 예시\n",
        "    * 단계1 : 정적(0), 동적(1) 행동 분류 모델 생성\n",
        "    * 단계2 : 세부 동작에 대한 분류모델 생성\n",
        "        * 단계1 모델에서 0으로 예측 -> 정적 행동 3가지 분류 모델링\n",
        "        * 단계1 모델에서 1으로 예측 -> 동적 행동 3가지 분류 모델링\n",
        "* (선택) 모델 통합\n",
        "    * 두 단계 모델을 통합하고, 새로운 데이터에 대해서 최종 예측결과와 성능평가가 나오도록 함수로 만들기\n",
        "* 성능 비교\n",
        "    * 기본 모델링의 성능과 비교\n",
        "    * 성능 가이드\n",
        "        * Accuracy : 0.97 ~ 0.99\n",
        "* (선택) 파이프라인 구성\n",
        "    * test 데이터를 입력하여, 전처리 및 예측결과가 나오도록 함수 구성"
      ]
    },
    {
      "cell_type": "markdown",
      "metadata": {
        "id": "rgiFiMnzd3Jn"
      },
      "source": [
        "## 1.환경설정"
      ]
    },
    {
      "cell_type": "markdown",
      "metadata": {
        "id": "0fDUoBYfd3Jx"
      },
      "source": [
        "* 세부 요구사항\n",
        "    - 경로 설정 : 구글콜랩\n",
        "        * 구글 드라이브 바로 밑에 project3 폴더를 만들고,\n",
        "        * 데이터 파일을 복사해 넣습니다.\n",
        "    - 기본적으로 필요한 라이브러리를 import 하도록 코드가 작성되어 있습니다.\n",
        "        * 필요하다고 판단되는 라이브러리를 추가하세요.\n"
      ]
    },
    {
      "cell_type": "markdown",
      "metadata": {
        "id": "EP6x0_Qrd3Jx"
      },
      "source": [
        "### (1) 경로 설정"
      ]
    },
    {
      "cell_type": "markdown",
      "metadata": {
        "id": "Nc5ajfyHd3Jx"
      },
      "source": [
        "* 구글 드라이브 연결"
      ]
    },
    {
      "cell_type": "code",
      "execution_count": 37,
      "metadata": {
        "id": "Ic8ZeFKcd3Jx",
        "colab": {
          "base_uri": "https://localhost:8080/"
        },
        "outputId": "2dca0871-d4d8-488e-b1c7-2b218065f9bf",
        "collapsed": true
      },
      "outputs": [
        {
          "output_type": "stream",
          "name": "stdout",
          "text": [
            "Drive already mounted at /content/drive; to attempt to forcibly remount, call drive.mount(\"/content/drive\", force_remount=True).\n"
          ]
        }
      ],
      "source": [
        "from google.colab import drive\n",
        "drive.mount('/content/drive')"
      ]
    },
    {
      "cell_type": "code",
      "execution_count": 38,
      "metadata": {
        "id": "rR-drTHhd3Jx"
      },
      "outputs": [],
      "source": [
        "path = '/content/drive/MyDrive/project3/'"
      ]
    },
    {
      "cell_type": "markdown",
      "metadata": {
        "id": "Tqpjn1W3d3Jx"
      },
      "source": [
        "### (2) 라이브러리 불러오기"
      ]
    },
    {
      "cell_type": "markdown",
      "metadata": {
        "id": "-ZxRcPNqd3Jy"
      },
      "source": [
        "* 라이브러리 로딩\n",
        "  - pandas, numpy,matplotlib,seaborn, joblib, 모델링에 필요한 라이브러리를 로딩합니다."
      ]
    },
    {
      "cell_type": "code",
      "execution_count": 39,
      "metadata": {
        "id": "___ks_QAd3Jy"
      },
      "outputs": [],
      "source": [
        "import pandas as pd\n",
        "import numpy as np\n",
        "import matplotlib.pyplot as plt\n",
        "import seaborn as sns\n",
        "\n",
        "import joblib\n",
        "\n",
        "from sklearn.model_selection import train_test_split\n",
        "from sklearn.preprocessing import MinMaxScaler, LabelEncoder\n",
        "from sklearn.metrics import *\n",
        "\n",
        "from keras.models import Sequential\n",
        "from keras.layers import Dense, Flatten, Dropout\n",
        "from keras.backend import clear_session\n",
        "from keras.optimizers import Adam"
      ]
    },
    {
      "cell_type": "code",
      "execution_count": 40,
      "metadata": {
        "id": "3c4JgiEbNKfo"
      },
      "outputs": [],
      "source": [
        "# 학습곡선 함수\n",
        "def dl_history_plot(history):\n",
        "    plt.figure(figsize=(10,6))\n",
        "    plt.plot(history['loss'], label='train_err', marker = '.')\n",
        "    plt.plot(history['val_loss'], label='val_err', marker = '.')\n",
        "\n",
        "    plt.ylabel('Loss')\n",
        "    plt.xlabel('Epoch')\n",
        "    plt.legend()\n",
        "    plt.grid()\n",
        "    plt.show()"
      ]
    },
    {
      "cell_type": "markdown",
      "metadata": {
        "id": "bA-eHXdwBDCz"
      },
      "source": [
        "### (3) 데이터 불러오기"
      ]
    },
    {
      "cell_type": "markdown",
      "metadata": {
        "id": "tDueQoA3d3Jy"
      },
      "source": [
        "* 주어진 데이터셋\n",
        "    * data01_train.csv : 학습 및 검증용\n",
        "    * data01_test.csv : 테스트용\n",
        "    * feature.csv : feature 이름을 계층구조로 정리한 데이터\n",
        "\n",
        "* 세부 요구사항\n",
        "    * 칼럼 삭제 : data01_train.csv와 data01_test.csv 에서 'subject' 칼럼은 불필요하므로 삭제합니다."
      ]
    },
    {
      "cell_type": "markdown",
      "metadata": {
        "id": "fmgUEGOipvG5"
      },
      "source": [
        "#### 1) 데이터로딩"
      ]
    },
    {
      "cell_type": "code",
      "source": [
        "import os\n",
        "\n",
        "# MyDrive 루트에 있는 파일/폴더 목록 확인\n",
        "print(os.listdir('/content/drive/MyDrive/'))\n"
      ],
      "metadata": {
        "colab": {
          "base_uri": "https://localhost:8080/"
        },
        "id": "uyA6iMKE_aC5",
        "outputId": "25d2461a-d59a-41fd-8e85-5516959d9594",
        "collapsed": true
      },
      "execution_count": 41,
      "outputs": [
        {
          "output_type": "stream",
          "name": "stdout",
          "text": [
            "['Google Photo.zip', 'server.zip', '컴활1급', 'Colab Notebooks', 'project3', 'sort_data.csv']\n"
          ]
        }
      ]
    },
    {
      "cell_type": "code",
      "execution_count": 42,
      "metadata": {
        "id": "HdZCcSs6qfRC"
      },
      "outputs": [],
      "source": [
        "# 주어진 데이터 셋을 불러오세요.(3개)\n",
        "df_train = pd.read_csv(path + 'data01_train.csv')\n",
        "df_test = pd.read_csv(path + 'data01_test.csv')\n",
        "df_feature = pd.read_csv(path + 'features.csv')\n",
        "\n",
        "#불필요한 칼럼을 삭제하세요.\n",
        "df_train.drop('subject', axis=1, inplace=True)\n",
        "df_test.drop('subject', axis=1, inplace=True)\n",
        "\n",
        "import_data = pd.read_csv('/content/import_sort_data.csv') #변수 중요도를 정렬한 파일\n",
        "cols = list(import_data['feature_name'][:210])+list(['Activity'])\n",
        "df_train = df_train[cols]\n",
        "df_test = df_test[cols]"
      ]
    },
    {
      "cell_type": "markdown",
      "metadata": {
        "id": "aI7qJqz3pr3m"
      },
      "source": [
        "#### 2) 기본 정보 조회"
      ]
    },
    {
      "cell_type": "code",
      "execution_count": 43,
      "metadata": {
        "id": "yFVSAGNhpr3m",
        "colab": {
          "base_uri": "https://localhost:8080/"
        },
        "collapsed": true,
        "outputId": "e1161dbd-9599-4cb0-9877-d82dd16396fc"
      },
      "outputs": [
        {
          "output_type": "execute_result",
          "data": {
            "text/plain": [
              "(5881, 211)"
            ]
          },
          "metadata": {},
          "execution_count": 43
        }
      ],
      "source": [
        "#전체 데이터의 행,열 개수 확인\n",
        "df_train.shape"
      ]
    },
    {
      "cell_type": "code",
      "execution_count": 44,
      "metadata": {
        "id": "xJnnr8K-pr3m",
        "colab": {
          "base_uri": "https://localhost:8080/",
          "height": 273
        },
        "collapsed": true,
        "outputId": "1089abf9-90b3-464e-e48c-e8611c341b78"
      },
      "outputs": [
        {
          "output_type": "execute_result",
          "data": {
            "text/plain": [
              "   angle(X,gravityMean)  tGravityAcc-energy()-X  tGravityAcc-min()-Y  \\\n",
              "0             -0.601120                0.673768            -0.334921   \n",
              "1              0.345205               -0.893830             0.937432   \n",
              "2             -0.833564                0.906252            -0.145801   \n",
              "3             -0.695819                0.805419            -0.275699   \n",
              "4             -0.705029                0.738738            -0.263482   \n",
              "\n",
              "   angle(Y,gravityMean)  tGravityAcc-max()-Y  tGravityAcc-mean()-X  \\\n",
              "0              0.331298            -0.370494              0.875254   \n",
              "1             -0.769186             0.873312             -0.134711   \n",
              "2              0.202434            -0.195671              0.965965   \n",
              "3              0.287154            -0.309430              0.927343   \n",
              "4              0.264952            -0.236084              0.901125   \n",
              "\n",
              "   tGravityAcc-max()-X  tGravityAcc-min()-X  tGravityAcc-mean()-Y  \\\n",
              "0             0.805627             0.891969             -0.358842   \n",
              "1            -0.200892            -0.095343              0.924656   \n",
              "2             0.891615             0.985606             -0.174095   \n",
              "3             0.858160             0.943954             -0.297703   \n",
              "4             0.858531             0.901943             -0.260540   \n",
              "\n",
              "   tGravityAcc-energy()-Y  ...  fBodyGyro-mean()-Y  tBodyGyro-energy()-Z  \\\n",
              "0               -0.775936  ...           -0.974264             -0.999479   \n",
              "1                0.714508  ...           -0.978759             -0.999887   \n",
              "2               -0.953043  ...           -0.995670             -0.999876   \n",
              "3               -0.849096  ...           -0.463715             -0.808021   \n",
              "4               -0.885215  ...           -0.619732             -0.819772   \n",
              "\n",
              "   fBodyAccJerk-bandsEnergy()-1,8.2  tBodyAcc-mad()-Y  \\\n",
              "0                         -0.999709         -0.962596   \n",
              "1                         -0.999932         -0.993870   \n",
              "2                         -0.999963         -0.982187   \n",
              "3                         -0.899938          0.014245   \n",
              "4                         -0.870319         -0.109680   \n",
              "\n",
              "   fBodyGyro-bandsEnergy()-25,48.2  fBodyBodyGyroMag-meanFreq()  \\\n",
              "0                        -0.999906                    -0.248487   \n",
              "1                        -0.999960                    -0.288496   \n",
              "2                        -0.999943                     0.375361   \n",
              "3                        -0.877453                     0.136491   \n",
              "4                        -0.984466                    -0.350359   \n",
              "\n",
              "   fBodyAcc-max()-Y  fBodyBodyGyroMag-energy()  fBodyGyro-std()-Y  \\\n",
              "0         -0.963993                  -0.999448          -0.965697   \n",
              "1         -0.996704                  -0.999576          -0.975541   \n",
              "2         -0.991351                  -0.999940          -0.996758   \n",
              "3         -0.231513                  -0.849297          -0.417537   \n",
              "4         -0.431145                  -0.714778          -0.551035   \n",
              "\n",
              "             Activity  \n",
              "0            STANDING  \n",
              "1              LAYING  \n",
              "2            STANDING  \n",
              "3             WALKING  \n",
              "4  WALKING_DOWNSTAIRS  \n",
              "\n",
              "[5 rows x 211 columns]"
            ],
            "text/html": [
              "\n",
              "  <div id=\"df-8c3f9354-e55e-44b8-ac8a-2e8f18171542\" class=\"colab-df-container\">\n",
              "    <div>\n",
              "<style scoped>\n",
              "    .dataframe tbody tr th:only-of-type {\n",
              "        vertical-align: middle;\n",
              "    }\n",
              "\n",
              "    .dataframe tbody tr th {\n",
              "        vertical-align: top;\n",
              "    }\n",
              "\n",
              "    .dataframe thead th {\n",
              "        text-align: right;\n",
              "    }\n",
              "</style>\n",
              "<table border=\"1\" class=\"dataframe\">\n",
              "  <thead>\n",
              "    <tr style=\"text-align: right;\">\n",
              "      <th></th>\n",
              "      <th>angle(X,gravityMean)</th>\n",
              "      <th>tGravityAcc-energy()-X</th>\n",
              "      <th>tGravityAcc-min()-Y</th>\n",
              "      <th>angle(Y,gravityMean)</th>\n",
              "      <th>tGravityAcc-max()-Y</th>\n",
              "      <th>tGravityAcc-mean()-X</th>\n",
              "      <th>tGravityAcc-max()-X</th>\n",
              "      <th>tGravityAcc-min()-X</th>\n",
              "      <th>tGravityAcc-mean()-Y</th>\n",
              "      <th>tGravityAcc-energy()-Y</th>\n",
              "      <th>...</th>\n",
              "      <th>fBodyGyro-mean()-Y</th>\n",
              "      <th>tBodyGyro-energy()-Z</th>\n",
              "      <th>fBodyAccJerk-bandsEnergy()-1,8.2</th>\n",
              "      <th>tBodyAcc-mad()-Y</th>\n",
              "      <th>fBodyGyro-bandsEnergy()-25,48.2</th>\n",
              "      <th>fBodyBodyGyroMag-meanFreq()</th>\n",
              "      <th>fBodyAcc-max()-Y</th>\n",
              "      <th>fBodyBodyGyroMag-energy()</th>\n",
              "      <th>fBodyGyro-std()-Y</th>\n",
              "      <th>Activity</th>\n",
              "    </tr>\n",
              "  </thead>\n",
              "  <tbody>\n",
              "    <tr>\n",
              "      <th>0</th>\n",
              "      <td>-0.601120</td>\n",
              "      <td>0.673768</td>\n",
              "      <td>-0.334921</td>\n",
              "      <td>0.331298</td>\n",
              "      <td>-0.370494</td>\n",
              "      <td>0.875254</td>\n",
              "      <td>0.805627</td>\n",
              "      <td>0.891969</td>\n",
              "      <td>-0.358842</td>\n",
              "      <td>-0.775936</td>\n",
              "      <td>...</td>\n",
              "      <td>-0.974264</td>\n",
              "      <td>-0.999479</td>\n",
              "      <td>-0.999709</td>\n",
              "      <td>-0.962596</td>\n",
              "      <td>-0.999906</td>\n",
              "      <td>-0.248487</td>\n",
              "      <td>-0.963993</td>\n",
              "      <td>-0.999448</td>\n",
              "      <td>-0.965697</td>\n",
              "      <td>STANDING</td>\n",
              "    </tr>\n",
              "    <tr>\n",
              "      <th>1</th>\n",
              "      <td>0.345205</td>\n",
              "      <td>-0.893830</td>\n",
              "      <td>0.937432</td>\n",
              "      <td>-0.769186</td>\n",
              "      <td>0.873312</td>\n",
              "      <td>-0.134711</td>\n",
              "      <td>-0.200892</td>\n",
              "      <td>-0.095343</td>\n",
              "      <td>0.924656</td>\n",
              "      <td>0.714508</td>\n",
              "      <td>...</td>\n",
              "      <td>-0.978759</td>\n",
              "      <td>-0.999887</td>\n",
              "      <td>-0.999932</td>\n",
              "      <td>-0.993870</td>\n",
              "      <td>-0.999960</td>\n",
              "      <td>-0.288496</td>\n",
              "      <td>-0.996704</td>\n",
              "      <td>-0.999576</td>\n",
              "      <td>-0.975541</td>\n",
              "      <td>LAYING</td>\n",
              "    </tr>\n",
              "    <tr>\n",
              "      <th>2</th>\n",
              "      <td>-0.833564</td>\n",
              "      <td>0.906252</td>\n",
              "      <td>-0.145801</td>\n",
              "      <td>0.202434</td>\n",
              "      <td>-0.195671</td>\n",
              "      <td>0.965965</td>\n",
              "      <td>0.891615</td>\n",
              "      <td>0.985606</td>\n",
              "      <td>-0.174095</td>\n",
              "      <td>-0.953043</td>\n",
              "      <td>...</td>\n",
              "      <td>-0.995670</td>\n",
              "      <td>-0.999876</td>\n",
              "      <td>-0.999963</td>\n",
              "      <td>-0.982187</td>\n",
              "      <td>-0.999943</td>\n",
              "      <td>0.375361</td>\n",
              "      <td>-0.991351</td>\n",
              "      <td>-0.999940</td>\n",
              "      <td>-0.996758</td>\n",
              "      <td>STANDING</td>\n",
              "    </tr>\n",
              "    <tr>\n",
              "      <th>3</th>\n",
              "      <td>-0.695819</td>\n",
              "      <td>0.805419</td>\n",
              "      <td>-0.275699</td>\n",
              "      <td>0.287154</td>\n",
              "      <td>-0.309430</td>\n",
              "      <td>0.927343</td>\n",
              "      <td>0.858160</td>\n",
              "      <td>0.943954</td>\n",
              "      <td>-0.297703</td>\n",
              "      <td>-0.849096</td>\n",
              "      <td>...</td>\n",
              "      <td>-0.463715</td>\n",
              "      <td>-0.808021</td>\n",
              "      <td>-0.899938</td>\n",
              "      <td>0.014245</td>\n",
              "      <td>-0.877453</td>\n",
              "      <td>0.136491</td>\n",
              "      <td>-0.231513</td>\n",
              "      <td>-0.849297</td>\n",
              "      <td>-0.417537</td>\n",
              "      <td>WALKING</td>\n",
              "    </tr>\n",
              "    <tr>\n",
              "      <th>4</th>\n",
              "      <td>-0.705029</td>\n",
              "      <td>0.738738</td>\n",
              "      <td>-0.263482</td>\n",
              "      <td>0.264952</td>\n",
              "      <td>-0.236084</td>\n",
              "      <td>0.901125</td>\n",
              "      <td>0.858531</td>\n",
              "      <td>0.901943</td>\n",
              "      <td>-0.260540</td>\n",
              "      <td>-0.885215</td>\n",
              "      <td>...</td>\n",
              "      <td>-0.619732</td>\n",
              "      <td>-0.819772</td>\n",
              "      <td>-0.870319</td>\n",
              "      <td>-0.109680</td>\n",
              "      <td>-0.984466</td>\n",
              "      <td>-0.350359</td>\n",
              "      <td>-0.431145</td>\n",
              "      <td>-0.714778</td>\n",
              "      <td>-0.551035</td>\n",
              "      <td>WALKING_DOWNSTAIRS</td>\n",
              "    </tr>\n",
              "  </tbody>\n",
              "</table>\n",
              "<p>5 rows × 211 columns</p>\n",
              "</div>\n",
              "    <div class=\"colab-df-buttons\">\n",
              "\n",
              "  <div class=\"colab-df-container\">\n",
              "    <button class=\"colab-df-convert\" onclick=\"convertToInteractive('df-8c3f9354-e55e-44b8-ac8a-2e8f18171542')\"\n",
              "            title=\"Convert this dataframe to an interactive table.\"\n",
              "            style=\"display:none;\">\n",
              "\n",
              "  <svg xmlns=\"http://www.w3.org/2000/svg\" height=\"24px\" viewBox=\"0 -960 960 960\">\n",
              "    <path d=\"M120-120v-720h720v720H120Zm60-500h600v-160H180v160Zm220 220h160v-160H400v160Zm0 220h160v-160H400v160ZM180-400h160v-160H180v160Zm440 0h160v-160H620v160ZM180-180h160v-160H180v160Zm440 0h160v-160H620v160Z\"/>\n",
              "  </svg>\n",
              "    </button>\n",
              "\n",
              "  <style>\n",
              "    .colab-df-container {\n",
              "      display:flex;\n",
              "      gap: 12px;\n",
              "    }\n",
              "\n",
              "    .colab-df-convert {\n",
              "      background-color: #E8F0FE;\n",
              "      border: none;\n",
              "      border-radius: 50%;\n",
              "      cursor: pointer;\n",
              "      display: none;\n",
              "      fill: #1967D2;\n",
              "      height: 32px;\n",
              "      padding: 0 0 0 0;\n",
              "      width: 32px;\n",
              "    }\n",
              "\n",
              "    .colab-df-convert:hover {\n",
              "      background-color: #E2EBFA;\n",
              "      box-shadow: 0px 1px 2px rgba(60, 64, 67, 0.3), 0px 1px 3px 1px rgba(60, 64, 67, 0.15);\n",
              "      fill: #174EA6;\n",
              "    }\n",
              "\n",
              "    .colab-df-buttons div {\n",
              "      margin-bottom: 4px;\n",
              "    }\n",
              "\n",
              "    [theme=dark] .colab-df-convert {\n",
              "      background-color: #3B4455;\n",
              "      fill: #D2E3FC;\n",
              "    }\n",
              "\n",
              "    [theme=dark] .colab-df-convert:hover {\n",
              "      background-color: #434B5C;\n",
              "      box-shadow: 0px 1px 3px 1px rgba(0, 0, 0, 0.15);\n",
              "      filter: drop-shadow(0px 1px 2px rgba(0, 0, 0, 0.3));\n",
              "      fill: #FFFFFF;\n",
              "    }\n",
              "  </style>\n",
              "\n",
              "    <script>\n",
              "      const buttonEl =\n",
              "        document.querySelector('#df-8c3f9354-e55e-44b8-ac8a-2e8f18171542 button.colab-df-convert');\n",
              "      buttonEl.style.display =\n",
              "        google.colab.kernel.accessAllowed ? 'block' : 'none';\n",
              "\n",
              "      async function convertToInteractive(key) {\n",
              "        const element = document.querySelector('#df-8c3f9354-e55e-44b8-ac8a-2e8f18171542');\n",
              "        const dataTable =\n",
              "          await google.colab.kernel.invokeFunction('convertToInteractive',\n",
              "                                                    [key], {});\n",
              "        if (!dataTable) return;\n",
              "\n",
              "        const docLinkHtml = 'Like what you see? Visit the ' +\n",
              "          '<a target=\"_blank\" href=https://colab.research.google.com/notebooks/data_table.ipynb>data table notebook</a>'\n",
              "          + ' to learn more about interactive tables.';\n",
              "        element.innerHTML = '';\n",
              "        dataTable['output_type'] = 'display_data';\n",
              "        await google.colab.output.renderOutput(dataTable, element);\n",
              "        const docLink = document.createElement('div');\n",
              "        docLink.innerHTML = docLinkHtml;\n",
              "        element.appendChild(docLink);\n",
              "      }\n",
              "    </script>\n",
              "  </div>\n",
              "\n",
              "\n",
              "<div id=\"df-a18312aa-070d-4057-b4a5-8971b2e3528e\">\n",
              "  <button class=\"colab-df-quickchart\" onclick=\"quickchart('df-a18312aa-070d-4057-b4a5-8971b2e3528e')\"\n",
              "            title=\"Suggest charts\"\n",
              "            style=\"display:none;\">\n",
              "\n",
              "<svg xmlns=\"http://www.w3.org/2000/svg\" height=\"24px\"viewBox=\"0 0 24 24\"\n",
              "     width=\"24px\">\n",
              "    <g>\n",
              "        <path d=\"M19 3H5c-1.1 0-2 .9-2 2v14c0 1.1.9 2 2 2h14c1.1 0 2-.9 2-2V5c0-1.1-.9-2-2-2zM9 17H7v-7h2v7zm4 0h-2V7h2v10zm4 0h-2v-4h2v4z\"/>\n",
              "    </g>\n",
              "</svg>\n",
              "  </button>\n",
              "\n",
              "<style>\n",
              "  .colab-df-quickchart {\n",
              "      --bg-color: #E8F0FE;\n",
              "      --fill-color: #1967D2;\n",
              "      --hover-bg-color: #E2EBFA;\n",
              "      --hover-fill-color: #174EA6;\n",
              "      --disabled-fill-color: #AAA;\n",
              "      --disabled-bg-color: #DDD;\n",
              "  }\n",
              "\n",
              "  [theme=dark] .colab-df-quickchart {\n",
              "      --bg-color: #3B4455;\n",
              "      --fill-color: #D2E3FC;\n",
              "      --hover-bg-color: #434B5C;\n",
              "      --hover-fill-color: #FFFFFF;\n",
              "      --disabled-bg-color: #3B4455;\n",
              "      --disabled-fill-color: #666;\n",
              "  }\n",
              "\n",
              "  .colab-df-quickchart {\n",
              "    background-color: var(--bg-color);\n",
              "    border: none;\n",
              "    border-radius: 50%;\n",
              "    cursor: pointer;\n",
              "    display: none;\n",
              "    fill: var(--fill-color);\n",
              "    height: 32px;\n",
              "    padding: 0;\n",
              "    width: 32px;\n",
              "  }\n",
              "\n",
              "  .colab-df-quickchart:hover {\n",
              "    background-color: var(--hover-bg-color);\n",
              "    box-shadow: 0 1px 2px rgba(60, 64, 67, 0.3), 0 1px 3px 1px rgba(60, 64, 67, 0.15);\n",
              "    fill: var(--button-hover-fill-color);\n",
              "  }\n",
              "\n",
              "  .colab-df-quickchart-complete:disabled,\n",
              "  .colab-df-quickchart-complete:disabled:hover {\n",
              "    background-color: var(--disabled-bg-color);\n",
              "    fill: var(--disabled-fill-color);\n",
              "    box-shadow: none;\n",
              "  }\n",
              "\n",
              "  .colab-df-spinner {\n",
              "    border: 2px solid var(--fill-color);\n",
              "    border-color: transparent;\n",
              "    border-bottom-color: var(--fill-color);\n",
              "    animation:\n",
              "      spin 1s steps(1) infinite;\n",
              "  }\n",
              "\n",
              "  @keyframes spin {\n",
              "    0% {\n",
              "      border-color: transparent;\n",
              "      border-bottom-color: var(--fill-color);\n",
              "      border-left-color: var(--fill-color);\n",
              "    }\n",
              "    20% {\n",
              "      border-color: transparent;\n",
              "      border-left-color: var(--fill-color);\n",
              "      border-top-color: var(--fill-color);\n",
              "    }\n",
              "    30% {\n",
              "      border-color: transparent;\n",
              "      border-left-color: var(--fill-color);\n",
              "      border-top-color: var(--fill-color);\n",
              "      border-right-color: var(--fill-color);\n",
              "    }\n",
              "    40% {\n",
              "      border-color: transparent;\n",
              "      border-right-color: var(--fill-color);\n",
              "      border-top-color: var(--fill-color);\n",
              "    }\n",
              "    60% {\n",
              "      border-color: transparent;\n",
              "      border-right-color: var(--fill-color);\n",
              "    }\n",
              "    80% {\n",
              "      border-color: transparent;\n",
              "      border-right-color: var(--fill-color);\n",
              "      border-bottom-color: var(--fill-color);\n",
              "    }\n",
              "    90% {\n",
              "      border-color: transparent;\n",
              "      border-bottom-color: var(--fill-color);\n",
              "    }\n",
              "  }\n",
              "</style>\n",
              "\n",
              "  <script>\n",
              "    async function quickchart(key) {\n",
              "      const quickchartButtonEl =\n",
              "        document.querySelector('#' + key + ' button');\n",
              "      quickchartButtonEl.disabled = true;  // To prevent multiple clicks.\n",
              "      quickchartButtonEl.classList.add('colab-df-spinner');\n",
              "      try {\n",
              "        const charts = await google.colab.kernel.invokeFunction(\n",
              "            'suggestCharts', [key], {});\n",
              "      } catch (error) {\n",
              "        console.error('Error during call to suggestCharts:', error);\n",
              "      }\n",
              "      quickchartButtonEl.classList.remove('colab-df-spinner');\n",
              "      quickchartButtonEl.classList.add('colab-df-quickchart-complete');\n",
              "    }\n",
              "    (() => {\n",
              "      let quickchartButtonEl =\n",
              "        document.querySelector('#df-a18312aa-070d-4057-b4a5-8971b2e3528e button');\n",
              "      quickchartButtonEl.style.display =\n",
              "        google.colab.kernel.accessAllowed ? 'block' : 'none';\n",
              "    })();\n",
              "  </script>\n",
              "</div>\n",
              "\n",
              "    </div>\n",
              "  </div>\n"
            ],
            "application/vnd.google.colaboratory.intrinsic+json": {
              "type": "dataframe",
              "variable_name": "df_train"
            }
          },
          "metadata": {},
          "execution_count": 44
        }
      ],
      "source": [
        "#전체 데이터의 상위 5개 행 확인\n",
        "df_train.head()"
      ]
    },
    {
      "cell_type": "code",
      "execution_count": 45,
      "metadata": {
        "id": "ajJ1qJkhpr3n",
        "colab": {
          "base_uri": "https://localhost:8080/",
          "height": 367
        },
        "collapsed": true,
        "outputId": "3eb25fb1-d547-4ae5-acff-8ceaaec12360"
      },
      "outputs": [
        {
          "output_type": "execute_result",
          "data": {
            "text/plain": [
              "       angle(X,gravityMean)  tGravityAcc-energy()-X  tGravityAcc-min()-Y  \\\n",
              "count           5881.000000             5881.000000          5881.000000   \n",
              "mean              -0.491501                0.439477             0.022675   \n",
              "std                0.509069                0.695108             0.368885   \n",
              "min               -1.000000               -1.000000            -0.568157   \n",
              "25%               -0.811397                0.507857            -0.223971   \n",
              "50%               -0.709441                0.785454            -0.129579   \n",
              "75%               -0.511330                0.872237             0.141056   \n",
              "max                0.977344                0.975855             1.000000   \n",
              "\n",
              "       angle(Y,gravityMean)  tGravityAcc-max()-Y  tGravityAcc-mean()-X  \\\n",
              "count           5881.000000          5881.000000           5881.000000   \n",
              "mean               0.059299            -0.004537              0.666745   \n",
              "std                0.297340             0.360235              0.513944   \n",
              "min               -1.000000            -0.493874             -0.946566   \n",
              "25%               -0.018203            -0.246212              0.806501   \n",
              "50%                0.182893            -0.153714              0.919511   \n",
              "75%                0.248435             0.138519              0.952970   \n",
              "max                0.478157             0.968307              0.991549   \n",
              "\n",
              "       tGravityAcc-max()-X  tGravityAcc-min()-X  tGravityAcc-mean()-Y  \\\n",
              "count          5881.000000          5881.000000           5881.000000   \n",
              "mean              0.606499             0.681231              0.009978   \n",
              "std               0.507429             0.505871              0.371786   \n",
              "min              -0.992959            -0.986149             -0.535222   \n",
              "25%               0.745482             0.807381             -0.239082   \n",
              "50%               0.857192             0.926703             -0.144690   \n",
              "75%               0.886738             0.964898              0.147751   \n",
              "max               1.000000             1.000000              1.000000   \n",
              "\n",
              "       tGravityAcc-energy()-Y  ...  tGravityAcc-std()-Z  fBodyGyro-mean()-Y  \\\n",
              "count             5881.000000  ...          5881.000000         5881.000000   \n",
              "mean                -0.731231  ...            -0.937118           -0.702085   \n",
              "std                  0.437070  ...             0.107939            0.345304   \n",
              "min                 -1.000000  ...            -1.000000           -1.000000   \n",
              "25%                 -0.966231  ...            -0.986906           -0.986119   \n",
              "50%                 -0.910300  ...            -0.966355           -0.922290   \n",
              "75%                 -0.769013  ...            -0.928554           -0.469506   \n",
              "max                  1.000000  ...             1.000000            1.000000   \n",
              "\n",
              "       tBodyGyro-energy()-Z  fBodyAccJerk-bandsEnergy()-1,8.2  \\\n",
              "count           5881.000000                       5881.000000   \n",
              "mean              -0.872339                         -0.896305   \n",
              "std                0.194447                          0.174958   \n",
              "min               -1.000000                         -1.000000   \n",
              "25%               -0.999788                         -0.999781   \n",
              "50%               -0.983179                         -0.997188   \n",
              "75%               -0.786903                         -0.854529   \n",
              "max                1.000000                          1.000000   \n",
              "\n",
              "       tBodyAcc-mad()-Y  fBodyGyro-bandsEnergy()-25,48.2  \\\n",
              "count       5881.000000                      5881.000000   \n",
              "mean          -0.525944                        -0.967436   \n",
              "std            0.485115                         0.072986   \n",
              "min           -0.999419                        -1.000000   \n",
              "25%           -0.977865                        -0.999953   \n",
              "50%           -0.849266                        -0.998898   \n",
              "75%           -0.068857                        -0.961249   \n",
              "max            0.967664                         1.000000   \n",
              "\n",
              "       fBodyBodyGyroMag-meanFreq()  fBodyAcc-max()-Y  \\\n",
              "count                  5881.000000       5881.000000   \n",
              "mean                     -0.042947         -0.659080   \n",
              "std                       0.282502          0.352440   \n",
              "min                      -0.997500         -1.000000   \n",
              "25%                      -0.237470         -0.980256   \n",
              "50%                      -0.057155         -0.868836   \n",
              "75%                       0.151467         -0.354598   \n",
              "max                       1.000000          1.000000   \n",
              "\n",
              "       fBodyBodyGyroMag-energy()  fBodyGyro-std()-Y  \n",
              "count                5881.000000        5881.000000  \n",
              "mean                   -0.874650          -0.667093  \n",
              "std                     0.192295           0.382523  \n",
              "min                    -1.000000          -1.000000  \n",
              "25%                    -0.999728          -0.982566  \n",
              "50%                    -0.985823          -0.910677  \n",
              "75%                    -0.802629          -0.426421  \n",
              "max                     1.000000           1.000000  \n",
              "\n",
              "[8 rows x 210 columns]"
            ],
            "text/html": [
              "\n",
              "  <div id=\"df-aae7017a-5470-4ac5-811a-7d1bd918f19c\" class=\"colab-df-container\">\n",
              "    <div>\n",
              "<style scoped>\n",
              "    .dataframe tbody tr th:only-of-type {\n",
              "        vertical-align: middle;\n",
              "    }\n",
              "\n",
              "    .dataframe tbody tr th {\n",
              "        vertical-align: top;\n",
              "    }\n",
              "\n",
              "    .dataframe thead th {\n",
              "        text-align: right;\n",
              "    }\n",
              "</style>\n",
              "<table border=\"1\" class=\"dataframe\">\n",
              "  <thead>\n",
              "    <tr style=\"text-align: right;\">\n",
              "      <th></th>\n",
              "      <th>angle(X,gravityMean)</th>\n",
              "      <th>tGravityAcc-energy()-X</th>\n",
              "      <th>tGravityAcc-min()-Y</th>\n",
              "      <th>angle(Y,gravityMean)</th>\n",
              "      <th>tGravityAcc-max()-Y</th>\n",
              "      <th>tGravityAcc-mean()-X</th>\n",
              "      <th>tGravityAcc-max()-X</th>\n",
              "      <th>tGravityAcc-min()-X</th>\n",
              "      <th>tGravityAcc-mean()-Y</th>\n",
              "      <th>tGravityAcc-energy()-Y</th>\n",
              "      <th>...</th>\n",
              "      <th>tGravityAcc-std()-Z</th>\n",
              "      <th>fBodyGyro-mean()-Y</th>\n",
              "      <th>tBodyGyro-energy()-Z</th>\n",
              "      <th>fBodyAccJerk-bandsEnergy()-1,8.2</th>\n",
              "      <th>tBodyAcc-mad()-Y</th>\n",
              "      <th>fBodyGyro-bandsEnergy()-25,48.2</th>\n",
              "      <th>fBodyBodyGyroMag-meanFreq()</th>\n",
              "      <th>fBodyAcc-max()-Y</th>\n",
              "      <th>fBodyBodyGyroMag-energy()</th>\n",
              "      <th>fBodyGyro-std()-Y</th>\n",
              "    </tr>\n",
              "  </thead>\n",
              "  <tbody>\n",
              "    <tr>\n",
              "      <th>count</th>\n",
              "      <td>5881.000000</td>\n",
              "      <td>5881.000000</td>\n",
              "      <td>5881.000000</td>\n",
              "      <td>5881.000000</td>\n",
              "      <td>5881.000000</td>\n",
              "      <td>5881.000000</td>\n",
              "      <td>5881.000000</td>\n",
              "      <td>5881.000000</td>\n",
              "      <td>5881.000000</td>\n",
              "      <td>5881.000000</td>\n",
              "      <td>...</td>\n",
              "      <td>5881.000000</td>\n",
              "      <td>5881.000000</td>\n",
              "      <td>5881.000000</td>\n",
              "      <td>5881.000000</td>\n",
              "      <td>5881.000000</td>\n",
              "      <td>5881.000000</td>\n",
              "      <td>5881.000000</td>\n",
              "      <td>5881.000000</td>\n",
              "      <td>5881.000000</td>\n",
              "      <td>5881.000000</td>\n",
              "    </tr>\n",
              "    <tr>\n",
              "      <th>mean</th>\n",
              "      <td>-0.491501</td>\n",
              "      <td>0.439477</td>\n",
              "      <td>0.022675</td>\n",
              "      <td>0.059299</td>\n",
              "      <td>-0.004537</td>\n",
              "      <td>0.666745</td>\n",
              "      <td>0.606499</td>\n",
              "      <td>0.681231</td>\n",
              "      <td>0.009978</td>\n",
              "      <td>-0.731231</td>\n",
              "      <td>...</td>\n",
              "      <td>-0.937118</td>\n",
              "      <td>-0.702085</td>\n",
              "      <td>-0.872339</td>\n",
              "      <td>-0.896305</td>\n",
              "      <td>-0.525944</td>\n",
              "      <td>-0.967436</td>\n",
              "      <td>-0.042947</td>\n",
              "      <td>-0.659080</td>\n",
              "      <td>-0.874650</td>\n",
              "      <td>-0.667093</td>\n",
              "    </tr>\n",
              "    <tr>\n",
              "      <th>std</th>\n",
              "      <td>0.509069</td>\n",
              "      <td>0.695108</td>\n",
              "      <td>0.368885</td>\n",
              "      <td>0.297340</td>\n",
              "      <td>0.360235</td>\n",
              "      <td>0.513944</td>\n",
              "      <td>0.507429</td>\n",
              "      <td>0.505871</td>\n",
              "      <td>0.371786</td>\n",
              "      <td>0.437070</td>\n",
              "      <td>...</td>\n",
              "      <td>0.107939</td>\n",
              "      <td>0.345304</td>\n",
              "      <td>0.194447</td>\n",
              "      <td>0.174958</td>\n",
              "      <td>0.485115</td>\n",
              "      <td>0.072986</td>\n",
              "      <td>0.282502</td>\n",
              "      <td>0.352440</td>\n",
              "      <td>0.192295</td>\n",
              "      <td>0.382523</td>\n",
              "    </tr>\n",
              "    <tr>\n",
              "      <th>min</th>\n",
              "      <td>-1.000000</td>\n",
              "      <td>-1.000000</td>\n",
              "      <td>-0.568157</td>\n",
              "      <td>-1.000000</td>\n",
              "      <td>-0.493874</td>\n",
              "      <td>-0.946566</td>\n",
              "      <td>-0.992959</td>\n",
              "      <td>-0.986149</td>\n",
              "      <td>-0.535222</td>\n",
              "      <td>-1.000000</td>\n",
              "      <td>...</td>\n",
              "      <td>-1.000000</td>\n",
              "      <td>-1.000000</td>\n",
              "      <td>-1.000000</td>\n",
              "      <td>-1.000000</td>\n",
              "      <td>-0.999419</td>\n",
              "      <td>-1.000000</td>\n",
              "      <td>-0.997500</td>\n",
              "      <td>-1.000000</td>\n",
              "      <td>-1.000000</td>\n",
              "      <td>-1.000000</td>\n",
              "    </tr>\n",
              "    <tr>\n",
              "      <th>25%</th>\n",
              "      <td>-0.811397</td>\n",
              "      <td>0.507857</td>\n",
              "      <td>-0.223971</td>\n",
              "      <td>-0.018203</td>\n",
              "      <td>-0.246212</td>\n",
              "      <td>0.806501</td>\n",
              "      <td>0.745482</td>\n",
              "      <td>0.807381</td>\n",
              "      <td>-0.239082</td>\n",
              "      <td>-0.966231</td>\n",
              "      <td>...</td>\n",
              "      <td>-0.986906</td>\n",
              "      <td>-0.986119</td>\n",
              "      <td>-0.999788</td>\n",
              "      <td>-0.999781</td>\n",
              "      <td>-0.977865</td>\n",
              "      <td>-0.999953</td>\n",
              "      <td>-0.237470</td>\n",
              "      <td>-0.980256</td>\n",
              "      <td>-0.999728</td>\n",
              "      <td>-0.982566</td>\n",
              "    </tr>\n",
              "    <tr>\n",
              "      <th>50%</th>\n",
              "      <td>-0.709441</td>\n",
              "      <td>0.785454</td>\n",
              "      <td>-0.129579</td>\n",
              "      <td>0.182893</td>\n",
              "      <td>-0.153714</td>\n",
              "      <td>0.919511</td>\n",
              "      <td>0.857192</td>\n",
              "      <td>0.926703</td>\n",
              "      <td>-0.144690</td>\n",
              "      <td>-0.910300</td>\n",
              "      <td>...</td>\n",
              "      <td>-0.966355</td>\n",
              "      <td>-0.922290</td>\n",
              "      <td>-0.983179</td>\n",
              "      <td>-0.997188</td>\n",
              "      <td>-0.849266</td>\n",
              "      <td>-0.998898</td>\n",
              "      <td>-0.057155</td>\n",
              "      <td>-0.868836</td>\n",
              "      <td>-0.985823</td>\n",
              "      <td>-0.910677</td>\n",
              "    </tr>\n",
              "    <tr>\n",
              "      <th>75%</th>\n",
              "      <td>-0.511330</td>\n",
              "      <td>0.872237</td>\n",
              "      <td>0.141056</td>\n",
              "      <td>0.248435</td>\n",
              "      <td>0.138519</td>\n",
              "      <td>0.952970</td>\n",
              "      <td>0.886738</td>\n",
              "      <td>0.964898</td>\n",
              "      <td>0.147751</td>\n",
              "      <td>-0.769013</td>\n",
              "      <td>...</td>\n",
              "      <td>-0.928554</td>\n",
              "      <td>-0.469506</td>\n",
              "      <td>-0.786903</td>\n",
              "      <td>-0.854529</td>\n",
              "      <td>-0.068857</td>\n",
              "      <td>-0.961249</td>\n",
              "      <td>0.151467</td>\n",
              "      <td>-0.354598</td>\n",
              "      <td>-0.802629</td>\n",
              "      <td>-0.426421</td>\n",
              "    </tr>\n",
              "    <tr>\n",
              "      <th>max</th>\n",
              "      <td>0.977344</td>\n",
              "      <td>0.975855</td>\n",
              "      <td>1.000000</td>\n",
              "      <td>0.478157</td>\n",
              "      <td>0.968307</td>\n",
              "      <td>0.991549</td>\n",
              "      <td>1.000000</td>\n",
              "      <td>1.000000</td>\n",
              "      <td>1.000000</td>\n",
              "      <td>1.000000</td>\n",
              "      <td>...</td>\n",
              "      <td>1.000000</td>\n",
              "      <td>1.000000</td>\n",
              "      <td>1.000000</td>\n",
              "      <td>1.000000</td>\n",
              "      <td>0.967664</td>\n",
              "      <td>1.000000</td>\n",
              "      <td>1.000000</td>\n",
              "      <td>1.000000</td>\n",
              "      <td>1.000000</td>\n",
              "      <td>1.000000</td>\n",
              "    </tr>\n",
              "  </tbody>\n",
              "</table>\n",
              "<p>8 rows × 210 columns</p>\n",
              "</div>\n",
              "    <div class=\"colab-df-buttons\">\n",
              "\n",
              "  <div class=\"colab-df-container\">\n",
              "    <button class=\"colab-df-convert\" onclick=\"convertToInteractive('df-aae7017a-5470-4ac5-811a-7d1bd918f19c')\"\n",
              "            title=\"Convert this dataframe to an interactive table.\"\n",
              "            style=\"display:none;\">\n",
              "\n",
              "  <svg xmlns=\"http://www.w3.org/2000/svg\" height=\"24px\" viewBox=\"0 -960 960 960\">\n",
              "    <path d=\"M120-120v-720h720v720H120Zm60-500h600v-160H180v160Zm220 220h160v-160H400v160Zm0 220h160v-160H400v160ZM180-400h160v-160H180v160Zm440 0h160v-160H620v160ZM180-180h160v-160H180v160Zm440 0h160v-160H620v160Z\"/>\n",
              "  </svg>\n",
              "    </button>\n",
              "\n",
              "  <style>\n",
              "    .colab-df-container {\n",
              "      display:flex;\n",
              "      gap: 12px;\n",
              "    }\n",
              "\n",
              "    .colab-df-convert {\n",
              "      background-color: #E8F0FE;\n",
              "      border: none;\n",
              "      border-radius: 50%;\n",
              "      cursor: pointer;\n",
              "      display: none;\n",
              "      fill: #1967D2;\n",
              "      height: 32px;\n",
              "      padding: 0 0 0 0;\n",
              "      width: 32px;\n",
              "    }\n",
              "\n",
              "    .colab-df-convert:hover {\n",
              "      background-color: #E2EBFA;\n",
              "      box-shadow: 0px 1px 2px rgba(60, 64, 67, 0.3), 0px 1px 3px 1px rgba(60, 64, 67, 0.15);\n",
              "      fill: #174EA6;\n",
              "    }\n",
              "\n",
              "    .colab-df-buttons div {\n",
              "      margin-bottom: 4px;\n",
              "    }\n",
              "\n",
              "    [theme=dark] .colab-df-convert {\n",
              "      background-color: #3B4455;\n",
              "      fill: #D2E3FC;\n",
              "    }\n",
              "\n",
              "    [theme=dark] .colab-df-convert:hover {\n",
              "      background-color: #434B5C;\n",
              "      box-shadow: 0px 1px 3px 1px rgba(0, 0, 0, 0.15);\n",
              "      filter: drop-shadow(0px 1px 2px rgba(0, 0, 0, 0.3));\n",
              "      fill: #FFFFFF;\n",
              "    }\n",
              "  </style>\n",
              "\n",
              "    <script>\n",
              "      const buttonEl =\n",
              "        document.querySelector('#df-aae7017a-5470-4ac5-811a-7d1bd918f19c button.colab-df-convert');\n",
              "      buttonEl.style.display =\n",
              "        google.colab.kernel.accessAllowed ? 'block' : 'none';\n",
              "\n",
              "      async function convertToInteractive(key) {\n",
              "        const element = document.querySelector('#df-aae7017a-5470-4ac5-811a-7d1bd918f19c');\n",
              "        const dataTable =\n",
              "          await google.colab.kernel.invokeFunction('convertToInteractive',\n",
              "                                                    [key], {});\n",
              "        if (!dataTable) return;\n",
              "\n",
              "        const docLinkHtml = 'Like what you see? Visit the ' +\n",
              "          '<a target=\"_blank\" href=https://colab.research.google.com/notebooks/data_table.ipynb>data table notebook</a>'\n",
              "          + ' to learn more about interactive tables.';\n",
              "        element.innerHTML = '';\n",
              "        dataTable['output_type'] = 'display_data';\n",
              "        await google.colab.output.renderOutput(dataTable, element);\n",
              "        const docLink = document.createElement('div');\n",
              "        docLink.innerHTML = docLinkHtml;\n",
              "        element.appendChild(docLink);\n",
              "      }\n",
              "    </script>\n",
              "  </div>\n",
              "\n",
              "\n",
              "<div id=\"df-813e7c78-61fd-4256-9738-9fb0c4243687\">\n",
              "  <button class=\"colab-df-quickchart\" onclick=\"quickchart('df-813e7c78-61fd-4256-9738-9fb0c4243687')\"\n",
              "            title=\"Suggest charts\"\n",
              "            style=\"display:none;\">\n",
              "\n",
              "<svg xmlns=\"http://www.w3.org/2000/svg\" height=\"24px\"viewBox=\"0 0 24 24\"\n",
              "     width=\"24px\">\n",
              "    <g>\n",
              "        <path d=\"M19 3H5c-1.1 0-2 .9-2 2v14c0 1.1.9 2 2 2h14c1.1 0 2-.9 2-2V5c0-1.1-.9-2-2-2zM9 17H7v-7h2v7zm4 0h-2V7h2v10zm4 0h-2v-4h2v4z\"/>\n",
              "    </g>\n",
              "</svg>\n",
              "  </button>\n",
              "\n",
              "<style>\n",
              "  .colab-df-quickchart {\n",
              "      --bg-color: #E8F0FE;\n",
              "      --fill-color: #1967D2;\n",
              "      --hover-bg-color: #E2EBFA;\n",
              "      --hover-fill-color: #174EA6;\n",
              "      --disabled-fill-color: #AAA;\n",
              "      --disabled-bg-color: #DDD;\n",
              "  }\n",
              "\n",
              "  [theme=dark] .colab-df-quickchart {\n",
              "      --bg-color: #3B4455;\n",
              "      --fill-color: #D2E3FC;\n",
              "      --hover-bg-color: #434B5C;\n",
              "      --hover-fill-color: #FFFFFF;\n",
              "      --disabled-bg-color: #3B4455;\n",
              "      --disabled-fill-color: #666;\n",
              "  }\n",
              "\n",
              "  .colab-df-quickchart {\n",
              "    background-color: var(--bg-color);\n",
              "    border: none;\n",
              "    border-radius: 50%;\n",
              "    cursor: pointer;\n",
              "    display: none;\n",
              "    fill: var(--fill-color);\n",
              "    height: 32px;\n",
              "    padding: 0;\n",
              "    width: 32px;\n",
              "  }\n",
              "\n",
              "  .colab-df-quickchart:hover {\n",
              "    background-color: var(--hover-bg-color);\n",
              "    box-shadow: 0 1px 2px rgba(60, 64, 67, 0.3), 0 1px 3px 1px rgba(60, 64, 67, 0.15);\n",
              "    fill: var(--button-hover-fill-color);\n",
              "  }\n",
              "\n",
              "  .colab-df-quickchart-complete:disabled,\n",
              "  .colab-df-quickchart-complete:disabled:hover {\n",
              "    background-color: var(--disabled-bg-color);\n",
              "    fill: var(--disabled-fill-color);\n",
              "    box-shadow: none;\n",
              "  }\n",
              "\n",
              "  .colab-df-spinner {\n",
              "    border: 2px solid var(--fill-color);\n",
              "    border-color: transparent;\n",
              "    border-bottom-color: var(--fill-color);\n",
              "    animation:\n",
              "      spin 1s steps(1) infinite;\n",
              "  }\n",
              "\n",
              "  @keyframes spin {\n",
              "    0% {\n",
              "      border-color: transparent;\n",
              "      border-bottom-color: var(--fill-color);\n",
              "      border-left-color: var(--fill-color);\n",
              "    }\n",
              "    20% {\n",
              "      border-color: transparent;\n",
              "      border-left-color: var(--fill-color);\n",
              "      border-top-color: var(--fill-color);\n",
              "    }\n",
              "    30% {\n",
              "      border-color: transparent;\n",
              "      border-left-color: var(--fill-color);\n",
              "      border-top-color: var(--fill-color);\n",
              "      border-right-color: var(--fill-color);\n",
              "    }\n",
              "    40% {\n",
              "      border-color: transparent;\n",
              "      border-right-color: var(--fill-color);\n",
              "      border-top-color: var(--fill-color);\n",
              "    }\n",
              "    60% {\n",
              "      border-color: transparent;\n",
              "      border-right-color: var(--fill-color);\n",
              "    }\n",
              "    80% {\n",
              "      border-color: transparent;\n",
              "      border-right-color: var(--fill-color);\n",
              "      border-bottom-color: var(--fill-color);\n",
              "    }\n",
              "    90% {\n",
              "      border-color: transparent;\n",
              "      border-bottom-color: var(--fill-color);\n",
              "    }\n",
              "  }\n",
              "</style>\n",
              "\n",
              "  <script>\n",
              "    async function quickchart(key) {\n",
              "      const quickchartButtonEl =\n",
              "        document.querySelector('#' + key + ' button');\n",
              "      quickchartButtonEl.disabled = true;  // To prevent multiple clicks.\n",
              "      quickchartButtonEl.classList.add('colab-df-spinner');\n",
              "      try {\n",
              "        const charts = await google.colab.kernel.invokeFunction(\n",
              "            'suggestCharts', [key], {});\n",
              "      } catch (error) {\n",
              "        console.error('Error during call to suggestCharts:', error);\n",
              "      }\n",
              "      quickchartButtonEl.classList.remove('colab-df-spinner');\n",
              "      quickchartButtonEl.classList.add('colab-df-quickchart-complete');\n",
              "    }\n",
              "    (() => {\n",
              "      let quickchartButtonEl =\n",
              "        document.querySelector('#df-813e7c78-61fd-4256-9738-9fb0c4243687 button');\n",
              "      quickchartButtonEl.style.display =\n",
              "        google.colab.kernel.accessAllowed ? 'block' : 'none';\n",
              "    })();\n",
              "  </script>\n",
              "</div>\n",
              "\n",
              "    </div>\n",
              "  </div>\n"
            ],
            "application/vnd.google.colaboratory.intrinsic+json": {
              "type": "dataframe"
            }
          },
          "metadata": {},
          "execution_count": 45
        }
      ],
      "source": [
        "#전체 데이터의 수치형 변수 분포 확인\n",
        "df_train.describe()"
      ]
    },
    {
      "cell_type": "code",
      "execution_count": 46,
      "metadata": {
        "id": "Jn78I6JFpr3n",
        "colab": {
          "base_uri": "https://localhost:8080/"
        },
        "collapsed": true,
        "outputId": "606cb58a-443f-4c0b-d782-3cb176d2fbde"
      },
      "outputs": [
        {
          "output_type": "execute_result",
          "data": {
            "text/plain": [
              "Index(['angle(X,gravityMean)', 'tGravityAcc-energy()-X', 'tGravityAcc-min()-Y',\n",
              "       'angle(Y,gravityMean)', 'tGravityAcc-max()-Y', 'tGravityAcc-mean()-X',\n",
              "       'tGravityAcc-max()-X', 'tGravityAcc-min()-X', 'tGravityAcc-mean()-Y',\n",
              "       'tGravityAcc-energy()-Y',\n",
              "       ...\n",
              "       'fBodyGyro-mean()-Y', 'tBodyGyro-energy()-Z',\n",
              "       'fBodyAccJerk-bandsEnergy()-1,8.2', 'tBodyAcc-mad()-Y',\n",
              "       'fBodyGyro-bandsEnergy()-25,48.2', 'fBodyBodyGyroMag-meanFreq()',\n",
              "       'fBodyAcc-max()-Y', 'fBodyBodyGyroMag-energy()', 'fBodyGyro-std()-Y',\n",
              "       'Activity'],\n",
              "      dtype='object', length=211)"
            ]
          },
          "metadata": {},
          "execution_count": 46
        }
      ],
      "source": [
        "#전체 데이터의 모든 변수 확인\n",
        "df_train.columns"
      ]
    },
    {
      "cell_type": "markdown",
      "metadata": {
        "id": "O38e5xai7SIW"
      },
      "source": [
        "## 2.데이터 전처리"
      ]
    },
    {
      "cell_type": "markdown",
      "metadata": {
        "id": "5vKH3MU30d8H"
      },
      "source": [
        "* 세부 요구사항\n",
        "    - Label 추가 : 1단계 모델을 위한 레이블 추가\n",
        "    - train : val = 8 : 2 혹은 7 : 3\n",
        "    - random_state 옵션을 사용하여 다른 모델과 비교를 위해 성능이 재현되도록 합니다."
      ]
    },
    {
      "cell_type": "markdown",
      "metadata": {
        "id": "wHxeKHxze2uL"
      },
      "source": [
        "### (1) 1단계 모델링을 위한 레이블"
      ]
    },
    {
      "cell_type": "code",
      "source": [
        "display(df_train['Activity'].value_counts()/len(df_train['Activity']))\n",
        "display(df_test['Activity'].value_counts())"
      ],
      "metadata": {
        "id": "uYiKJRNzs17B",
        "colab": {
          "base_uri": "https://localhost:8080/",
          "height": 590
        },
        "collapsed": true,
        "outputId": "217b64fa-edf3-4f9d-bead-7341d2165209"
      },
      "execution_count": 47,
      "outputs": [
        {
          "output_type": "display_data",
          "data": {
            "text/plain": [
              "Activity\n",
              "LAYING                0.189594\n",
              "STANDING              0.184833\n",
              "SITTING               0.175480\n",
              "WALKING               0.169699\n",
              "WALKING_UPSTAIRS      0.145894\n",
              "WALKING_DOWNSTAIRS    0.134501\n",
              "Name: count, dtype: float64"
            ],
            "text/html": [
              "<div>\n",
              "<style scoped>\n",
              "    .dataframe tbody tr th:only-of-type {\n",
              "        vertical-align: middle;\n",
              "    }\n",
              "\n",
              "    .dataframe tbody tr th {\n",
              "        vertical-align: top;\n",
              "    }\n",
              "\n",
              "    .dataframe thead th {\n",
              "        text-align: right;\n",
              "    }\n",
              "</style>\n",
              "<table border=\"1\" class=\"dataframe\">\n",
              "  <thead>\n",
              "    <tr style=\"text-align: right;\">\n",
              "      <th></th>\n",
              "      <th>count</th>\n",
              "    </tr>\n",
              "    <tr>\n",
              "      <th>Activity</th>\n",
              "      <th></th>\n",
              "    </tr>\n",
              "  </thead>\n",
              "  <tbody>\n",
              "    <tr>\n",
              "      <th>LAYING</th>\n",
              "      <td>0.189594</td>\n",
              "    </tr>\n",
              "    <tr>\n",
              "      <th>STANDING</th>\n",
              "      <td>0.184833</td>\n",
              "    </tr>\n",
              "    <tr>\n",
              "      <th>SITTING</th>\n",
              "      <td>0.175480</td>\n",
              "    </tr>\n",
              "    <tr>\n",
              "      <th>WALKING</th>\n",
              "      <td>0.169699</td>\n",
              "    </tr>\n",
              "    <tr>\n",
              "      <th>WALKING_UPSTAIRS</th>\n",
              "      <td>0.145894</td>\n",
              "    </tr>\n",
              "    <tr>\n",
              "      <th>WALKING_DOWNSTAIRS</th>\n",
              "      <td>0.134501</td>\n",
              "    </tr>\n",
              "  </tbody>\n",
              "</table>\n",
              "</div><br><label><b>dtype:</b> float64</label>"
            ]
          },
          "metadata": {}
        },
        {
          "output_type": "display_data",
          "data": {
            "text/plain": [
              "Activity\n",
              "LAYING                292\n",
              "STANDING              287\n",
              "SITTING               254\n",
              "WALKING               228\n",
              "WALKING_UPSTAIRS      215\n",
              "WALKING_DOWNSTAIRS    195\n",
              "Name: count, dtype: int64"
            ],
            "text/html": [
              "<div>\n",
              "<style scoped>\n",
              "    .dataframe tbody tr th:only-of-type {\n",
              "        vertical-align: middle;\n",
              "    }\n",
              "\n",
              "    .dataframe tbody tr th {\n",
              "        vertical-align: top;\n",
              "    }\n",
              "\n",
              "    .dataframe thead th {\n",
              "        text-align: right;\n",
              "    }\n",
              "</style>\n",
              "<table border=\"1\" class=\"dataframe\">\n",
              "  <thead>\n",
              "    <tr style=\"text-align: right;\">\n",
              "      <th></th>\n",
              "      <th>count</th>\n",
              "    </tr>\n",
              "    <tr>\n",
              "      <th>Activity</th>\n",
              "      <th></th>\n",
              "    </tr>\n",
              "  </thead>\n",
              "  <tbody>\n",
              "    <tr>\n",
              "      <th>LAYING</th>\n",
              "      <td>292</td>\n",
              "    </tr>\n",
              "    <tr>\n",
              "      <th>STANDING</th>\n",
              "      <td>287</td>\n",
              "    </tr>\n",
              "    <tr>\n",
              "      <th>SITTING</th>\n",
              "      <td>254</td>\n",
              "    </tr>\n",
              "    <tr>\n",
              "      <th>WALKING</th>\n",
              "      <td>228</td>\n",
              "    </tr>\n",
              "    <tr>\n",
              "      <th>WALKING_UPSTAIRS</th>\n",
              "      <td>215</td>\n",
              "    </tr>\n",
              "    <tr>\n",
              "      <th>WALKING_DOWNSTAIRS</th>\n",
              "      <td>195</td>\n",
              "    </tr>\n",
              "  </tbody>\n",
              "</table>\n",
              "</div><br><label><b>dtype:</b> int64</label>"
            ]
          },
          "metadata": {}
        }
      ]
    },
    {
      "cell_type": "code",
      "execution_count": 48,
      "metadata": {
        "id": "bT3ScKtUe76_",
        "colab": {
          "base_uri": "https://localhost:8080/"
        },
        "collapsed": true,
        "outputId": "042b1688-dffd-41e2-fe7a-9f1d28866752"
      },
      "outputs": [
        {
          "output_type": "stream",
          "name": "stdout",
          "text": [
            "is_dynamic\n",
            "0    3234\n",
            "1    2647\n",
            "Name: count, dtype: int64\n",
            "is_dynamic\n",
            "0    833\n",
            "1    638\n",
            "Name: count, dtype: int64\n"
          ]
        }
      ],
      "source": [
        "def assign_dynamic_label(df):\n",
        "    df['is_dynamic'] = np.where(df['Activity'].isin(['STANDING', 'SITTING', 'LAYING']), 0, 1)\n",
        "    return df\n",
        "\n",
        "df_train = assign_dynamic_label(df_train)\n",
        "df_test = assign_dynamic_label(df_test)\n",
        "\n",
        "print(df_train['is_dynamic'].value_counts())\n",
        "print(df_test['is_dynamic'].value_counts())"
      ]
    },
    {
      "cell_type": "markdown",
      "metadata": {
        "id": "uAsBmDupKQX8"
      },
      "source": [
        "### (2) x, y 분리"
      ]
    },
    {
      "cell_type": "code",
      "execution_count": 49,
      "metadata": {
        "id": "JVOseiQLKMoq"
      },
      "outputs": [],
      "source": [
        "# 1단계 모델 데이터 준비 (전체 데이터)\n",
        "x = df_train.drop(['is_dynamic', 'Activity'], axis=1)\n",
        "y = df_train['is_dynamic']\n",
        "\n",
        "x_test_all = df_test.drop(['is_dynamic', 'Activity'], axis=1)\n",
        "y_test_all = df_test['is_dynamic']"
      ]
    },
    {
      "cell_type": "markdown",
      "metadata": {
        "id": "A8hxVzM3Agvw"
      },
      "source": [
        "### (3) 스케일링\n"
      ]
    },
    {
      "cell_type": "markdown",
      "metadata": {
        "id": "8OHAQJ9HJZP8"
      },
      "source": [
        "* 세부 요구사항\n",
        "    - 스케일링을 필요로 하는 알고리즘 사용을 위해서 코드 수행\n",
        "    - min-max 방식 혹은 standard 방식 중 한가지 사용."
      ]
    },
    {
      "cell_type": "code",
      "source": [
        "x.head()"
      ],
      "metadata": {
        "id": "MkeO02g-t7M9",
        "colab": {
          "base_uri": "https://localhost:8080/",
          "height": 273
        },
        "collapsed": true,
        "outputId": "542f0da5-8799-48b2-c617-63243d950530"
      },
      "execution_count": 50,
      "outputs": [
        {
          "output_type": "execute_result",
          "data": {
            "text/plain": [
              "   angle(X,gravityMean)  tGravityAcc-energy()-X  tGravityAcc-min()-Y  \\\n",
              "0             -0.601120                0.673768            -0.334921   \n",
              "1              0.345205               -0.893830             0.937432   \n",
              "2             -0.833564                0.906252            -0.145801   \n",
              "3             -0.695819                0.805419            -0.275699   \n",
              "4             -0.705029                0.738738            -0.263482   \n",
              "\n",
              "   angle(Y,gravityMean)  tGravityAcc-max()-Y  tGravityAcc-mean()-X  \\\n",
              "0              0.331298            -0.370494              0.875254   \n",
              "1             -0.769186             0.873312             -0.134711   \n",
              "2              0.202434            -0.195671              0.965965   \n",
              "3              0.287154            -0.309430              0.927343   \n",
              "4              0.264952            -0.236084              0.901125   \n",
              "\n",
              "   tGravityAcc-max()-X  tGravityAcc-min()-X  tGravityAcc-mean()-Y  \\\n",
              "0             0.805627             0.891969             -0.358842   \n",
              "1            -0.200892            -0.095343              0.924656   \n",
              "2             0.891615             0.985606             -0.174095   \n",
              "3             0.858160             0.943954             -0.297703   \n",
              "4             0.858531             0.901943             -0.260540   \n",
              "\n",
              "   tGravityAcc-energy()-Y  ...  tGravityAcc-std()-Z  fBodyGyro-mean()-Y  \\\n",
              "0               -0.775936  ...            -0.970475           -0.974264   \n",
              "1                0.714508  ...            -0.988593           -0.978759   \n",
              "2               -0.953043  ...            -0.997672           -0.995670   \n",
              "3               -0.849096  ...            -0.953040           -0.463715   \n",
              "4               -0.885215  ...            -0.621825           -0.619732   \n",
              "\n",
              "   tBodyGyro-energy()-Z  fBodyAccJerk-bandsEnergy()-1,8.2  tBodyAcc-mad()-Y  \\\n",
              "0             -0.999479                         -0.999709         -0.962596   \n",
              "1             -0.999887                         -0.999932         -0.993870   \n",
              "2             -0.999876                         -0.999963         -0.982187   \n",
              "3             -0.808021                         -0.899938          0.014245   \n",
              "4             -0.819772                         -0.870319         -0.109680   \n",
              "\n",
              "   fBodyGyro-bandsEnergy()-25,48.2  fBodyBodyGyroMag-meanFreq()  \\\n",
              "0                        -0.999906                    -0.248487   \n",
              "1                        -0.999960                    -0.288496   \n",
              "2                        -0.999943                     0.375361   \n",
              "3                        -0.877453                     0.136491   \n",
              "4                        -0.984466                    -0.350359   \n",
              "\n",
              "   fBodyAcc-max()-Y  fBodyBodyGyroMag-energy()  fBodyGyro-std()-Y  \n",
              "0         -0.963993                  -0.999448          -0.965697  \n",
              "1         -0.996704                  -0.999576          -0.975541  \n",
              "2         -0.991351                  -0.999940          -0.996758  \n",
              "3         -0.231513                  -0.849297          -0.417537  \n",
              "4         -0.431145                  -0.714778          -0.551035  \n",
              "\n",
              "[5 rows x 210 columns]"
            ],
            "text/html": [
              "\n",
              "  <div id=\"df-6a2808db-762b-4d61-a3f1-975f99894935\" class=\"colab-df-container\">\n",
              "    <div>\n",
              "<style scoped>\n",
              "    .dataframe tbody tr th:only-of-type {\n",
              "        vertical-align: middle;\n",
              "    }\n",
              "\n",
              "    .dataframe tbody tr th {\n",
              "        vertical-align: top;\n",
              "    }\n",
              "\n",
              "    .dataframe thead th {\n",
              "        text-align: right;\n",
              "    }\n",
              "</style>\n",
              "<table border=\"1\" class=\"dataframe\">\n",
              "  <thead>\n",
              "    <tr style=\"text-align: right;\">\n",
              "      <th></th>\n",
              "      <th>angle(X,gravityMean)</th>\n",
              "      <th>tGravityAcc-energy()-X</th>\n",
              "      <th>tGravityAcc-min()-Y</th>\n",
              "      <th>angle(Y,gravityMean)</th>\n",
              "      <th>tGravityAcc-max()-Y</th>\n",
              "      <th>tGravityAcc-mean()-X</th>\n",
              "      <th>tGravityAcc-max()-X</th>\n",
              "      <th>tGravityAcc-min()-X</th>\n",
              "      <th>tGravityAcc-mean()-Y</th>\n",
              "      <th>tGravityAcc-energy()-Y</th>\n",
              "      <th>...</th>\n",
              "      <th>tGravityAcc-std()-Z</th>\n",
              "      <th>fBodyGyro-mean()-Y</th>\n",
              "      <th>tBodyGyro-energy()-Z</th>\n",
              "      <th>fBodyAccJerk-bandsEnergy()-1,8.2</th>\n",
              "      <th>tBodyAcc-mad()-Y</th>\n",
              "      <th>fBodyGyro-bandsEnergy()-25,48.2</th>\n",
              "      <th>fBodyBodyGyroMag-meanFreq()</th>\n",
              "      <th>fBodyAcc-max()-Y</th>\n",
              "      <th>fBodyBodyGyroMag-energy()</th>\n",
              "      <th>fBodyGyro-std()-Y</th>\n",
              "    </tr>\n",
              "  </thead>\n",
              "  <tbody>\n",
              "    <tr>\n",
              "      <th>0</th>\n",
              "      <td>-0.601120</td>\n",
              "      <td>0.673768</td>\n",
              "      <td>-0.334921</td>\n",
              "      <td>0.331298</td>\n",
              "      <td>-0.370494</td>\n",
              "      <td>0.875254</td>\n",
              "      <td>0.805627</td>\n",
              "      <td>0.891969</td>\n",
              "      <td>-0.358842</td>\n",
              "      <td>-0.775936</td>\n",
              "      <td>...</td>\n",
              "      <td>-0.970475</td>\n",
              "      <td>-0.974264</td>\n",
              "      <td>-0.999479</td>\n",
              "      <td>-0.999709</td>\n",
              "      <td>-0.962596</td>\n",
              "      <td>-0.999906</td>\n",
              "      <td>-0.248487</td>\n",
              "      <td>-0.963993</td>\n",
              "      <td>-0.999448</td>\n",
              "      <td>-0.965697</td>\n",
              "    </tr>\n",
              "    <tr>\n",
              "      <th>1</th>\n",
              "      <td>0.345205</td>\n",
              "      <td>-0.893830</td>\n",
              "      <td>0.937432</td>\n",
              "      <td>-0.769186</td>\n",
              "      <td>0.873312</td>\n",
              "      <td>-0.134711</td>\n",
              "      <td>-0.200892</td>\n",
              "      <td>-0.095343</td>\n",
              "      <td>0.924656</td>\n",
              "      <td>0.714508</td>\n",
              "      <td>...</td>\n",
              "      <td>-0.988593</td>\n",
              "      <td>-0.978759</td>\n",
              "      <td>-0.999887</td>\n",
              "      <td>-0.999932</td>\n",
              "      <td>-0.993870</td>\n",
              "      <td>-0.999960</td>\n",
              "      <td>-0.288496</td>\n",
              "      <td>-0.996704</td>\n",
              "      <td>-0.999576</td>\n",
              "      <td>-0.975541</td>\n",
              "    </tr>\n",
              "    <tr>\n",
              "      <th>2</th>\n",
              "      <td>-0.833564</td>\n",
              "      <td>0.906252</td>\n",
              "      <td>-0.145801</td>\n",
              "      <td>0.202434</td>\n",
              "      <td>-0.195671</td>\n",
              "      <td>0.965965</td>\n",
              "      <td>0.891615</td>\n",
              "      <td>0.985606</td>\n",
              "      <td>-0.174095</td>\n",
              "      <td>-0.953043</td>\n",
              "      <td>...</td>\n",
              "      <td>-0.997672</td>\n",
              "      <td>-0.995670</td>\n",
              "      <td>-0.999876</td>\n",
              "      <td>-0.999963</td>\n",
              "      <td>-0.982187</td>\n",
              "      <td>-0.999943</td>\n",
              "      <td>0.375361</td>\n",
              "      <td>-0.991351</td>\n",
              "      <td>-0.999940</td>\n",
              "      <td>-0.996758</td>\n",
              "    </tr>\n",
              "    <tr>\n",
              "      <th>3</th>\n",
              "      <td>-0.695819</td>\n",
              "      <td>0.805419</td>\n",
              "      <td>-0.275699</td>\n",
              "      <td>0.287154</td>\n",
              "      <td>-0.309430</td>\n",
              "      <td>0.927343</td>\n",
              "      <td>0.858160</td>\n",
              "      <td>0.943954</td>\n",
              "      <td>-0.297703</td>\n",
              "      <td>-0.849096</td>\n",
              "      <td>...</td>\n",
              "      <td>-0.953040</td>\n",
              "      <td>-0.463715</td>\n",
              "      <td>-0.808021</td>\n",
              "      <td>-0.899938</td>\n",
              "      <td>0.014245</td>\n",
              "      <td>-0.877453</td>\n",
              "      <td>0.136491</td>\n",
              "      <td>-0.231513</td>\n",
              "      <td>-0.849297</td>\n",
              "      <td>-0.417537</td>\n",
              "    </tr>\n",
              "    <tr>\n",
              "      <th>4</th>\n",
              "      <td>-0.705029</td>\n",
              "      <td>0.738738</td>\n",
              "      <td>-0.263482</td>\n",
              "      <td>0.264952</td>\n",
              "      <td>-0.236084</td>\n",
              "      <td>0.901125</td>\n",
              "      <td>0.858531</td>\n",
              "      <td>0.901943</td>\n",
              "      <td>-0.260540</td>\n",
              "      <td>-0.885215</td>\n",
              "      <td>...</td>\n",
              "      <td>-0.621825</td>\n",
              "      <td>-0.619732</td>\n",
              "      <td>-0.819772</td>\n",
              "      <td>-0.870319</td>\n",
              "      <td>-0.109680</td>\n",
              "      <td>-0.984466</td>\n",
              "      <td>-0.350359</td>\n",
              "      <td>-0.431145</td>\n",
              "      <td>-0.714778</td>\n",
              "      <td>-0.551035</td>\n",
              "    </tr>\n",
              "  </tbody>\n",
              "</table>\n",
              "<p>5 rows × 210 columns</p>\n",
              "</div>\n",
              "    <div class=\"colab-df-buttons\">\n",
              "\n",
              "  <div class=\"colab-df-container\">\n",
              "    <button class=\"colab-df-convert\" onclick=\"convertToInteractive('df-6a2808db-762b-4d61-a3f1-975f99894935')\"\n",
              "            title=\"Convert this dataframe to an interactive table.\"\n",
              "            style=\"display:none;\">\n",
              "\n",
              "  <svg xmlns=\"http://www.w3.org/2000/svg\" height=\"24px\" viewBox=\"0 -960 960 960\">\n",
              "    <path d=\"M120-120v-720h720v720H120Zm60-500h600v-160H180v160Zm220 220h160v-160H400v160Zm0 220h160v-160H400v160ZM180-400h160v-160H180v160Zm440 0h160v-160H620v160ZM180-180h160v-160H180v160Zm440 0h160v-160H620v160Z\"/>\n",
              "  </svg>\n",
              "    </button>\n",
              "\n",
              "  <style>\n",
              "    .colab-df-container {\n",
              "      display:flex;\n",
              "      gap: 12px;\n",
              "    }\n",
              "\n",
              "    .colab-df-convert {\n",
              "      background-color: #E8F0FE;\n",
              "      border: none;\n",
              "      border-radius: 50%;\n",
              "      cursor: pointer;\n",
              "      display: none;\n",
              "      fill: #1967D2;\n",
              "      height: 32px;\n",
              "      padding: 0 0 0 0;\n",
              "      width: 32px;\n",
              "    }\n",
              "\n",
              "    .colab-df-convert:hover {\n",
              "      background-color: #E2EBFA;\n",
              "      box-shadow: 0px 1px 2px rgba(60, 64, 67, 0.3), 0px 1px 3px 1px rgba(60, 64, 67, 0.15);\n",
              "      fill: #174EA6;\n",
              "    }\n",
              "\n",
              "    .colab-df-buttons div {\n",
              "      margin-bottom: 4px;\n",
              "    }\n",
              "\n",
              "    [theme=dark] .colab-df-convert {\n",
              "      background-color: #3B4455;\n",
              "      fill: #D2E3FC;\n",
              "    }\n",
              "\n",
              "    [theme=dark] .colab-df-convert:hover {\n",
              "      background-color: #434B5C;\n",
              "      box-shadow: 0px 1px 3px 1px rgba(0, 0, 0, 0.15);\n",
              "      filter: drop-shadow(0px 1px 2px rgba(0, 0, 0, 0.3));\n",
              "      fill: #FFFFFF;\n",
              "    }\n",
              "  </style>\n",
              "\n",
              "    <script>\n",
              "      const buttonEl =\n",
              "        document.querySelector('#df-6a2808db-762b-4d61-a3f1-975f99894935 button.colab-df-convert');\n",
              "      buttonEl.style.display =\n",
              "        google.colab.kernel.accessAllowed ? 'block' : 'none';\n",
              "\n",
              "      async function convertToInteractive(key) {\n",
              "        const element = document.querySelector('#df-6a2808db-762b-4d61-a3f1-975f99894935');\n",
              "        const dataTable =\n",
              "          await google.colab.kernel.invokeFunction('convertToInteractive',\n",
              "                                                    [key], {});\n",
              "        if (!dataTable) return;\n",
              "\n",
              "        const docLinkHtml = 'Like what you see? Visit the ' +\n",
              "          '<a target=\"_blank\" href=https://colab.research.google.com/notebooks/data_table.ipynb>data table notebook</a>'\n",
              "          + ' to learn more about interactive tables.';\n",
              "        element.innerHTML = '';\n",
              "        dataTable['output_type'] = 'display_data';\n",
              "        await google.colab.output.renderOutput(dataTable, element);\n",
              "        const docLink = document.createElement('div');\n",
              "        docLink.innerHTML = docLinkHtml;\n",
              "        element.appendChild(docLink);\n",
              "      }\n",
              "    </script>\n",
              "  </div>\n",
              "\n",
              "\n",
              "<div id=\"df-47bfae2c-614c-4beb-b7e1-05d8c37b2a2e\">\n",
              "  <button class=\"colab-df-quickchart\" onclick=\"quickchart('df-47bfae2c-614c-4beb-b7e1-05d8c37b2a2e')\"\n",
              "            title=\"Suggest charts\"\n",
              "            style=\"display:none;\">\n",
              "\n",
              "<svg xmlns=\"http://www.w3.org/2000/svg\" height=\"24px\"viewBox=\"0 0 24 24\"\n",
              "     width=\"24px\">\n",
              "    <g>\n",
              "        <path d=\"M19 3H5c-1.1 0-2 .9-2 2v14c0 1.1.9 2 2 2h14c1.1 0 2-.9 2-2V5c0-1.1-.9-2-2-2zM9 17H7v-7h2v7zm4 0h-2V7h2v10zm4 0h-2v-4h2v4z\"/>\n",
              "    </g>\n",
              "</svg>\n",
              "  </button>\n",
              "\n",
              "<style>\n",
              "  .colab-df-quickchart {\n",
              "      --bg-color: #E8F0FE;\n",
              "      --fill-color: #1967D2;\n",
              "      --hover-bg-color: #E2EBFA;\n",
              "      --hover-fill-color: #174EA6;\n",
              "      --disabled-fill-color: #AAA;\n",
              "      --disabled-bg-color: #DDD;\n",
              "  }\n",
              "\n",
              "  [theme=dark] .colab-df-quickchart {\n",
              "      --bg-color: #3B4455;\n",
              "      --fill-color: #D2E3FC;\n",
              "      --hover-bg-color: #434B5C;\n",
              "      --hover-fill-color: #FFFFFF;\n",
              "      --disabled-bg-color: #3B4455;\n",
              "      --disabled-fill-color: #666;\n",
              "  }\n",
              "\n",
              "  .colab-df-quickchart {\n",
              "    background-color: var(--bg-color);\n",
              "    border: none;\n",
              "    border-radius: 50%;\n",
              "    cursor: pointer;\n",
              "    display: none;\n",
              "    fill: var(--fill-color);\n",
              "    height: 32px;\n",
              "    padding: 0;\n",
              "    width: 32px;\n",
              "  }\n",
              "\n",
              "  .colab-df-quickchart:hover {\n",
              "    background-color: var(--hover-bg-color);\n",
              "    box-shadow: 0 1px 2px rgba(60, 64, 67, 0.3), 0 1px 3px 1px rgba(60, 64, 67, 0.15);\n",
              "    fill: var(--button-hover-fill-color);\n",
              "  }\n",
              "\n",
              "  .colab-df-quickchart-complete:disabled,\n",
              "  .colab-df-quickchart-complete:disabled:hover {\n",
              "    background-color: var(--disabled-bg-color);\n",
              "    fill: var(--disabled-fill-color);\n",
              "    box-shadow: none;\n",
              "  }\n",
              "\n",
              "  .colab-df-spinner {\n",
              "    border: 2px solid var(--fill-color);\n",
              "    border-color: transparent;\n",
              "    border-bottom-color: var(--fill-color);\n",
              "    animation:\n",
              "      spin 1s steps(1) infinite;\n",
              "  }\n",
              "\n",
              "  @keyframes spin {\n",
              "    0% {\n",
              "      border-color: transparent;\n",
              "      border-bottom-color: var(--fill-color);\n",
              "      border-left-color: var(--fill-color);\n",
              "    }\n",
              "    20% {\n",
              "      border-color: transparent;\n",
              "      border-left-color: var(--fill-color);\n",
              "      border-top-color: var(--fill-color);\n",
              "    }\n",
              "    30% {\n",
              "      border-color: transparent;\n",
              "      border-left-color: var(--fill-color);\n",
              "      border-top-color: var(--fill-color);\n",
              "      border-right-color: var(--fill-color);\n",
              "    }\n",
              "    40% {\n",
              "      border-color: transparent;\n",
              "      border-right-color: var(--fill-color);\n",
              "      border-top-color: var(--fill-color);\n",
              "    }\n",
              "    60% {\n",
              "      border-color: transparent;\n",
              "      border-right-color: var(--fill-color);\n",
              "    }\n",
              "    80% {\n",
              "      border-color: transparent;\n",
              "      border-right-color: var(--fill-color);\n",
              "      border-bottom-color: var(--fill-color);\n",
              "    }\n",
              "    90% {\n",
              "      border-color: transparent;\n",
              "      border-bottom-color: var(--fill-color);\n",
              "    }\n",
              "  }\n",
              "</style>\n",
              "\n",
              "  <script>\n",
              "    async function quickchart(key) {\n",
              "      const quickchartButtonEl =\n",
              "        document.querySelector('#' + key + ' button');\n",
              "      quickchartButtonEl.disabled = true;  // To prevent multiple clicks.\n",
              "      quickchartButtonEl.classList.add('colab-df-spinner');\n",
              "      try {\n",
              "        const charts = await google.colab.kernel.invokeFunction(\n",
              "            'suggestCharts', [key], {});\n",
              "      } catch (error) {\n",
              "        console.error('Error during call to suggestCharts:', error);\n",
              "      }\n",
              "      quickchartButtonEl.classList.remove('colab-df-spinner');\n",
              "      quickchartButtonEl.classList.add('colab-df-quickchart-complete');\n",
              "    }\n",
              "    (() => {\n",
              "      let quickchartButtonEl =\n",
              "        document.querySelector('#df-47bfae2c-614c-4beb-b7e1-05d8c37b2a2e button');\n",
              "      quickchartButtonEl.style.display =\n",
              "        google.colab.kernel.accessAllowed ? 'block' : 'none';\n",
              "    })();\n",
              "  </script>\n",
              "</div>\n",
              "\n",
              "    </div>\n",
              "  </div>\n"
            ],
            "application/vnd.google.colaboratory.intrinsic+json": {
              "type": "dataframe",
              "variable_name": "x"
            }
          },
          "metadata": {},
          "execution_count": 50
        }
      ]
    },
    {
      "cell_type": "code",
      "execution_count": 51,
      "metadata": {
        "id": "egLANGC5BMmk"
      },
      "outputs": [],
      "source": [
        "#스케일링 방식을 선택해서 스케일링을 진행합니다.\n",
        "from sklearn.preprocessing import StandardScaler\n",
        "scaler_stage1 = StandardScaler()\n",
        "x_scaled = scaler_stage1.fit_transform(x)\n",
        "x_test_stage1 = scaler_stage1.transform(x_test_all)"
      ]
    },
    {
      "cell_type": "markdown",
      "metadata": {
        "id": "TH_rqRv6jA9V"
      },
      "source": [
        "### (4) 데이터 분할\n",
        "* train, val 분할"
      ]
    },
    {
      "cell_type": "code",
      "execution_count": 52,
      "metadata": {
        "id": "EATFZQZpx5yR",
        "colab": {
          "base_uri": "https://localhost:8080/"
        },
        "collapsed": true,
        "outputId": "d24824da-f8e5-4c1d-ab30-5e7f982194d1"
      },
      "outputs": [
        {
          "output_type": "stream",
          "name": "stdout",
          "text": [
            "(4704, 210) (1177, 210) (4704,) (1177,)\n"
          ]
        }
      ],
      "source": [
        "#데이터 분할 진행(train:val = 8:2 혹은 7:3 권장)\n",
        "x_train, x_val, y_train, y_val = train_test_split(x_scaled, y, test_size=0.2, stratify=y)\n",
        "print(x_train.shape, x_val.shape, y_train.shape, y_val.shape)"
      ]
    },
    {
      "cell_type": "markdown",
      "metadata": {
        "id": "bue7ZTLABQzi"
      },
      "source": [
        "## **3.단계별 모델링**"
      ]
    },
    {
      "cell_type": "markdown",
      "metadata": {
        "id": "fCpsgFz40pJ3"
      },
      "source": [
        "### (1) 단계1"
      ]
    },
    {
      "cell_type": "markdown",
      "metadata": {
        "id": "JtwoYR2e0pJ3"
      },
      "source": [
        "* 세부 요구사항\n",
        "    * 적절한 단계로 구분한 후, 1단계를 분류하는 모델 생성\n",
        "        * 예시 : 정적 행동(Laying, Sitting, Standing)과 동적 행동(동적 : Walking, Walking-Up, Walking-Down)을 구분하는 모델 생성.\n",
        "    * 몇 가지 모델을 만들고 가장 성능이 좋은 모델을 선정하시오.(기본 모델링 참고)"
      ]
    },
    {
      "cell_type": "markdown",
      "metadata": {
        "id": "cWYtB_nUD6zu"
      },
      "source": [
        "#### 1) 모델1"
      ]
    },
    {
      "cell_type": "code",
      "execution_count": 82,
      "metadata": {
        "id": "6lV2HRaPf4k8",
        "colab": {
          "base_uri": "https://localhost:8080/",
          "height": 703
        },
        "collapsed": true,
        "outputId": "9143f23a-f5d9-485c-c24e-e0eaab450b59"
      },
      "outputs": [
        {
          "output_type": "stream",
          "name": "stderr",
          "text": [
            "/usr/local/lib/python3.11/dist-packages/keras/src/layers/core/dense.py:87: UserWarning: Do not pass an `input_shape`/`input_dim` argument to a layer. When using Sequential models, prefer using an `Input(shape)` object as the first layer in the model instead.\n",
            "  super().__init__(activity_regularizer=activity_regularizer, **kwargs)\n"
          ]
        },
        {
          "output_type": "display_data",
          "data": {
            "text/plain": [
              "\u001b[1mModel: \"sequential_7\"\u001b[0m\n"
            ],
            "text/html": [
              "<pre style=\"white-space:pre;overflow-x:auto;line-height:normal;font-family:Menlo,'DejaVu Sans Mono',consolas,'Courier New',monospace\"><span style=\"font-weight: bold\">Model: \"sequential_7\"</span>\n",
              "</pre>\n"
            ]
          },
          "metadata": {}
        },
        {
          "output_type": "display_data",
          "data": {
            "text/plain": [
              "┏━━━━━━━━━━━━━━━━━━━━━━━━━━━━━━━━━┳━━━━━━━━━━━━━━━━━━━━━━━━┳━━━━━━━━━━━━━━━┓\n",
              "┃\u001b[1m \u001b[0m\u001b[1mLayer (type)                   \u001b[0m\u001b[1m \u001b[0m┃\u001b[1m \u001b[0m\u001b[1mOutput Shape          \u001b[0m\u001b[1m \u001b[0m┃\u001b[1m \u001b[0m\u001b[1m      Param #\u001b[0m\u001b[1m \u001b[0m┃\n",
              "┡━━━━━━━━━━━━━━━━━━━━━━━━━━━━━━━━━╇━━━━━━━━━━━━━━━━━━━━━━━━╇━━━━━━━━━━━━━━━┩\n",
              "│ dense_31 (\u001b[38;5;33mDense\u001b[0m)                │ (\u001b[38;5;45mNone\u001b[0m, \u001b[38;5;34m256\u001b[0m)            │        \u001b[38;5;34m54,016\u001b[0m │\n",
              "├─────────────────────────────────┼────────────────────────┼───────────────┤\n",
              "│ dropout_25 (\u001b[38;5;33mDropout\u001b[0m)            │ (\u001b[38;5;45mNone\u001b[0m, \u001b[38;5;34m256\u001b[0m)            │             \u001b[38;5;34m0\u001b[0m │\n",
              "├─────────────────────────────────┼────────────────────────┼───────────────┤\n",
              "│ batch_normalization_24          │ (\u001b[38;5;45mNone\u001b[0m, \u001b[38;5;34m256\u001b[0m)            │         \u001b[38;5;34m1,024\u001b[0m │\n",
              "│ (\u001b[38;5;33mBatchNormalization\u001b[0m)            │                        │               │\n",
              "├─────────────────────────────────┼────────────────────────┼───────────────┤\n",
              "│ dense_32 (\u001b[38;5;33mDense\u001b[0m)                │ (\u001b[38;5;45mNone\u001b[0m, \u001b[38;5;34m128\u001b[0m)            │        \u001b[38;5;34m32,896\u001b[0m │\n",
              "├─────────────────────────────────┼────────────────────────┼───────────────┤\n",
              "│ dropout_26 (\u001b[38;5;33mDropout\u001b[0m)            │ (\u001b[38;5;45mNone\u001b[0m, \u001b[38;5;34m128\u001b[0m)            │             \u001b[38;5;34m0\u001b[0m │\n",
              "├─────────────────────────────────┼────────────────────────┼───────────────┤\n",
              "│ batch_normalization_25          │ (\u001b[38;5;45mNone\u001b[0m, \u001b[38;5;34m128\u001b[0m)            │           \u001b[38;5;34m512\u001b[0m │\n",
              "│ (\u001b[38;5;33mBatchNormalization\u001b[0m)            │                        │               │\n",
              "├─────────────────────────────────┼────────────────────────┼───────────────┤\n",
              "│ dense_33 (\u001b[38;5;33mDense\u001b[0m)                │ (\u001b[38;5;45mNone\u001b[0m, \u001b[38;5;34m64\u001b[0m)             │         \u001b[38;5;34m8,256\u001b[0m │\n",
              "├─────────────────────────────────┼────────────────────────┼───────────────┤\n",
              "│ dropout_27 (\u001b[38;5;33mDropout\u001b[0m)            │ (\u001b[38;5;45mNone\u001b[0m, \u001b[38;5;34m64\u001b[0m)             │             \u001b[38;5;34m0\u001b[0m │\n",
              "├─────────────────────────────────┼────────────────────────┼───────────────┤\n",
              "│ batch_normalization_26          │ (\u001b[38;5;45mNone\u001b[0m, \u001b[38;5;34m64\u001b[0m)             │           \u001b[38;5;34m256\u001b[0m │\n",
              "│ (\u001b[38;5;33mBatchNormalization\u001b[0m)            │                        │               │\n",
              "├─────────────────────────────────┼────────────────────────┼───────────────┤\n",
              "│ dense_34 (\u001b[38;5;33mDense\u001b[0m)                │ (\u001b[38;5;45mNone\u001b[0m, \u001b[38;5;34m32\u001b[0m)             │         \u001b[38;5;34m2,080\u001b[0m │\n",
              "├─────────────────────────────────┼────────────────────────┼───────────────┤\n",
              "│ dropout_28 (\u001b[38;5;33mDropout\u001b[0m)            │ (\u001b[38;5;45mNone\u001b[0m, \u001b[38;5;34m32\u001b[0m)             │             \u001b[38;5;34m0\u001b[0m │\n",
              "├─────────────────────────────────┼────────────────────────┼───────────────┤\n",
              "│ batch_normalization_27          │ (\u001b[38;5;45mNone\u001b[0m, \u001b[38;5;34m32\u001b[0m)             │           \u001b[38;5;34m128\u001b[0m │\n",
              "│ (\u001b[38;5;33mBatchNormalization\u001b[0m)            │                        │               │\n",
              "├─────────────────────────────────┼────────────────────────┼───────────────┤\n",
              "│ dense_35 (\u001b[38;5;33mDense\u001b[0m)                │ (\u001b[38;5;45mNone\u001b[0m, \u001b[38;5;34m1\u001b[0m)              │            \u001b[38;5;34m33\u001b[0m │\n",
              "└─────────────────────────────────┴────────────────────────┴───────────────┘\n"
            ],
            "text/html": [
              "<pre style=\"white-space:pre;overflow-x:auto;line-height:normal;font-family:Menlo,'DejaVu Sans Mono',consolas,'Courier New',monospace\">┏━━━━━━━━━━━━━━━━━━━━━━━━━━━━━━━━━┳━━━━━━━━━━━━━━━━━━━━━━━━┳━━━━━━━━━━━━━━━┓\n",
              "┃<span style=\"font-weight: bold\"> Layer (type)                    </span>┃<span style=\"font-weight: bold\"> Output Shape           </span>┃<span style=\"font-weight: bold\">       Param # </span>┃\n",
              "┡━━━━━━━━━━━━━━━━━━━━━━━━━━━━━━━━━╇━━━━━━━━━━━━━━━━━━━━━━━━╇━━━━━━━━━━━━━━━┩\n",
              "│ dense_31 (<span style=\"color: #0087ff; text-decoration-color: #0087ff\">Dense</span>)                │ (<span style=\"color: #00d7ff; text-decoration-color: #00d7ff\">None</span>, <span style=\"color: #00af00; text-decoration-color: #00af00\">256</span>)            │        <span style=\"color: #00af00; text-decoration-color: #00af00\">54,016</span> │\n",
              "├─────────────────────────────────┼────────────────────────┼───────────────┤\n",
              "│ dropout_25 (<span style=\"color: #0087ff; text-decoration-color: #0087ff\">Dropout</span>)            │ (<span style=\"color: #00d7ff; text-decoration-color: #00d7ff\">None</span>, <span style=\"color: #00af00; text-decoration-color: #00af00\">256</span>)            │             <span style=\"color: #00af00; text-decoration-color: #00af00\">0</span> │\n",
              "├─────────────────────────────────┼────────────────────────┼───────────────┤\n",
              "│ batch_normalization_24          │ (<span style=\"color: #00d7ff; text-decoration-color: #00d7ff\">None</span>, <span style=\"color: #00af00; text-decoration-color: #00af00\">256</span>)            │         <span style=\"color: #00af00; text-decoration-color: #00af00\">1,024</span> │\n",
              "│ (<span style=\"color: #0087ff; text-decoration-color: #0087ff\">BatchNormalization</span>)            │                        │               │\n",
              "├─────────────────────────────────┼────────────────────────┼───────────────┤\n",
              "│ dense_32 (<span style=\"color: #0087ff; text-decoration-color: #0087ff\">Dense</span>)                │ (<span style=\"color: #00d7ff; text-decoration-color: #00d7ff\">None</span>, <span style=\"color: #00af00; text-decoration-color: #00af00\">128</span>)            │        <span style=\"color: #00af00; text-decoration-color: #00af00\">32,896</span> │\n",
              "├─────────────────────────────────┼────────────────────────┼───────────────┤\n",
              "│ dropout_26 (<span style=\"color: #0087ff; text-decoration-color: #0087ff\">Dropout</span>)            │ (<span style=\"color: #00d7ff; text-decoration-color: #00d7ff\">None</span>, <span style=\"color: #00af00; text-decoration-color: #00af00\">128</span>)            │             <span style=\"color: #00af00; text-decoration-color: #00af00\">0</span> │\n",
              "├─────────────────────────────────┼────────────────────────┼───────────────┤\n",
              "│ batch_normalization_25          │ (<span style=\"color: #00d7ff; text-decoration-color: #00d7ff\">None</span>, <span style=\"color: #00af00; text-decoration-color: #00af00\">128</span>)            │           <span style=\"color: #00af00; text-decoration-color: #00af00\">512</span> │\n",
              "│ (<span style=\"color: #0087ff; text-decoration-color: #0087ff\">BatchNormalization</span>)            │                        │               │\n",
              "├─────────────────────────────────┼────────────────────────┼───────────────┤\n",
              "│ dense_33 (<span style=\"color: #0087ff; text-decoration-color: #0087ff\">Dense</span>)                │ (<span style=\"color: #00d7ff; text-decoration-color: #00d7ff\">None</span>, <span style=\"color: #00af00; text-decoration-color: #00af00\">64</span>)             │         <span style=\"color: #00af00; text-decoration-color: #00af00\">8,256</span> │\n",
              "├─────────────────────────────────┼────────────────────────┼───────────────┤\n",
              "│ dropout_27 (<span style=\"color: #0087ff; text-decoration-color: #0087ff\">Dropout</span>)            │ (<span style=\"color: #00d7ff; text-decoration-color: #00d7ff\">None</span>, <span style=\"color: #00af00; text-decoration-color: #00af00\">64</span>)             │             <span style=\"color: #00af00; text-decoration-color: #00af00\">0</span> │\n",
              "├─────────────────────────────────┼────────────────────────┼───────────────┤\n",
              "│ batch_normalization_26          │ (<span style=\"color: #00d7ff; text-decoration-color: #00d7ff\">None</span>, <span style=\"color: #00af00; text-decoration-color: #00af00\">64</span>)             │           <span style=\"color: #00af00; text-decoration-color: #00af00\">256</span> │\n",
              "│ (<span style=\"color: #0087ff; text-decoration-color: #0087ff\">BatchNormalization</span>)            │                        │               │\n",
              "├─────────────────────────────────┼────────────────────────┼───────────────┤\n",
              "│ dense_34 (<span style=\"color: #0087ff; text-decoration-color: #0087ff\">Dense</span>)                │ (<span style=\"color: #00d7ff; text-decoration-color: #00d7ff\">None</span>, <span style=\"color: #00af00; text-decoration-color: #00af00\">32</span>)             │         <span style=\"color: #00af00; text-decoration-color: #00af00\">2,080</span> │\n",
              "├─────────────────────────────────┼────────────────────────┼───────────────┤\n",
              "│ dropout_28 (<span style=\"color: #0087ff; text-decoration-color: #0087ff\">Dropout</span>)            │ (<span style=\"color: #00d7ff; text-decoration-color: #00d7ff\">None</span>, <span style=\"color: #00af00; text-decoration-color: #00af00\">32</span>)             │             <span style=\"color: #00af00; text-decoration-color: #00af00\">0</span> │\n",
              "├─────────────────────────────────┼────────────────────────┼───────────────┤\n",
              "│ batch_normalization_27          │ (<span style=\"color: #00d7ff; text-decoration-color: #00d7ff\">None</span>, <span style=\"color: #00af00; text-decoration-color: #00af00\">32</span>)             │           <span style=\"color: #00af00; text-decoration-color: #00af00\">128</span> │\n",
              "│ (<span style=\"color: #0087ff; text-decoration-color: #0087ff\">BatchNormalization</span>)            │                        │               │\n",
              "├─────────────────────────────────┼────────────────────────┼───────────────┤\n",
              "│ dense_35 (<span style=\"color: #0087ff; text-decoration-color: #0087ff\">Dense</span>)                │ (<span style=\"color: #00d7ff; text-decoration-color: #00d7ff\">None</span>, <span style=\"color: #00af00; text-decoration-color: #00af00\">1</span>)              │            <span style=\"color: #00af00; text-decoration-color: #00af00\">33</span> │\n",
              "└─────────────────────────────────┴────────────────────────┴───────────────┘\n",
              "</pre>\n"
            ]
          },
          "metadata": {}
        },
        {
          "output_type": "display_data",
          "data": {
            "text/plain": [
              "\u001b[1m Total params: \u001b[0m\u001b[38;5;34m99,201\u001b[0m (387.50 KB)\n"
            ],
            "text/html": [
              "<pre style=\"white-space:pre;overflow-x:auto;line-height:normal;font-family:Menlo,'DejaVu Sans Mono',consolas,'Courier New',monospace\"><span style=\"font-weight: bold\"> Total params: </span><span style=\"color: #00af00; text-decoration-color: #00af00\">99,201</span> (387.50 KB)\n",
              "</pre>\n"
            ]
          },
          "metadata": {}
        },
        {
          "output_type": "display_data",
          "data": {
            "text/plain": [
              "\u001b[1m Trainable params: \u001b[0m\u001b[38;5;34m98,241\u001b[0m (383.75 KB)\n"
            ],
            "text/html": [
              "<pre style=\"white-space:pre;overflow-x:auto;line-height:normal;font-family:Menlo,'DejaVu Sans Mono',consolas,'Courier New',monospace\"><span style=\"font-weight: bold\"> Trainable params: </span><span style=\"color: #00af00; text-decoration-color: #00af00\">98,241</span> (383.75 KB)\n",
              "</pre>\n"
            ]
          },
          "metadata": {}
        },
        {
          "output_type": "display_data",
          "data": {
            "text/plain": [
              "\u001b[1m Non-trainable params: \u001b[0m\u001b[38;5;34m960\u001b[0m (3.75 KB)\n"
            ],
            "text/html": [
              "<pre style=\"white-space:pre;overflow-x:auto;line-height:normal;font-family:Menlo,'DejaVu Sans Mono',consolas,'Courier New',monospace\"><span style=\"font-weight: bold\"> Non-trainable params: </span><span style=\"color: #00af00; text-decoration-color: #00af00\">960</span> (3.75 KB)\n",
              "</pre>\n"
            ]
          },
          "metadata": {}
        }
      ],
      "source": [
        "# 모델 설계\n",
        "import tensorflow as tf\n",
        "from tensorflow.keras.layers import BatchNormalization\n",
        "\n",
        "\n",
        "model_stage1 = Sequential()\n",
        "model_stage1.add(Dense(256, input_dim=x_train.shape[1], activation='relu'))\n",
        "model_stage1.add(Dropout(0.5))\n",
        "model_stage1.add(BatchNormalization())\n",
        "model_stage1.add(Dense(128, activation='relu'))\n",
        "model_stage1.add(Dropout(0.5))\n",
        "model_stage1.add(BatchNormalization())\n",
        "model_stage1.add(Dense(64, activation='relu'))\n",
        "model_stage1.add(Dropout(0.5))\n",
        "model_stage1.add(BatchNormalization())\n",
        "model_stage1.add(Dense(32, activation='relu'))\n",
        "model_stage1.add(Dropout(0.5))\n",
        "model_stage1.add(BatchNormalization())\n",
        "# 마지막 레이어: sigmoid 활성화 사용. 따라서 from_logits=False 로 설정해야 함.\n",
        "model_stage1.add(Dense(1, activation='sigmoid', kernel_regularizer=tf.keras.regularizers.l2(0.001)))\n",
        "\n",
        "model_stage1.summary()"
      ]
    },
    {
      "cell_type": "code",
      "execution_count": 83,
      "metadata": {
        "id": "oq7lvKmE0rrO",
        "colab": {
          "base_uri": "https://localhost:8080/"
        },
        "collapsed": true,
        "outputId": "c53b532a-cd60-4d02-f84f-ab7222c938b1"
      },
      "outputs": [
        {
          "output_type": "stream",
          "name": "stdout",
          "text": [
            "Epoch 1/200\n",
            "\u001b[1m37/37\u001b[0m \u001b[32m━━━━━━━━━━━━━━━━━━━━\u001b[0m\u001b[37m\u001b[0m \u001b[1m9s\u001b[0m 94ms/step - accuracy: 0.6518 - loss: 0.6429 - val_accuracy: 0.9966 - val_loss: 0.1477 - learning_rate: 5.0000e-04\n",
            "Epoch 2/200\n",
            "\u001b[1m37/37\u001b[0m \u001b[32m━━━━━━━━━━━━━━━━━━━━\u001b[0m\u001b[37m\u001b[0m \u001b[1m0s\u001b[0m 4ms/step - accuracy: 0.9164 - loss: 0.2849 - val_accuracy: 1.0000 - val_loss: 0.0398 - learning_rate: 5.0000e-04\n",
            "Epoch 3/200\n",
            "\u001b[1m37/37\u001b[0m \u001b[32m━━━━━━━━━━━━━━━━━━━━\u001b[0m\u001b[37m\u001b[0m \u001b[1m0s\u001b[0m 4ms/step - accuracy: 0.9769 - loss: 0.1707 - val_accuracy: 1.0000 - val_loss: 0.0184 - learning_rate: 5.0000e-04\n",
            "Epoch 4/200\n",
            "\u001b[1m37/37\u001b[0m \u001b[32m━━━━━━━━━━━━━━━━━━━━\u001b[0m\u001b[37m\u001b[0m \u001b[1m0s\u001b[0m 4ms/step - accuracy: 0.9907 - loss: 0.1146 - val_accuracy: 1.0000 - val_loss: 0.0125 - learning_rate: 5.0000e-04\n",
            "Epoch 5/200\n",
            "\u001b[1m37/37\u001b[0m \u001b[32m━━━━━━━━━━━━━━━━━━━━\u001b[0m\u001b[37m\u001b[0m \u001b[1m0s\u001b[0m 4ms/step - accuracy: 0.9961 - loss: 0.0878 - val_accuracy: 1.0000 - val_loss: 0.0102 - learning_rate: 5.0000e-04\n",
            "Epoch 6/200\n",
            "\u001b[1m37/37\u001b[0m \u001b[32m━━━━━━━━━━━━━━━━━━━━\u001b[0m\u001b[37m\u001b[0m \u001b[1m0s\u001b[0m 4ms/step - accuracy: 0.9965 - loss: 0.0705 - val_accuracy: 1.0000 - val_loss: 0.0089 - learning_rate: 5.0000e-04\n",
            "Epoch 7/200\n",
            "\u001b[1m37/37\u001b[0m \u001b[32m━━━━━━━━━━━━━━━━━━━━\u001b[0m\u001b[37m\u001b[0m \u001b[1m0s\u001b[0m 5ms/step - accuracy: 0.9986 - loss: 0.0543 - val_accuracy: 1.0000 - val_loss: 0.0082 - learning_rate: 5.0000e-04\n",
            "Epoch 8/200\n",
            "\u001b[1m37/37\u001b[0m \u001b[32m━━━━━━━━━━━━━━━━━━━━\u001b[0m\u001b[37m\u001b[0m \u001b[1m0s\u001b[0m 4ms/step - accuracy: 0.9973 - loss: 0.0507 - val_accuracy: 1.0000 - val_loss: 0.0075 - learning_rate: 5.0000e-04\n",
            "Epoch 9/200\n",
            "\u001b[1m37/37\u001b[0m \u001b[32m━━━━━━━━━━━━━━━━━━━━\u001b[0m\u001b[37m\u001b[0m \u001b[1m0s\u001b[0m 4ms/step - accuracy: 0.9976 - loss: 0.0432 - val_accuracy: 1.0000 - val_loss: 0.0071 - learning_rate: 5.0000e-04\n",
            "Epoch 10/200\n",
            "\u001b[1m37/37\u001b[0m \u001b[32m━━━━━━━━━━━━━━━━━━━━\u001b[0m\u001b[37m\u001b[0m \u001b[1m0s\u001b[0m 4ms/step - accuracy: 0.9994 - loss: 0.0332 - val_accuracy: 1.0000 - val_loss: 0.0067 - learning_rate: 5.0000e-04\n",
            "Epoch 11/200\n",
            "\u001b[1m37/37\u001b[0m \u001b[32m━━━━━━━━━━━━━━━━━━━━\u001b[0m\u001b[37m\u001b[0m \u001b[1m0s\u001b[0m 4ms/step - accuracy: 0.9995 - loss: 0.0292 - val_accuracy: 1.0000 - val_loss: 0.0065 - learning_rate: 5.0000e-04\n",
            "Epoch 12/200\n",
            "\u001b[1m37/37\u001b[0m \u001b[32m━━━━━━━━━━━━━━━━━━━━\u001b[0m\u001b[37m\u001b[0m \u001b[1m0s\u001b[0m 4ms/step - accuracy: 0.9981 - loss: 0.0306 - val_accuracy: 1.0000 - val_loss: 0.0062 - learning_rate: 5.0000e-04\n",
            "Epoch 13/200\n",
            "\u001b[1m37/37\u001b[0m \u001b[32m━━━━━━━━━━━━━━━━━━━━\u001b[0m\u001b[37m\u001b[0m \u001b[1m0s\u001b[0m 7ms/step - accuracy: 0.9993 - loss: 0.0254 - val_accuracy: 1.0000 - val_loss: 0.0059 - learning_rate: 5.0000e-04\n",
            "Epoch 14/200\n",
            "\u001b[1m37/37\u001b[0m \u001b[32m━━━━━━━━━━━━━━━━━━━━\u001b[0m\u001b[37m\u001b[0m \u001b[1m0s\u001b[0m 6ms/step - accuracy: 0.9995 - loss: 0.0227 - val_accuracy: 1.0000 - val_loss: 0.0058 - learning_rate: 5.0000e-04\n",
            "Epoch 15/200\n",
            "\u001b[1m37/37\u001b[0m \u001b[32m━━━━━━━━━━━━━━━━━━━━\u001b[0m\u001b[37m\u001b[0m \u001b[1m0s\u001b[0m 7ms/step - accuracy: 1.0000 - loss: 0.0221 - val_accuracy: 1.0000 - val_loss: 0.0056 - learning_rate: 5.0000e-04\n",
            "Epoch 16/200\n",
            "\u001b[1m37/37\u001b[0m \u001b[32m━━━━━━━━━━━━━━━━━━━━\u001b[0m\u001b[37m\u001b[0m \u001b[1m0s\u001b[0m 6ms/step - accuracy: 0.9996 - loss: 0.0189 - val_accuracy: 1.0000 - val_loss: 0.0055 - learning_rate: 5.0000e-04\n",
            "Epoch 17/200\n",
            "\u001b[1m37/37\u001b[0m \u001b[32m━━━━━━━━━━━━━━━━━━━━\u001b[0m\u001b[37m\u001b[0m \u001b[1m0s\u001b[0m 7ms/step - accuracy: 0.9993 - loss: 0.0194 - val_accuracy: 1.0000 - val_loss: 0.0053 - learning_rate: 5.0000e-04\n",
            "Epoch 18/200\n",
            "\u001b[1m37/37\u001b[0m \u001b[32m━━━━━━━━━━━━━━━━━━━━\u001b[0m\u001b[37m\u001b[0m \u001b[1m0s\u001b[0m 6ms/step - accuracy: 1.0000 - loss: 0.0160 - val_accuracy: 1.0000 - val_loss: 0.0053 - learning_rate: 5.0000e-04\n",
            "Epoch 19/200\n",
            "\u001b[1m37/37\u001b[0m \u001b[32m━━━━━━━━━━━━━━━━━━━━\u001b[0m\u001b[37m\u001b[0m \u001b[1m0s\u001b[0m 7ms/step - accuracy: 0.9995 - loss: 0.0174 - val_accuracy: 1.0000 - val_loss: 0.0053 - learning_rate: 5.0000e-04\n",
            "Epoch 20/200\n",
            "\u001b[1m37/37\u001b[0m \u001b[32m━━━━━━━━━━━━━━━━━━━━\u001b[0m\u001b[37m\u001b[0m \u001b[1m0s\u001b[0m 6ms/step - accuracy: 0.9999 - loss: 0.0156 - val_accuracy: 1.0000 - val_loss: 0.0052 - learning_rate: 5.0000e-04\n",
            "Epoch 21/200\n",
            "\u001b[1m37/37\u001b[0m \u001b[32m━━━━━━━━━━━━━━━━━━━━\u001b[0m\u001b[37m\u001b[0m \u001b[1m0s\u001b[0m 7ms/step - accuracy: 0.9991 - loss: 0.0158 - val_accuracy: 1.0000 - val_loss: 0.0051 - learning_rate: 5.0000e-04\n",
            "Epoch 22/200\n",
            "\u001b[1m37/37\u001b[0m \u001b[32m━━━━━━━━━━━━━━━━━━━━\u001b[0m\u001b[37m\u001b[0m \u001b[1m0s\u001b[0m 5ms/step - accuracy: 0.9998 - loss: 0.0128 - val_accuracy: 1.0000 - val_loss: 0.0051 - learning_rate: 5.0000e-04\n",
            "Epoch 23/200\n",
            "\u001b[1m37/37\u001b[0m \u001b[32m━━━━━━━━━━━━━━━━━━━━\u001b[0m\u001b[37m\u001b[0m \u001b[1m0s\u001b[0m 5ms/step - accuracy: 0.9999 - loss: 0.0141 - val_accuracy: 1.0000 - val_loss: 0.0050 - learning_rate: 5.0000e-04\n",
            "Epoch 24/200\n",
            "\u001b[1m37/37\u001b[0m \u001b[32m━━━━━━━━━━━━━━━━━━━━\u001b[0m\u001b[37m\u001b[0m \u001b[1m0s\u001b[0m 4ms/step - accuracy: 0.9998 - loss: 0.0132 - val_accuracy: 1.0000 - val_loss: 0.0049 - learning_rate: 5.0000e-04\n",
            "Epoch 25/200\n",
            "\u001b[1m37/37\u001b[0m \u001b[32m━━━━━━━━━━━━━━━━━━━━\u001b[0m\u001b[37m\u001b[0m \u001b[1m0s\u001b[0m 5ms/step - accuracy: 0.9999 - loss: 0.0121 - val_accuracy: 1.0000 - val_loss: 0.0049 - learning_rate: 5.0000e-04\n",
            "Epoch 26/200\n",
            "\u001b[1m37/37\u001b[0m \u001b[32m━━━━━━━━━━━━━━━━━━━━\u001b[0m\u001b[37m\u001b[0m \u001b[1m0s\u001b[0m 5ms/step - accuracy: 1.0000 - loss: 0.0116 - val_accuracy: 1.0000 - val_loss: 0.0049 - learning_rate: 5.0000e-04\n",
            "Epoch 27/200\n",
            "\u001b[1m37/37\u001b[0m \u001b[32m━━━━━━━━━━━━━━━━━━━━\u001b[0m\u001b[37m\u001b[0m \u001b[1m0s\u001b[0m 3ms/step - accuracy: 0.9997 - loss: 0.0119\n",
            "Epoch 27: ReduceLROnPlateau reducing learning rate to 0.0002500000118743628.\n",
            "\u001b[1m37/37\u001b[0m \u001b[32m━━━━━━━━━━━━━━━━━━━━\u001b[0m\u001b[37m\u001b[0m \u001b[1m0s\u001b[0m 4ms/step - accuracy: 0.9997 - loss: 0.0119 - val_accuracy: 1.0000 - val_loss: 0.0049 - learning_rate: 5.0000e-04\n",
            "Epoch 28/200\n",
            "\u001b[1m37/37\u001b[0m \u001b[32m━━━━━━━━━━━━━━━━━━━━\u001b[0m\u001b[37m\u001b[0m \u001b[1m0s\u001b[0m 4ms/step - accuracy: 1.0000 - loss: 0.0116 - val_accuracy: 1.0000 - val_loss: 0.0049 - learning_rate: 2.5000e-04\n",
            "Epoch 29/200\n",
            "\u001b[1m37/37\u001b[0m \u001b[32m━━━━━━━━━━━━━━━━━━━━\u001b[0m\u001b[37m\u001b[0m \u001b[1m0s\u001b[0m 4ms/step - accuracy: 0.9999 - loss: 0.0118 - val_accuracy: 1.0000 - val_loss: 0.0050 - learning_rate: 2.5000e-04\n",
            "Epoch 30/200\n",
            "\u001b[1m37/37\u001b[0m \u001b[32m━━━━━━━━━━━━━━━━━━━━\u001b[0m\u001b[37m\u001b[0m \u001b[1m0s\u001b[0m 3ms/step - accuracy: 0.9998 - loss: 0.0116\n",
            "Epoch 30: ReduceLROnPlateau reducing learning rate to 0.0001250000059371814.\n",
            "\u001b[1m37/37\u001b[0m \u001b[32m━━━━━━━━━━━━━━━━━━━━\u001b[0m\u001b[37m\u001b[0m \u001b[1m0s\u001b[0m 5ms/step - accuracy: 0.9998 - loss: 0.0116 - val_accuracy: 1.0000 - val_loss: 0.0049 - learning_rate: 2.5000e-04\n",
            "Epoch 31/200\n",
            "\u001b[1m37/37\u001b[0m \u001b[32m━━━━━━━━━━━━━━━━━━━━\u001b[0m\u001b[37m\u001b[0m \u001b[1m0s\u001b[0m 5ms/step - accuracy: 1.0000 - loss: 0.0115 - val_accuracy: 1.0000 - val_loss: 0.0050 - learning_rate: 1.2500e-04\n",
            "Epoch 32/200\n",
            "\u001b[1m37/37\u001b[0m \u001b[32m━━━━━━━━━━━━━━━━━━━━\u001b[0m\u001b[37m\u001b[0m \u001b[1m0s\u001b[0m 5ms/step - accuracy: 0.9998 - loss: 0.0116 - val_accuracy: 1.0000 - val_loss: 0.0050 - learning_rate: 1.2500e-04\n",
            "Epoch 33/200\n",
            "\u001b[1m34/37\u001b[0m \u001b[32m━━━━━━━━━━━━━━━━━━\u001b[0m\u001b[37m━━\u001b[0m \u001b[1m0s\u001b[0m 3ms/step - accuracy: 1.0000 - loss: 0.0106\n",
            "Epoch 33: ReduceLROnPlateau reducing learning rate to 6.25000029685907e-05.\n",
            "\u001b[1m37/37\u001b[0m \u001b[32m━━━━━━━━━━━━━━━━━━━━\u001b[0m\u001b[37m\u001b[0m \u001b[1m0s\u001b[0m 4ms/step - accuracy: 1.0000 - loss: 0.0107 - val_accuracy: 1.0000 - val_loss: 0.0050 - learning_rate: 1.2500e-04\n",
            "Epoch 34/200\n",
            "\u001b[1m37/37\u001b[0m \u001b[32m━━━━━━━━━━━━━━━━━━━━\u001b[0m\u001b[37m\u001b[0m \u001b[1m0s\u001b[0m 5ms/step - accuracy: 1.0000 - loss: 0.0108 - val_accuracy: 1.0000 - val_loss: 0.0050 - learning_rate: 6.2500e-05\n",
            "Epoch 35/200\n",
            "\u001b[1m37/37\u001b[0m \u001b[32m━━━━━━━━━━━━━━━━━━━━\u001b[0m\u001b[37m\u001b[0m \u001b[1m0s\u001b[0m 4ms/step - accuracy: 1.0000 - loss: 0.0107 - val_accuracy: 1.0000 - val_loss: 0.0050 - learning_rate: 6.2500e-05\n",
            "Epoch 36/200\n",
            "\u001b[1m19/37\u001b[0m \u001b[32m━━━━━━━━━━\u001b[0m\u001b[37m━━━━━━━━━━\u001b[0m \u001b[1m0s\u001b[0m 3ms/step - accuracy: 1.0000 - loss: 0.0098 \n",
            "Epoch 36: ReduceLROnPlateau reducing learning rate to 3.125000148429535e-05.\n",
            "\u001b[1m37/37\u001b[0m \u001b[32m━━━━━━━━━━━━━━━━━━━━\u001b[0m\u001b[37m\u001b[0m \u001b[1m0s\u001b[0m 4ms/step - accuracy: 1.0000 - loss: 0.0101 - val_accuracy: 1.0000 - val_loss: 0.0050 - learning_rate: 6.2500e-05\n",
            "Epoch 37/200\n",
            "\u001b[1m37/37\u001b[0m \u001b[32m━━━━━━━━━━━━━━━━━━━━\u001b[0m\u001b[37m\u001b[0m \u001b[1m0s\u001b[0m 5ms/step - accuracy: 1.0000 - loss: 0.0096 - val_accuracy: 1.0000 - val_loss: 0.0050 - learning_rate: 3.1250e-05\n",
            "Epoch 38/200\n",
            "\u001b[1m37/37\u001b[0m \u001b[32m━━━━━━━━━━━━━━━━━━━━\u001b[0m\u001b[37m\u001b[0m \u001b[1m0s\u001b[0m 5ms/step - accuracy: 1.0000 - loss: 0.0107 - val_accuracy: 1.0000 - val_loss: 0.0050 - learning_rate: 3.1250e-05\n",
            "Epoch 39/200\n",
            "\u001b[1m19/37\u001b[0m \u001b[32m━━━━━━━━━━\u001b[0m\u001b[37m━━━━━━━━━━\u001b[0m \u001b[1m0s\u001b[0m 3ms/step - accuracy: 1.0000 - loss: 0.0105 \n",
            "Epoch 39: ReduceLROnPlateau reducing learning rate to 1.5625000742147677e-05.\n",
            "\u001b[1m37/37\u001b[0m \u001b[32m━━━━━━━━━━━━━━━━━━━━\u001b[0m\u001b[37m\u001b[0m \u001b[1m0s\u001b[0m 5ms/step - accuracy: 1.0000 - loss: 0.0110 - val_accuracy: 1.0000 - val_loss: 0.0050 - learning_rate: 3.1250e-05\n",
            "Epoch 40/200\n",
            "\u001b[1m37/37\u001b[0m \u001b[32m━━━━━━━━━━━━━━━━━━━━\u001b[0m\u001b[37m\u001b[0m \u001b[1m0s\u001b[0m 5ms/step - accuracy: 1.0000 - loss: 0.0105 - val_accuracy: 1.0000 - val_loss: 0.0050 - learning_rate: 1.5625e-05\n",
            "Epoch 41/200\n",
            "\u001b[1m37/37\u001b[0m \u001b[32m━━━━━━━━━━━━━━━━━━━━\u001b[0m\u001b[37m\u001b[0m \u001b[1m0s\u001b[0m 4ms/step - accuracy: 0.9999 - loss: 0.0106 - val_accuracy: 1.0000 - val_loss: 0.0050 - learning_rate: 1.5625e-05\n",
            "Epoch 42/200\n",
            "\u001b[1m35/37\u001b[0m \u001b[32m━━━━━━━━━━━━━━━━━━\u001b[0m\u001b[37m━━\u001b[0m \u001b[1m0s\u001b[0m 3ms/step - accuracy: 1.0000 - loss: 0.0107\n",
            "Epoch 42: ReduceLROnPlateau reducing learning rate to 7.812500371073838e-06.\n",
            "\u001b[1m37/37\u001b[0m \u001b[32m━━━━━━━━━━━━━━━━━━━━\u001b[0m\u001b[37m\u001b[0m \u001b[1m0s\u001b[0m 5ms/step - accuracy: 1.0000 - loss: 0.0106 - val_accuracy: 1.0000 - val_loss: 0.0050 - learning_rate: 1.5625e-05\n",
            "Epoch 42: early stopping\n",
            "Restoring model weights from the end of the best epoch: 26.\n"
          ]
        }
      ],
      "source": [
        "# 컴파일 및 학습\n",
        "LEARNING_RATE_1 = 5e-4\n",
        "EPOCHS_1 = 200\n",
        "BATCH_SIZE = 128\n",
        "\n",
        "train_dataset_stage1 = tf.data.Dataset.from_tensor_slices((x_train, y_train)).shuffle(len(x_train)).batch(BATCH_SIZE)\n",
        "val_dataset_stage1 = tf.data.Dataset.from_tensor_slices((x_val, y_val)).batch(BATCH_SIZE)\n",
        "train_dataset_stage1 = train_dataset_stage1.prefetch(tf.data.AUTOTUNE)\n",
        "val_dataset_stage1 = val_dataset_stage1.prefetch(tf.data.AUTOTUNE)\n",
        "test_dataset_stage1 = tf.data.Dataset.from_tensor_slices((x_test_stage1, y_test_all)).batch(BATCH_SIZE)\n",
        "\n",
        "model_stage1.compile(\n",
        "    loss=tf.keras.losses.BinaryCrossentropy(from_logits=False),\n",
        "    optimizer=Adam(learning_rate=LEARNING_RATE_1),\n",
        "    metrics=['accuracy']\n",
        ")\n",
        "\n",
        "es1 = tf.keras.callbacks.EarlyStopping(monitor='val_loss', patience=16, verbose=1, restore_best_weights=True)\n",
        "redu1 = tf.keras.callbacks.ReduceLROnPlateau(monitor='val_loss', factor=0.5, patience=3, verbose=1)\n",
        "\n",
        "# 클래스 가중치 계산\n",
        "class_weights_stage1 = compute_class_weight('balanced', classes=np.unique(y_train), y=y_train)\n",
        "class_weights_stage1 = dict(enumerate(class_weights_stage1))\n",
        "\n",
        "# 모델 학습 및 history 저장\n",
        "history = model_stage1.fit(\n",
        "    train_dataset_stage1,\n",
        "    validation_data=val_dataset_stage1,\n",
        "    epochs=EPOCHS_1,\n",
        "    callbacks=[es1, redu1],\n",
        "    class_weight=class_weights_stage1\n",
        ")"
      ]
    },
    {
      "cell_type": "code",
      "execution_count": 84,
      "metadata": {
        "id": "vmBi9eq40rnu",
        "colab": {
          "base_uri": "https://localhost:8080/",
          "height": 542
        },
        "outputId": "6745b011-3627-421b-a93a-96cec9953749"
      },
      "outputs": [
        {
          "output_type": "display_data",
          "data": {
            "text/plain": [
              "<Figure size 1000x600 with 1 Axes>"
            ],
            "image/png": "[encoded data removed]"
          },
          "metadata": {}
        }
      ],
      "source": [
        "# 학습곡선\n",
        "dl_history_plot(history.history)"
      ]
    },
    {
      "cell_type": "code",
      "execution_count": 80,
      "metadata": {
        "id": "6TqE7obbr4LQ",
        "colab": {
          "base_uri": "https://localhost:8080/"
        },
        "outputId": "f75ce3e5-ee6f-4398-aa3d-5b48f0272f64"
      },
      "outputs": [
        {
          "output_type": "stream",
          "name": "stdout",
          "text": [
            "\u001b[1m46/46\u001b[0m \u001b[32m━━━━━━━━━━━━━━━━━━━━\u001b[0m\u001b[37m\u001b[0m \u001b[1m1s\u001b[0m 12ms/step - accuracy: 1.0000 - loss: 0.0047\n"
          ]
        },
        {
          "output_type": "execute_result",
          "data": {
            "text/plain": [
              "[0.004674029536545277, 1.0]"
            ]
          },
          "metadata": {},
          "execution_count": 80
        }
      ],
      "source": [
        "# 예측 및 평가\n",
        "model_stage1.evaluate(x_test_stage1, y_test_all)"
      ]
    },
    {
      "cell_type": "markdown",
      "metadata": {
        "id": "Xo6HcoOUh8I5"
      },
      "source": [
        "#### 2) 모델2"
      ]
    },
    {
      "cell_type": "code",
      "execution_count": null,
      "metadata": {
        "id": "rgQFTyrn0uLA"
      },
      "outputs": [],
      "source": [
        "# 모델 설계\n",
        "\n",
        "model2 = tf.keras.Sequential()\n",
        "model2.add(Dense(512, input_dim=x_train.shape[1], activation='relu')) # x_train.shape[1] = 칼럼수\n",
        "model2.add(tf.keras.layers.Dropout(0.5))  # Dropout 으로 규제(과적합 방지)\n",
        "model2.add(Dense(256, activation='relu'))\n",
        "model2.add(tf.keras.layers.Dropout(0.5))\n",
        "model2.add(Dense(64, activation='relu'))\n",
        "model2.add(tf.keras.layers.Dropout(0.5))\n",
        "model2.add(Dense(32, activation='relu'))\n",
        "model2.add(tf.keras.layers.Dropout(0.5))\n",
        "model2.add(Dense(1, activation='sigmoid', kernel_regularizer=tf.keras.regularizers.l2(0.001))) # l2 규제 : 과적합 방지 목적, 손실함수에 패널티를 가함\n",
        "model2.summary()"
      ]
    },
    {
      "cell_type": "code",
      "execution_count": null,
      "metadata": {
        "id": "Mjl9LNyQ0uIm"
      },
      "outputs": [],
      "source": [
        "# 컴파일 및 학습\n",
        "LEARINIG_RATE = 1e-4\n",
        "EPOCHS = 200\n",
        "BATCH_SIZE = 64\n",
        "\n",
        "\n",
        "model2.compile(loss=tf.keras.losses.BinaryCrossentropy(from_logits=True), optimizer=Adam(learning_rate=LEARINIG_RATE), metrics=['accuracy'])\n",
        "es = tf.keras.callbacks.EarlyStopping(monitor='val_loss', patience=10, verbose=1, restore_best_weights=True)\n",
        "\n",
        "from sklearn.utils.class_weight import compute_class_weight\n",
        "class_weights = compute_class_weight('balanced', classes=np.unique(y_train), y=y_train)\n",
        "class_weights = dict(enumerate(class_weights))\n",
        "\n",
        "\n",
        "model2.fit(\n",
        "    train_dataset,\n",
        "    validation_data=val_dataset,\n",
        "    epochs=EPOCHS,\n",
        "    callbacks=[es, Redu],\n",
        "    class_weight=class_weights\n",
        "    )"
      ]
    },
    {
      "cell_type": "code",
      "execution_count": null,
      "metadata": {
        "id": "zZ05bc900uFd"
      },
      "outputs": [],
      "source": [
        "# 학습곡선\n",
        "dl_history_plot(model2.history.history)"
      ]
    },
    {
      "cell_type": "code",
      "execution_count": null,
      "metadata": {
        "id": "r9trWcDUr4LQ"
      },
      "outputs": [],
      "source": [
        "# 예측 및 평가\n",
        "print(model2.evaluate(x_test,y_test))"
      ]
    },
    {
      "cell_type": "markdown",
      "metadata": {
        "id": "cK9A9XmW0pJ8"
      },
      "source": [
        "### (2) 단계2"
      ]
    },
    {
      "cell_type": "markdown",
      "metadata": {
        "id": "uPFEN7aniicS"
      },
      "source": [
        "#### 1) 단계2-1 : 정적 동작 세부 분류"
      ]
    },
    {
      "cell_type": "markdown",
      "metadata": {
        "id": "S8v3DgDX0pJ8"
      },
      "source": [
        "* 세부 요구사항\n",
        "    * 정적 행동(Laying, Sitting, Standing)인 데이터 추출\n",
        "    * Laying, Sitting, Standing 를 분류하는 모델을 생성\n",
        "    * 몇가지 모델을 만들고 가장 성능이 좋은 모델을 선정하시오."
      ]
    },
    {
      "cell_type": "code",
      "execution_count": 59,
      "metadata": {
        "id": "ZUnIqQ3O0yrb",
        "colab": {
          "base_uri": "https://localhost:8080/"
        },
        "collapsed": true,
        "outputId": "8c5db339-b8b5-412f-831e-e70cd870bdab"
      },
      "outputs": [
        {
          "output_type": "stream",
          "name": "stdout",
          "text": [
            "Activity\n",
            "LAYING      292\n",
            "STANDING    287\n",
            "SITTING     254\n",
            "Name: count, dtype: int64\n"
          ]
        }
      ],
      "source": [
        "# (tip) 정적 행동(0)인 데이터 추출\n",
        "df_train_static = df_train[df_train['is_dynamic'] == 0].copy()\n",
        "df_test_static = df_test[df_test['is_dynamic'] == 0].copy()\n",
        "\n",
        "print(df_test_static['Activity'].value_counts())"
      ]
    },
    {
      "cell_type": "code",
      "execution_count": 60,
      "metadata": {
        "id": "PY2uBvF90ynr",
        "colab": {
          "base_uri": "https://localhost:8080/"
        },
        "collapsed": true,
        "outputId": "44982401-a0db-4db6-bb79-c2b26da72bc4"
      },
      "outputs": [
        {
          "output_type": "stream",
          "name": "stdout",
          "text": [
            "(2587, 210) (647, 210) (2587,) (647,)\n"
          ]
        }
      ],
      "source": [
        "# (tip) 인코딩 진행, map 활용해서 숫자레이블로 매핑\n",
        "label_encoder_static = LabelEncoder()\n",
        "df_train_static['Activity'] = label_encoder_static.fit_transform(df_train_static['Activity'])\n",
        "df_test_static['Activity'] = label_encoder_static.transform(df_test_static['Activity'])\n",
        "\n",
        "x_train_static = df_train_static.drop(['is_dynamic', 'Activity'], axis=1)\n",
        "y_train_static = df_train_static['Activity']\n",
        "x_test_static = df_test_static.drop(['is_dynamic', 'Activity'], axis=1)\n",
        "y_test_static = df_test_static['Activity']\n",
        "\n",
        "x_train_static, x_val_static, y_train_static, y_val_static = train_test_split(\n",
        "    x_train_static, y_train_static, test_size=0.2, stratify=y_train_static\n",
        ")\n",
        "print(x_train_static.shape, x_val_static.shape, y_train_static.shape, y_val_static.shape)\n",
        "\n",
        "# stage2: 전용 scaler (정적 모델에 대해 따로 학습)\n",
        "scaler_static = StandardScaler()\n",
        "x_train_static_scaled = scaler_static.fit_transform(x_train_static)\n",
        "x_val_static_scaled = scaler_static.transform(x_val_static)\n",
        "x_test_static_scaled = scaler_static.transform(x_test_static)"
      ]
    },
    {
      "cell_type": "code",
      "execution_count": 85,
      "metadata": {
        "id": "rUcp7mTm0ykX",
        "colab": {
          "base_uri": "https://localhost:8080/",
          "height": 703
        },
        "collapsed": true,
        "outputId": "a8b58650-f19b-4e50-ac6f-6aa6291867d0"
      },
      "outputs": [
        {
          "output_type": "stream",
          "name": "stderr",
          "text": [
            "/usr/local/lib/python3.11/dist-packages/keras/src/layers/core/dense.py:87: UserWarning: Do not pass an `input_shape`/`input_dim` argument to a layer. When using Sequential models, prefer using an `Input(shape)` object as the first layer in the model instead.\n",
            "  super().__init__(activity_regularizer=activity_regularizer, **kwargs)\n"
          ]
        },
        {
          "output_type": "display_data",
          "data": {
            "text/plain": [
              "\u001b[1mModel: \"sequential_8\"\u001b[0m\n"
            ],
            "text/html": [
              "<pre style=\"white-space:pre;overflow-x:auto;line-height:normal;font-family:Menlo,'DejaVu Sans Mono',consolas,'Courier New',monospace\"><span style=\"font-weight: bold\">Model: \"sequential_8\"</span>\n",
              "</pre>\n"
            ]
          },
          "metadata": {}
        },
        {
          "output_type": "display_data",
          "data": {
            "text/plain": [
              "┏━━━━━━━━━━━━━━━━━━━━━━━━━━━━━━━━━┳━━━━━━━━━━━━━━━━━━━━━━━━┳━━━━━━━━━━━━━━━┓\n",
              "┃\u001b[1m \u001b[0m\u001b[1mLayer (type)                   \u001b[0m\u001b[1m \u001b[0m┃\u001b[1m \u001b[0m\u001b[1mOutput Shape          \u001b[0m\u001b[1m \u001b[0m┃\u001b[1m \u001b[0m\u001b[1m      Param #\u001b[0m\u001b[1m \u001b[0m┃\n",
              "┡━━━━━━━━━━━━━━━━━━━━━━━━━━━━━━━━━╇━━━━━━━━━━━━━━━━━━━━━━━━╇━━━━━━━━━━━━━━━┩\n",
              "│ dense_36 (\u001b[38;5;33mDense\u001b[0m)                │ (\u001b[38;5;45mNone\u001b[0m, \u001b[38;5;34m256\u001b[0m)            │        \u001b[38;5;34m54,016\u001b[0m │\n",
              "├─────────────────────────────────┼────────────────────────┼───────────────┤\n",
              "│ dropout_29 (\u001b[38;5;33mDropout\u001b[0m)            │ (\u001b[38;5;45mNone\u001b[0m, \u001b[38;5;34m256\u001b[0m)            │             \u001b[38;5;34m0\u001b[0m │\n",
              "├─────────────────────────────────┼────────────────────────┼───────────────┤\n",
              "│ batch_normalization_28          │ (\u001b[38;5;45mNone\u001b[0m, \u001b[38;5;34m256\u001b[0m)            │         \u001b[38;5;34m1,024\u001b[0m │\n",
              "│ (\u001b[38;5;33mBatchNormalization\u001b[0m)            │                        │               │\n",
              "├─────────────────────────────────┼────────────────────────┼───────────────┤\n",
              "│ dense_37 (\u001b[38;5;33mDense\u001b[0m)                │ (\u001b[38;5;45mNone\u001b[0m, \u001b[38;5;34m128\u001b[0m)            │        \u001b[38;5;34m32,896\u001b[0m │\n",
              "├─────────────────────────────────┼────────────────────────┼───────────────┤\n",
              "│ dropout_30 (\u001b[38;5;33mDropout\u001b[0m)            │ (\u001b[38;5;45mNone\u001b[0m, \u001b[38;5;34m128\u001b[0m)            │             \u001b[38;5;34m0\u001b[0m │\n",
              "├─────────────────────────────────┼────────────────────────┼───────────────┤\n",
              "│ batch_normalization_29          │ (\u001b[38;5;45mNone\u001b[0m, \u001b[38;5;34m128\u001b[0m)            │           \u001b[38;5;34m512\u001b[0m │\n",
              "│ (\u001b[38;5;33mBatchNormalization\u001b[0m)            │                        │               │\n",
              "├─────────────────────────────────┼────────────────────────┼───────────────┤\n",
              "│ dense_38 (\u001b[38;5;33mDense\u001b[0m)                │ (\u001b[38;5;45mNone\u001b[0m, \u001b[38;5;34m64\u001b[0m)             │         \u001b[38;5;34m8,256\u001b[0m │\n",
              "├─────────────────────────────────┼────────────────────────┼───────────────┤\n",
              "│ dropout_31 (\u001b[38;5;33mDropout\u001b[0m)            │ (\u001b[38;5;45mNone\u001b[0m, \u001b[38;5;34m64\u001b[0m)             │             \u001b[38;5;34m0\u001b[0m │\n",
              "├─────────────────────────────────┼────────────────────────┼───────────────┤\n",
              "│ batch_normalization_30          │ (\u001b[38;5;45mNone\u001b[0m, \u001b[38;5;34m64\u001b[0m)             │           \u001b[38;5;34m256\u001b[0m │\n",
              "│ (\u001b[38;5;33mBatchNormalization\u001b[0m)            │                        │               │\n",
              "├─────────────────────────────────┼────────────────────────┼───────────────┤\n",
              "│ dense_39 (\u001b[38;5;33mDense\u001b[0m)                │ (\u001b[38;5;45mNone\u001b[0m, \u001b[38;5;34m32\u001b[0m)             │         \u001b[38;5;34m2,080\u001b[0m │\n",
              "├─────────────────────────────────┼────────────────────────┼───────────────┤\n",
              "│ dropout_32 (\u001b[38;5;33mDropout\u001b[0m)            │ (\u001b[38;5;45mNone\u001b[0m, \u001b[38;5;34m32\u001b[0m)             │             \u001b[38;5;34m0\u001b[0m │\n",
              "├─────────────────────────────────┼────────────────────────┼───────────────┤\n",
              "│ batch_normalization_31          │ (\u001b[38;5;45mNone\u001b[0m, \u001b[38;5;34m32\u001b[0m)             │           \u001b[38;5;34m128\u001b[0m │\n",
              "│ (\u001b[38;5;33mBatchNormalization\u001b[0m)            │                        │               │\n",
              "├─────────────────────────────────┼────────────────────────┼───────────────┤\n",
              "│ dense_40 (\u001b[38;5;33mDense\u001b[0m)                │ (\u001b[38;5;45mNone\u001b[0m, \u001b[38;5;34m3\u001b[0m)              │            \u001b[38;5;34m99\u001b[0m │\n",
              "└─────────────────────────────────┴────────────────────────┴───────────────┘\n"
            ],
            "text/html": [
              "<pre style=\"white-space:pre;overflow-x:auto;line-height:normal;font-family:Menlo,'DejaVu Sans Mono',consolas,'Courier New',monospace\">┏━━━━━━━━━━━━━━━━━━━━━━━━━━━━━━━━━┳━━━━━━━━━━━━━━━━━━━━━━━━┳━━━━━━━━━━━━━━━┓\n",
              "┃<span style=\"font-weight: bold\"> Layer (type)                    </span>┃<span style=\"font-weight: bold\"> Output Shape           </span>┃<span style=\"font-weight: bold\">       Param # </span>┃\n",
              "┡━━━━━━━━━━━━━━━━━━━━━━━━━━━━━━━━━╇━━━━━━━━━━━━━━━━━━━━━━━━╇━━━━━━━━━━━━━━━┩\n",
              "│ dense_36 (<span style=\"color: #0087ff; text-decoration-color: #0087ff\">Dense</span>)                │ (<span style=\"color: #00d7ff; text-decoration-color: #00d7ff\">None</span>, <span style=\"color: #00af00; text-decoration-color: #00af00\">256</span>)            │        <span style=\"color: #00af00; text-decoration-color: #00af00\">54,016</span> │\n",
              "├─────────────────────────────────┼────────────────────────┼───────────────┤\n",
              "│ dropout_29 (<span style=\"color: #0087ff; text-decoration-color: #0087ff\">Dropout</span>)            │ (<span style=\"color: #00d7ff; text-decoration-color: #00d7ff\">None</span>, <span style=\"color: #00af00; text-decoration-color: #00af00\">256</span>)            │             <span style=\"color: #00af00; text-decoration-color: #00af00\">0</span> │\n",
              "├─────────────────────────────────┼────────────────────────┼───────────────┤\n",
              "│ batch_normalization_28          │ (<span style=\"color: #00d7ff; text-decoration-color: #00d7ff\">None</span>, <span style=\"color: #00af00; text-decoration-color: #00af00\">256</span>)            │         <span style=\"color: #00af00; text-decoration-color: #00af00\">1,024</span> │\n",
              "│ (<span style=\"color: #0087ff; text-decoration-color: #0087ff\">BatchNormalization</span>)            │                        │               │\n",
              "├─────────────────────────────────┼────────────────────────┼───────────────┤\n",
              "│ dense_37 (<span style=\"color: #0087ff; text-decoration-color: #0087ff\">Dense</span>)                │ (<span style=\"color: #00d7ff; text-decoration-color: #00d7ff\">None</span>, <span style=\"color: #00af00; text-decoration-color: #00af00\">128</span>)            │        <span style=\"color: #00af00; text-decoration-color: #00af00\">32,896</span> │\n",
              "├─────────────────────────────────┼────────────────────────┼───────────────┤\n",
              "│ dropout_30 (<span style=\"color: #0087ff; text-decoration-color: #0087ff\">Dropout</span>)            │ (<span style=\"color: #00d7ff; text-decoration-color: #00d7ff\">None</span>, <span style=\"color: #00af00; text-decoration-color: #00af00\">128</span>)            │             <span style=\"color: #00af00; text-decoration-color: #00af00\">0</span> │\n",
              "├─────────────────────────────────┼────────────────────────┼───────────────┤\n",
              "│ batch_normalization_29          │ (<span style=\"color: #00d7ff; text-decoration-color: #00d7ff\">None</span>, <span style=\"color: #00af00; text-decoration-color: #00af00\">128</span>)            │           <span style=\"color: #00af00; text-decoration-color: #00af00\">512</span> │\n",
              "│ (<span style=\"color: #0087ff; text-decoration-color: #0087ff\">BatchNormalization</span>)            │                        │               │\n",
              "├─────────────────────────────────┼────────────────────────┼───────────────┤\n",
              "│ dense_38 (<span style=\"color: #0087ff; text-decoration-color: #0087ff\">Dense</span>)                │ (<span style=\"color: #00d7ff; text-decoration-color: #00d7ff\">None</span>, <span style=\"color: #00af00; text-decoration-color: #00af00\">64</span>)             │         <span style=\"color: #00af00; text-decoration-color: #00af00\">8,256</span> │\n",
              "├─────────────────────────────────┼────────────────────────┼───────────────┤\n",
              "│ dropout_31 (<span style=\"color: #0087ff; text-decoration-color: #0087ff\">Dropout</span>)            │ (<span style=\"color: #00d7ff; text-decoration-color: #00d7ff\">None</span>, <span style=\"color: #00af00; text-decoration-color: #00af00\">64</span>)             │             <span style=\"color: #00af00; text-decoration-color: #00af00\">0</span> │\n",
              "├─────────────────────────────────┼────────────────────────┼───────────────┤\n",
              "│ batch_normalization_30          │ (<span style=\"color: #00d7ff; text-decoration-color: #00d7ff\">None</span>, <span style=\"color: #00af00; text-decoration-color: #00af00\">64</span>)             │           <span style=\"color: #00af00; text-decoration-color: #00af00\">256</span> │\n",
              "│ (<span style=\"color: #0087ff; text-decoration-color: #0087ff\">BatchNormalization</span>)            │                        │               │\n",
              "├─────────────────────────────────┼────────────────────────┼───────────────┤\n",
              "│ dense_39 (<span style=\"color: #0087ff; text-decoration-color: #0087ff\">Dense</span>)                │ (<span style=\"color: #00d7ff; text-decoration-color: #00d7ff\">None</span>, <span style=\"color: #00af00; text-decoration-color: #00af00\">32</span>)             │         <span style=\"color: #00af00; text-decoration-color: #00af00\">2,080</span> │\n",
              "├─────────────────────────────────┼────────────────────────┼───────────────┤\n",
              "│ dropout_32 (<span style=\"color: #0087ff; text-decoration-color: #0087ff\">Dropout</span>)            │ (<span style=\"color: #00d7ff; text-decoration-color: #00d7ff\">None</span>, <span style=\"color: #00af00; text-decoration-color: #00af00\">32</span>)             │             <span style=\"color: #00af00; text-decoration-color: #00af00\">0</span> │\n",
              "├─────────────────────────────────┼────────────────────────┼───────────────┤\n",
              "│ batch_normalization_31          │ (<span style=\"color: #00d7ff; text-decoration-color: #00d7ff\">None</span>, <span style=\"color: #00af00; text-decoration-color: #00af00\">32</span>)             │           <span style=\"color: #00af00; text-decoration-color: #00af00\">128</span> │\n",
              "│ (<span style=\"color: #0087ff; text-decoration-color: #0087ff\">BatchNormalization</span>)            │                        │               │\n",
              "├─────────────────────────────────┼────────────────────────┼───────────────┤\n",
              "│ dense_40 (<span style=\"color: #0087ff; text-decoration-color: #0087ff\">Dense</span>)                │ (<span style=\"color: #00d7ff; text-decoration-color: #00d7ff\">None</span>, <span style=\"color: #00af00; text-decoration-color: #00af00\">3</span>)              │            <span style=\"color: #00af00; text-decoration-color: #00af00\">99</span> │\n",
              "└─────────────────────────────────┴────────────────────────┴───────────────┘\n",
              "</pre>\n"
            ]
          },
          "metadata": {}
        },
        {
          "output_type": "display_data",
          "data": {
            "text/plain": [
              "\u001b[1m Total params: \u001b[0m\u001b[38;5;34m99,267\u001b[0m (387.76 KB)\n"
            ],
            "text/html": [
              "<pre style=\"white-space:pre;overflow-x:auto;line-height:normal;font-family:Menlo,'DejaVu Sans Mono',consolas,'Courier New',monospace\"><span style=\"font-weight: bold\"> Total params: </span><span style=\"color: #00af00; text-decoration-color: #00af00\">99,267</span> (387.76 KB)\n",
              "</pre>\n"
            ]
          },
          "metadata": {}
        },
        {
          "output_type": "display_data",
          "data": {
            "text/plain": [
              "\u001b[1m Trainable params: \u001b[0m\u001b[38;5;34m98,307\u001b[0m (384.01 KB)\n"
            ],
            "text/html": [
              "<pre style=\"white-space:pre;overflow-x:auto;line-height:normal;font-family:Menlo,'DejaVu Sans Mono',consolas,'Courier New',monospace\"><span style=\"font-weight: bold\"> Trainable params: </span><span style=\"color: #00af00; text-decoration-color: #00af00\">98,307</span> (384.01 KB)\n",
              "</pre>\n"
            ]
          },
          "metadata": {}
        },
        {
          "output_type": "display_data",
          "data": {
            "text/plain": [
              "\u001b[1m Non-trainable params: \u001b[0m\u001b[38;5;34m960\u001b[0m (3.75 KB)\n"
            ],
            "text/html": [
              "<pre style=\"white-space:pre;overflow-x:auto;line-height:normal;font-family:Menlo,'DejaVu Sans Mono',consolas,'Courier New',monospace\"><span style=\"font-weight: bold\"> Non-trainable params: </span><span style=\"color: #00af00; text-decoration-color: #00af00\">960</span> (3.75 KB)\n",
              "</pre>\n"
            ]
          },
          "metadata": {}
        }
      ],
      "source": [
        "# 모델 설계\n",
        "import tensorflow as tf\n",
        "\n",
        "model_static = Sequential()\n",
        "model_static.add(Dense(256, input_dim=x_train_static_scaled.shape[1], activation='relu'))\n",
        "model_static.add(Dropout(0.5))\n",
        "model_static.add(BatchNormalization())\n",
        "model_static.add(Dense(128, activation='relu'))\n",
        "model_static.add(Dropout(0.5))\n",
        "model_static.add(BatchNormalization())\n",
        "model_static.add(Dense(64, activation='relu'))\n",
        "model_static.add(Dropout(0.5))\n",
        "model_static.add(BatchNormalization())\n",
        "model_static.add(Dense(32, activation='relu'))\n",
        "model_static.add(Dropout(0.5))\n",
        "model_static.add(BatchNormalization())\n",
        "model_static.add(Dense(3, activation='softmax', kernel_regularizer=tf.keras.regularizers.l2(0.001)))\n",
        "\n",
        "model_static.summary()"
      ]
    },
    {
      "cell_type": "code",
      "execution_count": 86,
      "metadata": {
        "id": "xAgnwK7Er4LR",
        "colab": {
          "base_uri": "https://localhost:8080/"
        },
        "collapsed": true,
        "outputId": "f3df3eba-c80b-4d1b-cf7f-7e5bf8444ada"
      },
      "outputs": [
        {
          "output_type": "stream",
          "name": "stdout",
          "text": [
            "Epoch 1/200\n",
            "\u001b[1m21/21\u001b[0m \u001b[32m━━━━━━━━━━━━━━━━━━━━\u001b[0m\u001b[37m\u001b[0m \u001b[1m12s\u001b[0m 210ms/step - accuracy: 0.3551 - loss: 1.5076 - val_accuracy: 0.5410 - val_loss: 1.0004 - learning_rate: 3.0000e-04\n",
            "Epoch 2/200\n",
            "\u001b[1m21/21\u001b[0m \u001b[32m━━━━━━━━━━━━━━━━━━━━\u001b[0m\u001b[37m\u001b[0m \u001b[1m0s\u001b[0m 4ms/step - accuracy: 0.3883 - loss: 1.3987 - val_accuracy: 0.7233 - val_loss: 0.8772 - learning_rate: 3.0000e-04\n",
            "Epoch 3/200\n",
            "\u001b[1m21/21\u001b[0m \u001b[32m━━━━━━━━━━━━━━━━━━━━\u001b[0m\u001b[37m\u001b[0m \u001b[1m0s\u001b[0m 8ms/step - accuracy: 0.4290 - loss: 1.3012 - val_accuracy: 0.7821 - val_loss: 0.7798 - learning_rate: 3.0000e-04\n",
            "Epoch 4/200\n",
            "\u001b[1m21/21\u001b[0m \u001b[32m━━━━━━━━━━━━━━━━━━━━\u001b[0m\u001b[37m\u001b[0m \u001b[1m0s\u001b[0m 6ms/step - accuracy: 0.4719 - loss: 1.1486 - val_accuracy: 0.7991 - val_loss: 0.7002 - learning_rate: 3.0000e-04\n",
            "Epoch 5/200\n",
            "\u001b[1m21/21\u001b[0m \u001b[32m━━━━━━━━━━━━━━━━━━━━\u001b[0m\u001b[37m\u001b[0m \u001b[1m0s\u001b[0m 6ms/step - accuracy: 0.5194 - loss: 1.0366 - val_accuracy: 0.8022 - val_loss: 0.6423 - learning_rate: 3.0000e-04\n",
            "Epoch 6/200\n",
            "\u001b[1m21/21\u001b[0m \u001b[32m━━━━━━━━━━━━━━━━━━━━\u001b[0m\u001b[37m\u001b[0m \u001b[1m0s\u001b[0m 6ms/step - accuracy: 0.5387 - loss: 1.0252 - val_accuracy: 0.8145 - val_loss: 0.5906 - learning_rate: 3.0000e-04\n",
            "Epoch 7/200\n",
            "\u001b[1m21/21\u001b[0m \u001b[32m━━━━━━━━━━━━━━━━━━━━\u001b[0m\u001b[37m\u001b[0m \u001b[1m0s\u001b[0m 6ms/step - accuracy: 0.5544 - loss: 0.9400 - val_accuracy: 0.8238 - val_loss: 0.5474 - learning_rate: 3.0000e-04\n",
            "Epoch 8/200\n",
            "\u001b[1m21/21\u001b[0m \u001b[32m━━━━━━━━━━━━━━━━━━━━\u001b[0m\u001b[37m\u001b[0m \u001b[1m0s\u001b[0m 6ms/step - accuracy: 0.5932 - loss: 0.8899 - val_accuracy: 0.8207 - val_loss: 0.5134 - learning_rate: 3.0000e-04\n",
            "Epoch 9/200\n",
            "\u001b[1m21/21\u001b[0m \u001b[32m━━━━━━━━━━━━━━━━━━━━\u001b[0m\u001b[37m\u001b[0m \u001b[1m0s\u001b[0m 6ms/step - accuracy: 0.6194 - loss: 0.8256 - val_accuracy: 0.8253 - val_loss: 0.4854 - learning_rate: 3.0000e-04\n",
            "Epoch 10/200\n",
            "\u001b[1m21/21\u001b[0m \u001b[32m━━━━━━━━━━━━━━━━━━━━\u001b[0m\u001b[37m\u001b[0m \u001b[1m0s\u001b[0m 8ms/step - accuracy: 0.6599 - loss: 0.7666 - val_accuracy: 0.8377 - val_loss: 0.4553 - learning_rate: 3.0000e-04\n",
            "Epoch 11/200\n",
            "\u001b[1m21/21\u001b[0m \u001b[32m━━━━━━━━━━━━━━━━━━━━\u001b[0m\u001b[37m\u001b[0m \u001b[1m0s\u001b[0m 6ms/step - accuracy: 0.6660 - loss: 0.7626 - val_accuracy: 0.8439 - val_loss: 0.4309 - learning_rate: 3.0000e-04\n",
            "Epoch 12/200\n",
            "\u001b[1m21/21\u001b[0m \u001b[32m━━━━━━━━━━━━━━━━━━━━\u001b[0m\u001b[37m\u001b[0m \u001b[1m0s\u001b[0m 8ms/step - accuracy: 0.6733 - loss: 0.7407 - val_accuracy: 0.8501 - val_loss: 0.4078 - learning_rate: 3.0000e-04\n",
            "Epoch 13/200\n",
            "\u001b[1m21/21\u001b[0m \u001b[32m━━━━━━━━━━━━━━━━━━━━\u001b[0m\u001b[37m\u001b[0m \u001b[1m0s\u001b[0m 9ms/step - accuracy: 0.6898 - loss: 0.6751 - val_accuracy: 0.8547 - val_loss: 0.3880 - learning_rate: 3.0000e-04\n",
            "Epoch 14/200\n",
            "\u001b[1m21/21\u001b[0m \u001b[32m━━━━━━━━━━━━━━━━━━━━\u001b[0m\u001b[37m\u001b[0m \u001b[1m0s\u001b[0m 8ms/step - accuracy: 0.7021 - loss: 0.6643 - val_accuracy: 0.8624 - val_loss: 0.3708 - learning_rate: 3.0000e-04\n",
            "Epoch 15/200\n",
            "\u001b[1m21/21\u001b[0m \u001b[32m━━━━━━━━━━━━━━━━━━━━\u001b[0m\u001b[37m\u001b[0m \u001b[1m0s\u001b[0m 5ms/step - accuracy: 0.7278 - loss: 0.6286 - val_accuracy: 0.8779 - val_loss: 0.3518 - learning_rate: 3.0000e-04\n",
            "Epoch 16/200\n",
            "\u001b[1m21/21\u001b[0m \u001b[32m━━━━━━━━━━━━━━━━━━━━\u001b[0m\u001b[37m\u001b[0m \u001b[1m0s\u001b[0m 4ms/step - accuracy: 0.7404 - loss: 0.6035 - val_accuracy: 0.8856 - val_loss: 0.3330 - learning_rate: 3.0000e-04\n",
            "Epoch 17/200\n",
            "\u001b[1m21/21\u001b[0m \u001b[32m━━━━━━━━━━━━━━━━━━━━\u001b[0m\u001b[37m\u001b[0m \u001b[1m0s\u001b[0m 4ms/step - accuracy: 0.7627 - loss: 0.5725 - val_accuracy: 0.8903 - val_loss: 0.3195 - learning_rate: 3.0000e-04\n",
            "Epoch 18/200\n",
            "\u001b[1m21/21\u001b[0m \u001b[32m━━━━━━━━━━━━━━━━━━━━\u001b[0m\u001b[37m\u001b[0m \u001b[1m0s\u001b[0m 4ms/step - accuracy: 0.7622 - loss: 0.5496 - val_accuracy: 0.9011 - val_loss: 0.3058 - learning_rate: 3.0000e-04\n",
            "Epoch 19/200\n",
            "\u001b[1m21/21\u001b[0m \u001b[32m━━━━━━━━━━━━━━━━━━━━\u001b[0m\u001b[37m\u001b[0m \u001b[1m0s\u001b[0m 5ms/step - accuracy: 0.7995 - loss: 0.5152 - val_accuracy: 0.9088 - val_loss: 0.2938 - learning_rate: 3.0000e-04\n",
            "Epoch 20/200\n",
            "\u001b[1m21/21\u001b[0m \u001b[32m━━━━━━━━━━━━━━━━━━━━\u001b[0m\u001b[37m\u001b[0m \u001b[1m0s\u001b[0m 4ms/step - accuracy: 0.7819 - loss: 0.5055 - val_accuracy: 0.9134 - val_loss: 0.2839 - learning_rate: 3.0000e-04\n",
            "Epoch 21/200\n",
            "\u001b[1m21/21\u001b[0m \u001b[32m━━━━━━━━━━━━━━━━━━━━\u001b[0m\u001b[37m\u001b[0m \u001b[1m0s\u001b[0m 5ms/step - accuracy: 0.8072 - loss: 0.4862 - val_accuracy: 0.9196 - val_loss: 0.2733 - learning_rate: 3.0000e-04\n",
            "Epoch 22/200\n",
            "\u001b[1m21/21\u001b[0m \u001b[32m━━━━━━━━━━━━━━━━━━━━\u001b[0m\u001b[37m\u001b[0m \u001b[1m0s\u001b[0m 4ms/step - accuracy: 0.8187 - loss: 0.4648 - val_accuracy: 0.9212 - val_loss: 0.2630 - learning_rate: 3.0000e-04\n",
            "Epoch 23/200\n",
            "\u001b[1m21/21\u001b[0m \u001b[32m━━━━━━━━━━━━━━━━━━━━\u001b[0m\u001b[37m\u001b[0m \u001b[1m0s\u001b[0m 5ms/step - accuracy: 0.8175 - loss: 0.4627 - val_accuracy: 0.9181 - val_loss: 0.2553 - learning_rate: 3.0000e-04\n",
            "Epoch 24/200\n",
            "\u001b[1m21/21\u001b[0m \u001b[32m━━━━━━━━━━━━━━━━━━━━\u001b[0m\u001b[37m\u001b[0m \u001b[1m0s\u001b[0m 4ms/step - accuracy: 0.8227 - loss: 0.4516 - val_accuracy: 0.9165 - val_loss: 0.2484 - learning_rate: 3.0000e-04\n",
            "Epoch 25/200\n",
            "\u001b[1m21/21\u001b[0m \u001b[32m━━━━━━━━━━━━━━━━━━━━\u001b[0m\u001b[37m\u001b[0m \u001b[1m0s\u001b[0m 4ms/step - accuracy: 0.8341 - loss: 0.4332 - val_accuracy: 0.9181 - val_loss: 0.2414 - learning_rate: 3.0000e-04\n",
            "Epoch 26/200\n",
            "\u001b[1m21/21\u001b[0m \u001b[32m━━━━━━━━━━━━━━━━━━━━\u001b[0m\u001b[37m\u001b[0m \u001b[1m0s\u001b[0m 5ms/step - accuracy: 0.8298 - loss: 0.4478 - val_accuracy: 0.9196 - val_loss: 0.2365 - learning_rate: 3.0000e-04\n",
            "Epoch 27/200\n",
            "\u001b[1m21/21\u001b[0m \u001b[32m━━━━━━━━━━━━━━━━━━━━\u001b[0m\u001b[37m\u001b[0m \u001b[1m0s\u001b[0m 5ms/step - accuracy: 0.8286 - loss: 0.4286 - val_accuracy: 0.9196 - val_loss: 0.2313 - learning_rate: 3.0000e-04\n",
            "Epoch 28/200\n",
            "\u001b[1m21/21\u001b[0m \u001b[32m━━━━━━━━━━━━━━━━━━━━\u001b[0m\u001b[37m\u001b[0m \u001b[1m0s\u001b[0m 4ms/step - accuracy: 0.8509 - loss: 0.4013 - val_accuracy: 0.9243 - val_loss: 0.2246 - learning_rate: 3.0000e-04\n",
            "Epoch 29/200\n",
            "\u001b[1m21/21\u001b[0m \u001b[32m━━━━━━━━━━━━━━━━━━━━\u001b[0m\u001b[37m\u001b[0m \u001b[1m0s\u001b[0m 4ms/step - accuracy: 0.8415 - loss: 0.4033 - val_accuracy: 0.9212 - val_loss: 0.2194 - learning_rate: 3.0000e-04\n",
            "Epoch 30/200\n",
            "\u001b[1m21/21\u001b[0m \u001b[32m━━━━━━━━━━━━━━━━━━━━\u001b[0m\u001b[37m\u001b[0m \u001b[1m0s\u001b[0m 7ms/step - accuracy: 0.8614 - loss: 0.3807 - val_accuracy: 0.9243 - val_loss: 0.2149 - learning_rate: 3.0000e-04\n",
            "Epoch 31/200\n",
            "\u001b[1m21/21\u001b[0m \u001b[32m━━━━━━━━━━━━━━━━━━━━\u001b[0m\u001b[37m\u001b[0m \u001b[1m0s\u001b[0m 5ms/step - accuracy: 0.8642 - loss: 0.3812 - val_accuracy: 0.9227 - val_loss: 0.2111 - learning_rate: 3.0000e-04\n",
            "Epoch 32/200\n",
            "\u001b[1m21/21\u001b[0m \u001b[32m━━━━━━━━━━━━━━━━━━━━\u001b[0m\u001b[37m\u001b[0m \u001b[1m0s\u001b[0m 4ms/step - accuracy: 0.8680 - loss: 0.3581 - val_accuracy: 0.9243 - val_loss: 0.2045 - learning_rate: 3.0000e-04\n",
            "Epoch 33/200\n",
            "\u001b[1m21/21\u001b[0m \u001b[32m━━━━━━━━━━━━━━━━━━━━\u001b[0m\u001b[37m\u001b[0m \u001b[1m0s\u001b[0m 4ms/step - accuracy: 0.8564 - loss: 0.3733 - val_accuracy: 0.9212 - val_loss: 0.1994 - learning_rate: 3.0000e-04\n",
            "Epoch 34/200\n",
            "\u001b[1m21/21\u001b[0m \u001b[32m━━━━━━━━━━━━━━━━━━━━\u001b[0m\u001b[37m\u001b[0m \u001b[1m0s\u001b[0m 5ms/step - accuracy: 0.8740 - loss: 0.3450 - val_accuracy: 0.9196 - val_loss: 0.1957 - learning_rate: 3.0000e-04\n",
            "Epoch 35/200\n",
            "\u001b[1m21/21\u001b[0m \u001b[32m━━━━━━━━━━━━━━━━━━━━\u001b[0m\u001b[37m\u001b[0m \u001b[1m0s\u001b[0m 5ms/step - accuracy: 0.8682 - loss: 0.3489 - val_accuracy: 0.9258 - val_loss: 0.1952 - learning_rate: 3.0000e-04\n",
            "Epoch 36/200\n",
            "\u001b[1m21/21\u001b[0m \u001b[32m━━━━━━━━━━━━━━━━━━━━\u001b[0m\u001b[37m\u001b[0m \u001b[1m0s\u001b[0m 5ms/step - accuracy: 0.8755 - loss: 0.3506 - val_accuracy: 0.9227 - val_loss: 0.1886 - learning_rate: 3.0000e-04\n",
            "Epoch 37/200\n",
            "\u001b[1m21/21\u001b[0m \u001b[32m━━━━━━━━━━━━━━━━━━━━\u001b[0m\u001b[37m\u001b[0m \u001b[1m0s\u001b[0m 4ms/step - accuracy: 0.8998 - loss: 0.3188 - val_accuracy: 0.9243 - val_loss: 0.1833 - learning_rate: 3.0000e-04\n",
            "Epoch 38/200\n",
            "\u001b[1m21/21\u001b[0m \u001b[32m━━━━━━━━━━━━━━━━━━━━\u001b[0m\u001b[37m\u001b[0m \u001b[1m0s\u001b[0m 4ms/step - accuracy: 0.8876 - loss: 0.3050 - val_accuracy: 0.9289 - val_loss: 0.1804 - learning_rate: 3.0000e-04\n",
            "Epoch 39/200\n",
            "\u001b[1m21/21\u001b[0m \u001b[32m━━━━━━━━━━━━━━━━━━━━\u001b[0m\u001b[37m\u001b[0m \u001b[1m0s\u001b[0m 4ms/step - accuracy: 0.8962 - loss: 0.3173 - val_accuracy: 0.9289 - val_loss: 0.1760 - learning_rate: 3.0000e-04\n",
            "Epoch 40/200\n",
            "\u001b[1m21/21\u001b[0m \u001b[32m━━━━━━━━━━━━━━━━━━━━\u001b[0m\u001b[37m\u001b[0m \u001b[1m0s\u001b[0m 4ms/step - accuracy: 0.8905 - loss: 0.3190 - val_accuracy: 0.9274 - val_loss: 0.1735 - learning_rate: 3.0000e-04\n",
            "Epoch 41/200\n",
            "\u001b[1m21/21\u001b[0m \u001b[32m━━━━━━━━━━━━━━━━━━━━\u001b[0m\u001b[37m\u001b[0m \u001b[1m0s\u001b[0m 4ms/step - accuracy: 0.9083 - loss: 0.2907 - val_accuracy: 0.9289 - val_loss: 0.1710 - learning_rate: 3.0000e-04\n",
            "Epoch 42/200\n",
            "\u001b[1m21/21\u001b[0m \u001b[32m━━━━━━━━━━━━━━━━━━━━\u001b[0m\u001b[37m\u001b[0m \u001b[1m0s\u001b[0m 4ms/step - accuracy: 0.8982 - loss: 0.3002 - val_accuracy: 0.9320 - val_loss: 0.1675 - learning_rate: 3.0000e-04\n",
            "Epoch 43/200\n",
            "\u001b[1m21/21\u001b[0m \u001b[32m━━━━━━━━━━━━━━━━━━━━\u001b[0m\u001b[37m\u001b[0m \u001b[1m0s\u001b[0m 5ms/step - accuracy: 0.9121 - loss: 0.2679 - val_accuracy: 0.9335 - val_loss: 0.1623 - learning_rate: 3.0000e-04\n",
            "Epoch 44/200\n",
            "\u001b[1m21/21\u001b[0m \u001b[32m━━━━━━━━━━━━━━━━━━━━\u001b[0m\u001b[37m\u001b[0m \u001b[1m0s\u001b[0m 4ms/step - accuracy: 0.9055 - loss: 0.2851 - val_accuracy: 0.9320 - val_loss: 0.1606 - learning_rate: 3.0000e-04\n",
            "Epoch 45/200\n",
            "\u001b[1m21/21\u001b[0m \u001b[32m━━━━━━━━━━━━━━━━━━━━\u001b[0m\u001b[37m\u001b[0m \u001b[1m0s\u001b[0m 5ms/step - accuracy: 0.9082 - loss: 0.2774 - val_accuracy: 0.9320 - val_loss: 0.1570 - learning_rate: 3.0000e-04\n",
            "Epoch 46/200\n",
            "\u001b[1m21/21\u001b[0m \u001b[32m━━━━━━━━━━━━━━━━━━━━\u001b[0m\u001b[37m\u001b[0m \u001b[1m0s\u001b[0m 4ms/step - accuracy: 0.9106 - loss: 0.2593 - val_accuracy: 0.9366 - val_loss: 0.1535 - learning_rate: 3.0000e-04\n",
            "Epoch 47/200\n",
            "\u001b[1m21/21\u001b[0m \u001b[32m━━━━━━━━━━━━━━━━━━━━\u001b[0m\u001b[37m\u001b[0m \u001b[1m0s\u001b[0m 4ms/step - accuracy: 0.9182 - loss: 0.2525 - val_accuracy: 0.9397 - val_loss: 0.1507 - learning_rate: 3.0000e-04\n",
            "Epoch 48/200\n",
            "\u001b[1m21/21\u001b[0m \u001b[32m━━━━━━━━━━━━━━━━━━━━\u001b[0m\u001b[37m\u001b[0m \u001b[1m0s\u001b[0m 5ms/step - accuracy: 0.9220 - loss: 0.2590 - val_accuracy: 0.9382 - val_loss: 0.1487 - learning_rate: 3.0000e-04\n",
            "Epoch 49/200\n",
            "\u001b[1m21/21\u001b[0m \u001b[32m━━━━━━━━━━━━━━━━━━━━\u001b[0m\u001b[37m\u001b[0m \u001b[1m0s\u001b[0m 4ms/step - accuracy: 0.9152 - loss: 0.2575 - val_accuracy: 0.9413 - val_loss: 0.1488 - learning_rate: 3.0000e-04\n",
            "Epoch 50/200\n",
            "\u001b[1m21/21\u001b[0m \u001b[32m━━━━━━━━━━━━━━━━━━━━\u001b[0m\u001b[37m\u001b[0m \u001b[1m0s\u001b[0m 5ms/step - accuracy: 0.9271 - loss: 0.2465 - val_accuracy: 0.9397 - val_loss: 0.1479 - learning_rate: 3.0000e-04\n",
            "Epoch 51/200\n",
            "\u001b[1m21/21\u001b[0m \u001b[32m━━━━━━━━━━━━━━━━━━━━\u001b[0m\u001b[37m\u001b[0m \u001b[1m0s\u001b[0m 4ms/step - accuracy: 0.9270 - loss: 0.2302 - val_accuracy: 0.9428 - val_loss: 0.1443 - learning_rate: 3.0000e-04\n",
            "Epoch 52/200\n",
            "\u001b[1m21/21\u001b[0m \u001b[32m━━━━━━━━━━━━━━━━━━━━\u001b[0m\u001b[37m\u001b[0m \u001b[1m0s\u001b[0m 5ms/step - accuracy: 0.9302 - loss: 0.2207 - val_accuracy: 0.9413 - val_loss: 0.1397 - learning_rate: 3.0000e-04\n",
            "Epoch 53/200\n",
            "\u001b[1m21/21\u001b[0m \u001b[32m━━━━━━━━━━━━━━━━━━━━\u001b[0m\u001b[37m\u001b[0m \u001b[1m0s\u001b[0m 5ms/step - accuracy: 0.9203 - loss: 0.2326 - val_accuracy: 0.9459 - val_loss: 0.1368 - learning_rate: 3.0000e-04\n",
            "Epoch 54/200\n",
            "\u001b[1m21/21\u001b[0m \u001b[32m━━━━━━━━━━━━━━━━━━━━\u001b[0m\u001b[37m\u001b[0m \u001b[1m0s\u001b[0m 5ms/step - accuracy: 0.9217 - loss: 0.2367 - val_accuracy: 0.9459 - val_loss: 0.1369 - learning_rate: 3.0000e-04\n",
            "Epoch 55/200\n",
            "\u001b[1m21/21\u001b[0m \u001b[32m━━━━━━━━━━━━━━━━━━━━\u001b[0m\u001b[37m\u001b[0m \u001b[1m0s\u001b[0m 5ms/step - accuracy: 0.9381 - loss: 0.2205 - val_accuracy: 0.9428 - val_loss: 0.1346 - learning_rate: 3.0000e-04\n",
            "Epoch 56/200\n",
            "\u001b[1m21/21\u001b[0m \u001b[32m━━━━━━━━━━━━━━━━━━━━\u001b[0m\u001b[37m\u001b[0m \u001b[1m0s\u001b[0m 5ms/step - accuracy: 0.9254 - loss: 0.2236 - val_accuracy: 0.9428 - val_loss: 0.1321 - learning_rate: 3.0000e-04\n",
            "Epoch 57/200\n",
            "\u001b[1m21/21\u001b[0m \u001b[32m━━━━━━━━━━━━━━━━━━━━\u001b[0m\u001b[37m\u001b[0m \u001b[1m0s\u001b[0m 4ms/step - accuracy: 0.9191 - loss: 0.2312 - val_accuracy: 0.9444 - val_loss: 0.1336 - learning_rate: 3.0000e-04\n",
            "Epoch 58/200\n",
            "\u001b[1m21/21\u001b[0m \u001b[32m━━━━━━━━━━━━━━━━━━━━\u001b[0m\u001b[37m\u001b[0m \u001b[1m0s\u001b[0m 4ms/step - accuracy: 0.9390 - loss: 0.2048 - val_accuracy: 0.9474 - val_loss: 0.1285 - learning_rate: 3.0000e-04\n",
            "Epoch 59/200\n",
            "\u001b[1m21/21\u001b[0m \u001b[32m━━━━━━━━━━━━━━━━━━━━\u001b[0m\u001b[37m\u001b[0m \u001b[1m0s\u001b[0m 5ms/step - accuracy: 0.9224 - loss: 0.2218 - val_accuracy: 0.9474 - val_loss: 0.1265 - learning_rate: 3.0000e-04\n",
            "Epoch 60/200\n",
            "\u001b[1m21/21\u001b[0m \u001b[32m━━━━━━━━━━━━━━━━━━━━\u001b[0m\u001b[37m\u001b[0m \u001b[1m0s\u001b[0m 4ms/step - accuracy: 0.9341 - loss: 0.2086 - val_accuracy: 0.9444 - val_loss: 0.1266 - learning_rate: 3.0000e-04\n",
            "Epoch 61/200\n",
            "\u001b[1m21/21\u001b[0m \u001b[32m━━━━━━━━━━━━━━━━━━━━\u001b[0m\u001b[37m\u001b[0m \u001b[1m0s\u001b[0m 5ms/step - accuracy: 0.9450 - loss: 0.1847 - val_accuracy: 0.9444 - val_loss: 0.1255 - learning_rate: 3.0000e-04\n",
            "Epoch 62/200\n",
            "\u001b[1m21/21\u001b[0m \u001b[32m━━━━━━━━━━━━━━━━━━━━\u001b[0m\u001b[37m\u001b[0m \u001b[1m0s\u001b[0m 5ms/step - accuracy: 0.9401 - loss: 0.2062 - val_accuracy: 0.9474 - val_loss: 0.1218 - learning_rate: 3.0000e-04\n",
            "Epoch 63/200\n",
            "\u001b[1m21/21\u001b[0m \u001b[32m━━━━━━━━━━━━━━━━━━━━\u001b[0m\u001b[37m\u001b[0m \u001b[1m0s\u001b[0m 4ms/step - accuracy: 0.9394 - loss: 0.2040 - val_accuracy: 0.9490 - val_loss: 0.1204 - learning_rate: 3.0000e-04\n",
            "Epoch 64/200\n",
            "\u001b[1m21/21\u001b[0m \u001b[32m━━━━━━━━━━━━━━━━━━━━\u001b[0m\u001b[37m\u001b[0m \u001b[1m0s\u001b[0m 4ms/step - accuracy: 0.9381 - loss: 0.1887 - val_accuracy: 0.9505 - val_loss: 0.1187 - learning_rate: 3.0000e-04\n",
            "Epoch 65/200\n",
            "\u001b[1m21/21\u001b[0m \u001b[32m━━━━━━━━━━━━━━━━━━━━\u001b[0m\u001b[37m\u001b[0m \u001b[1m0s\u001b[0m 5ms/step - accuracy: 0.9429 - loss: 0.1916 - val_accuracy: 0.9552 - val_loss: 0.1191 - learning_rate: 3.0000e-04\n",
            "Epoch 66/200\n",
            "\u001b[1m21/21\u001b[0m \u001b[32m━━━━━━━━━━━━━━━━━━━━\u001b[0m\u001b[37m\u001b[0m \u001b[1m0s\u001b[0m 4ms/step - accuracy: 0.9388 - loss: 0.1902 - val_accuracy: 0.9521 - val_loss: 0.1175 - learning_rate: 3.0000e-04\n",
            "Epoch 67/200\n",
            "\u001b[1m21/21\u001b[0m \u001b[32m━━━━━━━━━━━━━━━━━━━━\u001b[0m\u001b[37m\u001b[0m \u001b[1m0s\u001b[0m 4ms/step - accuracy: 0.9448 - loss: 0.1892 - val_accuracy: 0.9567 - val_loss: 0.1193 - learning_rate: 3.0000e-04\n",
            "Epoch 68/200\n",
            "\u001b[1m21/21\u001b[0m \u001b[32m━━━━━━━━━━━━━━━━━━━━\u001b[0m\u001b[37m\u001b[0m \u001b[1m0s\u001b[0m 4ms/step - accuracy: 0.9445 - loss: 0.1954 - val_accuracy: 0.9521 - val_loss: 0.1143 - learning_rate: 3.0000e-04\n",
            "Epoch 69/200\n",
            "\u001b[1m21/21\u001b[0m \u001b[32m━━━━━━━━━━━━━━━━━━━━\u001b[0m\u001b[37m\u001b[0m \u001b[1m0s\u001b[0m 5ms/step - accuracy: 0.9469 - loss: 0.1956 - val_accuracy: 0.9552 - val_loss: 0.1087 - learning_rate: 3.0000e-04\n",
            "Epoch 70/200\n",
            "\u001b[1m21/21\u001b[0m \u001b[32m━━━━━━━━━━━━━━━━━━━━\u001b[0m\u001b[37m\u001b[0m \u001b[1m0s\u001b[0m 5ms/step - accuracy: 0.9444 - loss: 0.1838 - val_accuracy: 0.9598 - val_loss: 0.1080 - learning_rate: 3.0000e-04\n",
            "Epoch 71/200\n",
            "\u001b[1m21/21\u001b[0m \u001b[32m━━━━━━━━━━━━━━━━━━━━\u001b[0m\u001b[37m\u001b[0m \u001b[1m0s\u001b[0m 4ms/step - accuracy: 0.9611 - loss: 0.1527 - val_accuracy: 0.9629 - val_loss: 0.1081 - learning_rate: 3.0000e-04\n",
            "Epoch 72/200\n",
            "\u001b[1m21/21\u001b[0m \u001b[32m━━━━━━━━━━━━━━━━━━━━\u001b[0m\u001b[37m\u001b[0m \u001b[1m0s\u001b[0m 4ms/step - accuracy: 0.9442 - loss: 0.1818 - val_accuracy: 0.9598 - val_loss: 0.1071 - learning_rate: 3.0000e-04\n",
            "Epoch 73/200\n",
            "\u001b[1m21/21\u001b[0m \u001b[32m━━━━━━━━━━━━━━━━━━━━\u001b[0m\u001b[37m\u001b[0m \u001b[1m0s\u001b[0m 5ms/step - accuracy: 0.9499 - loss: 0.1678 - val_accuracy: 0.9645 - val_loss: 0.1066 - learning_rate: 3.0000e-04\n",
            "Epoch 74/200\n",
            "\u001b[1m21/21\u001b[0m \u001b[32m━━━━━━━━━━━━━━━━━━━━\u001b[0m\u001b[37m\u001b[0m \u001b[1m0s\u001b[0m 4ms/step - accuracy: 0.9509 - loss: 0.1816 - val_accuracy: 0.9614 - val_loss: 0.1073 - learning_rate: 3.0000e-04\n",
            "Epoch 75/200\n",
            "\u001b[1m21/21\u001b[0m \u001b[32m━━━━━━━━━━━━━━━━━━━━\u001b[0m\u001b[37m\u001b[0m \u001b[1m0s\u001b[0m 5ms/step - accuracy: 0.9476 - loss: 0.1784 - val_accuracy: 0.9598 - val_loss: 0.1102 - learning_rate: 3.0000e-04\n",
            "Epoch 76/200\n",
            "\u001b[1m21/21\u001b[0m \u001b[32m━━━━━━━━━━━━━━━━━━━━\u001b[0m\u001b[37m\u001b[0m \u001b[1m0s\u001b[0m 5ms/step - accuracy: 0.9514 - loss: 0.1803 - val_accuracy: 0.9598 - val_loss: 0.1033 - learning_rate: 3.0000e-04\n",
            "Epoch 77/200\n",
            "\u001b[1m21/21\u001b[0m \u001b[32m━━━━━━━━━━━━━━━━━━━━\u001b[0m\u001b[37m\u001b[0m \u001b[1m0s\u001b[0m 5ms/step - accuracy: 0.9525 - loss: 0.1600 - val_accuracy: 0.9629 - val_loss: 0.1033 - learning_rate: 3.0000e-04\n",
            "Epoch 78/200\n",
            "\u001b[1m21/21\u001b[0m \u001b[32m━━━━━━━━━━━━━━━━━━━━\u001b[0m\u001b[37m\u001b[0m \u001b[1m0s\u001b[0m 4ms/step - accuracy: 0.9529 - loss: 0.1633 - val_accuracy: 0.9614 - val_loss: 0.1037 - learning_rate: 3.0000e-04\n",
            "Epoch 79/200\n",
            "\u001b[1m21/21\u001b[0m \u001b[32m━━━━━━━━━━━━━━━━━━━━\u001b[0m\u001b[37m\u001b[0m \u001b[1m0s\u001b[0m 4ms/step - accuracy: 0.9508 - loss: 0.1659 - val_accuracy: 0.9614 - val_loss: 0.1024 - learning_rate: 3.0000e-04\n",
            "Epoch 80/200\n",
            "\u001b[1m21/21\u001b[0m \u001b[32m━━━━━━━━━━━━━━━━━━━━\u001b[0m\u001b[37m\u001b[0m \u001b[1m0s\u001b[0m 4ms/step - accuracy: 0.9526 - loss: 0.1595 - val_accuracy: 0.9629 - val_loss: 0.1028 - learning_rate: 3.0000e-04\n",
            "Epoch 81/200\n",
            "\u001b[1m21/21\u001b[0m \u001b[32m━━━━━━━━━━━━━━━━━━━━\u001b[0m\u001b[37m\u001b[0m \u001b[1m0s\u001b[0m 4ms/step - accuracy: 0.9495 - loss: 0.1674 - val_accuracy: 0.9583 - val_loss: 0.1045 - learning_rate: 3.0000e-04\n",
            "Epoch 82/200\n",
            "\u001b[1m21/21\u001b[0m \u001b[32m━━━━━━━━━━━━━━━━━━━━\u001b[0m\u001b[37m\u001b[0m \u001b[1m0s\u001b[0m 5ms/step - accuracy: 0.9516 - loss: 0.1604 - val_accuracy: 0.9645 - val_loss: 0.1007 - learning_rate: 3.0000e-04\n",
            "Epoch 83/200\n",
            "\u001b[1m21/21\u001b[0m \u001b[32m━━━━━━━━━━━━━━━━━━━━\u001b[0m\u001b[37m\u001b[0m \u001b[1m0s\u001b[0m 5ms/step - accuracy: 0.9602 - loss: 0.1409 - val_accuracy: 0.9675 - val_loss: 0.0985 - learning_rate: 3.0000e-04\n",
            "Epoch 84/200\n",
            "\u001b[1m21/21\u001b[0m \u001b[32m━━━━━━━━━━━━━━━━━━━━\u001b[0m\u001b[37m\u001b[0m \u001b[1m0s\u001b[0m 4ms/step - accuracy: 0.9657 - loss: 0.1277 - val_accuracy: 0.9706 - val_loss: 0.0973 - learning_rate: 3.0000e-04\n",
            "Epoch 85/200\n",
            "\u001b[1m21/21\u001b[0m \u001b[32m━━━━━━━━━━━━━━━━━━━━\u001b[0m\u001b[37m\u001b[0m \u001b[1m0s\u001b[0m 5ms/step - accuracy: 0.9570 - loss: 0.1448 - val_accuracy: 0.9675 - val_loss: 0.0969 - learning_rate: 3.0000e-04\n",
            "Epoch 86/200\n",
            "\u001b[1m21/21\u001b[0m \u001b[32m━━━━━━━━━━━━━━━━━━━━\u001b[0m\u001b[37m\u001b[0m \u001b[1m0s\u001b[0m 4ms/step - accuracy: 0.9685 - loss: 0.1266 - val_accuracy: 0.9675 - val_loss: 0.0971 - learning_rate: 3.0000e-04\n",
            "Epoch 87/200\n",
            "\u001b[1m21/21\u001b[0m \u001b[32m━━━━━━━━━━━━━━━━━━━━\u001b[0m\u001b[37m\u001b[0m \u001b[1m0s\u001b[0m 4ms/step - accuracy: 0.9645 - loss: 0.1327 - val_accuracy: 0.9675 - val_loss: 0.0968 - learning_rate: 3.0000e-04\n",
            "Epoch 88/200\n",
            "\u001b[1m21/21\u001b[0m \u001b[32m━━━━━━━━━━━━━━━━━━━━\u001b[0m\u001b[37m\u001b[0m \u001b[1m0s\u001b[0m 4ms/step - accuracy: 0.9623 - loss: 0.1437 - val_accuracy: 0.9691 - val_loss: 0.0979 - learning_rate: 3.0000e-04\n",
            "Epoch 89/200\n",
            "\u001b[1m21/21\u001b[0m \u001b[32m━━━━━━━━━━━━━━━━━━━━\u001b[0m\u001b[37m\u001b[0m \u001b[1m0s\u001b[0m 4ms/step - accuracy: 0.9689 - loss: 0.1249 - val_accuracy: 0.9691 - val_loss: 0.0957 - learning_rate: 3.0000e-04\n",
            "Epoch 90/200\n",
            "\u001b[1m21/21\u001b[0m \u001b[32m━━━━━━━━━━━━━━━━━━━━\u001b[0m\u001b[37m\u001b[0m \u001b[1m0s\u001b[0m 4ms/step - accuracy: 0.9639 - loss: 0.1270 - val_accuracy: 0.9691 - val_loss: 0.0964 - learning_rate: 3.0000e-04\n",
            "Epoch 91/200\n",
            "\u001b[1m21/21\u001b[0m \u001b[32m━━━━━━━━━━━━━━━━━━━━\u001b[0m\u001b[37m\u001b[0m \u001b[1m0s\u001b[0m 4ms/step - accuracy: 0.9587 - loss: 0.1473 - val_accuracy: 0.9691 - val_loss: 0.0998 - learning_rate: 3.0000e-04\n",
            "Epoch 92/200\n",
            "\u001b[1m19/21\u001b[0m \u001b[32m━━━━━━━━━━━━━━━━━━\u001b[0m\u001b[37m━━\u001b[0m \u001b[1m0s\u001b[0m 3ms/step - accuracy: 0.9617 - loss: 0.1355 \n",
            "Epoch 92: ReduceLROnPlateau reducing learning rate to 0.0001500000071246177.\n",
            "\u001b[1m21/21\u001b[0m \u001b[32m━━━━━━━━━━━━━━━━━━━━\u001b[0m\u001b[37m\u001b[0m \u001b[1m0s\u001b[0m 4ms/step - accuracy: 0.9614 - loss: 0.1353 - val_accuracy: 0.9567 - val_loss: 0.1136 - learning_rate: 3.0000e-04\n",
            "Epoch 93/200\n",
            "\u001b[1m21/21\u001b[0m \u001b[32m━━━━━━━━━━━━━━━━━━━━\u001b[0m\u001b[37m\u001b[0m \u001b[1m0s\u001b[0m 4ms/step - accuracy: 0.9626 - loss: 0.1379 - val_accuracy: 0.9675 - val_loss: 0.0974 - learning_rate: 1.5000e-04\n",
            "Epoch 94/200\n",
            "\u001b[1m21/21\u001b[0m \u001b[32m━━━━━━━━━━━━━━━━━━━━\u001b[0m\u001b[37m\u001b[0m \u001b[1m0s\u001b[0m 4ms/step - accuracy: 0.9639 - loss: 0.1279 - val_accuracy: 0.9675 - val_loss: 0.0955 - learning_rate: 1.5000e-04\n",
            "Epoch 95/200\n",
            "\u001b[1m21/21\u001b[0m \u001b[32m━━━━━━━━━━━━━━━━━━━━\u001b[0m\u001b[37m\u001b[0m \u001b[1m0s\u001b[0m 4ms/step - accuracy: 0.9617 - loss: 0.1362 - val_accuracy: 0.9675 - val_loss: 0.0963 - learning_rate: 1.5000e-04\n",
            "Epoch 96/200\n",
            "\u001b[1m21/21\u001b[0m \u001b[32m━━━━━━━━━━━━━━━━━━━━\u001b[0m\u001b[37m\u001b[0m \u001b[1m0s\u001b[0m 5ms/step - accuracy: 0.9708 - loss: 0.1188 - val_accuracy: 0.9691 - val_loss: 0.0948 - learning_rate: 1.5000e-04\n",
            "Epoch 97/200\n",
            "\u001b[1m21/21\u001b[0m \u001b[32m━━━━━━━━━━━━━━━━━━━━\u001b[0m\u001b[37m\u001b[0m \u001b[1m0s\u001b[0m 4ms/step - accuracy: 0.9610 - loss: 0.1400 - val_accuracy: 0.9691 - val_loss: 0.0942 - learning_rate: 1.5000e-04\n",
            "Epoch 98/200\n",
            "\u001b[1m21/21\u001b[0m \u001b[32m━━━━━━━━━━━━━━━━━━━━\u001b[0m\u001b[37m\u001b[0m \u001b[1m0s\u001b[0m 4ms/step - accuracy: 0.9678 - loss: 0.1362 - val_accuracy: 0.9675 - val_loss: 0.0939 - learning_rate: 1.5000e-04\n",
            "Epoch 99/200\n",
            "\u001b[1m21/21\u001b[0m \u001b[32m━━━━━━━━━━━━━━━━━━━━\u001b[0m\u001b[37m\u001b[0m \u001b[1m0s\u001b[0m 5ms/step - accuracy: 0.9688 - loss: 0.1162 - val_accuracy: 0.9691 - val_loss: 0.0923 - learning_rate: 1.5000e-04\n",
            "Epoch 100/200\n",
            "\u001b[1m21/21\u001b[0m \u001b[32m━━━━━━━━━━━━━━━━━━━━\u001b[0m\u001b[37m\u001b[0m \u001b[1m0s\u001b[0m 9ms/step - accuracy: 0.9605 - loss: 0.1280 - val_accuracy: 0.9675 - val_loss: 0.0919 - learning_rate: 1.5000e-04\n",
            "Epoch 101/200\n",
            "\u001b[1m21/21\u001b[0m \u001b[32m━━━━━━━━━━━━━━━━━━━━\u001b[0m\u001b[37m\u001b[0m \u001b[1m0s\u001b[0m 6ms/step - accuracy: 0.9663 - loss: 0.1263 - val_accuracy: 0.9706 - val_loss: 0.0929 - learning_rate: 1.5000e-04\n",
            "Epoch 102/200\n",
            "\u001b[1m21/21\u001b[0m \u001b[32m━━━━━━━━━━━━━━━━━━━━\u001b[0m\u001b[37m\u001b[0m \u001b[1m0s\u001b[0m 9ms/step - accuracy: 0.9631 - loss: 0.1322 - val_accuracy: 0.9706 - val_loss: 0.0918 - learning_rate: 1.5000e-04\n",
            "Epoch 103/200\n",
            "\u001b[1m21/21\u001b[0m \u001b[32m━━━━━━━━━━━━━━━━━━━━\u001b[0m\u001b[37m\u001b[0m \u001b[1m0s\u001b[0m 6ms/step - accuracy: 0.9647 - loss: 0.1209 - val_accuracy: 0.9691 - val_loss: 0.0913 - learning_rate: 1.5000e-04\n",
            "Epoch 104/200\n",
            "\u001b[1m21/21\u001b[0m \u001b[32m━━━━━━━━━━━━━━━━━━━━\u001b[0m\u001b[37m\u001b[0m \u001b[1m0s\u001b[0m 6ms/step - accuracy: 0.9582 - loss: 0.1363 - val_accuracy: 0.9675 - val_loss: 0.0930 - learning_rate: 1.5000e-04\n",
            "Epoch 105/200\n",
            "\u001b[1m21/21\u001b[0m \u001b[32m━━━━━━━━━━━━━━━━━━━━\u001b[0m\u001b[37m\u001b[0m \u001b[1m0s\u001b[0m 9ms/step - accuracy: 0.9673 - loss: 0.1215 - val_accuracy: 0.9691 - val_loss: 0.0944 - learning_rate: 1.5000e-04\n",
            "Epoch 106/200\n",
            "\u001b[1m13/21\u001b[0m \u001b[32m━━━━━━━━━━━━\u001b[0m\u001b[37m━━━━━━━━\u001b[0m \u001b[1m0s\u001b[0m 4ms/step - accuracy: 0.9685 - loss: 0.1075 \n",
            "Epoch 106: ReduceLROnPlateau reducing learning rate to 7.500000356230885e-05.\n",
            "\u001b[1m21/21\u001b[0m \u001b[32m━━━━━━━━━━━━━━━━━━━━\u001b[0m\u001b[37m\u001b[0m \u001b[1m0s\u001b[0m 6ms/step - accuracy: 0.9678 - loss: 0.1083 - val_accuracy: 0.9675 - val_loss: 0.0929 - learning_rate: 1.5000e-04\n",
            "Epoch 107/200\n",
            "\u001b[1m21/21\u001b[0m \u001b[32m━━━━━━━━━━━━━━━━━━━━\u001b[0m\u001b[37m\u001b[0m \u001b[1m0s\u001b[0m 8ms/step - accuracy: 0.9741 - loss: 0.1162 - val_accuracy: 0.9675 - val_loss: 0.0920 - learning_rate: 7.5000e-05\n",
            "Epoch 108/200\n",
            "\u001b[1m21/21\u001b[0m \u001b[32m━━━━━━━━━━━━━━━━━━━━\u001b[0m\u001b[37m\u001b[0m \u001b[1m0s\u001b[0m 6ms/step - accuracy: 0.9719 - loss: 0.1184 - val_accuracy: 0.9691 - val_loss: 0.0940 - learning_rate: 7.5000e-05\n",
            "Epoch 109/200\n",
            "\u001b[1m13/21\u001b[0m \u001b[32m━━━━━━━━━━━━\u001b[0m\u001b[37m━━━━━━━━\u001b[0m \u001b[1m0s\u001b[0m 4ms/step - accuracy: 0.9621 - loss: 0.1335  \n",
            "Epoch 109: ReduceLROnPlateau reducing learning rate to 3.7500001781154424e-05.\n",
            "\u001b[1m21/21\u001b[0m \u001b[32m━━━━━━━━━━━━━━━━━━━━\u001b[0m\u001b[37m\u001b[0m \u001b[1m0s\u001b[0m 8ms/step - accuracy: 0.9628 - loss: 0.1310 - val_accuracy: 0.9691 - val_loss: 0.0940 - learning_rate: 7.5000e-05\n",
            "Epoch 110/200\n",
            "\u001b[1m21/21\u001b[0m \u001b[32m━━━━━━━━━━━━━━━━━━━━\u001b[0m\u001b[37m\u001b[0m \u001b[1m0s\u001b[0m 6ms/step - accuracy: 0.9641 - loss: 0.1276 - val_accuracy: 0.9691 - val_loss: 0.0934 - learning_rate: 3.7500e-05\n",
            "Epoch 111/200\n",
            "\u001b[1m21/21\u001b[0m \u001b[32m━━━━━━━━━━━━━━━━━━━━\u001b[0m\u001b[37m\u001b[0m \u001b[1m0s\u001b[0m 4ms/step - accuracy: 0.9632 - loss: 0.1286 - val_accuracy: 0.9691 - val_loss: 0.0926 - learning_rate: 3.7500e-05\n",
            "Epoch 112/200\n",
            "\u001b[1m19/21\u001b[0m \u001b[32m━━━━━━━━━━━━━━━━━━\u001b[0m\u001b[37m━━\u001b[0m \u001b[1m0s\u001b[0m 3ms/step - accuracy: 0.9641 - loss: 0.1222 \n",
            "Epoch 112: ReduceLROnPlateau reducing learning rate to 1.8750000890577212e-05.\n",
            "\u001b[1m21/21\u001b[0m \u001b[32m━━━━━━━━━━━━━━━━━━━━\u001b[0m\u001b[37m\u001b[0m \u001b[1m0s\u001b[0m 4ms/step - accuracy: 0.9645 - loss: 0.1222 - val_accuracy: 0.9691 - val_loss: 0.0918 - learning_rate: 3.7500e-05\n",
            "Epoch 113/200\n",
            "\u001b[1m21/21\u001b[0m \u001b[32m━━━━━━━━━━━━━━━━━━━━\u001b[0m\u001b[37m\u001b[0m \u001b[1m0s\u001b[0m 5ms/step - accuracy: 0.9647 - loss: 0.1219 - val_accuracy: 0.9691 - val_loss: 0.0919 - learning_rate: 1.8750e-05\n",
            "Epoch 114/200\n",
            "\u001b[1m21/21\u001b[0m \u001b[32m━━━━━━━━━━━━━━━━━━━━\u001b[0m\u001b[37m\u001b[0m \u001b[1m0s\u001b[0m 4ms/step - accuracy: 0.9625 - loss: 0.1249 - val_accuracy: 0.9691 - val_loss: 0.0921 - learning_rate: 1.8750e-05\n",
            "Epoch 115/200\n",
            "\u001b[1m15/21\u001b[0m \u001b[32m━━━━━━━━━━━━━━\u001b[0m\u001b[37m━━━━━━\u001b[0m \u001b[1m0s\u001b[0m 4ms/step - accuracy: 0.9563 - loss: 0.1330 \n",
            "Epoch 115: ReduceLROnPlateau reducing learning rate to 9.375000445288606e-06.\n",
            "\u001b[1m21/21\u001b[0m \u001b[32m━━━━━━━━━━━━━━━━━━━━\u001b[0m\u001b[37m\u001b[0m \u001b[1m0s\u001b[0m 5ms/step - accuracy: 0.9579 - loss: 0.1322 - val_accuracy: 0.9691 - val_loss: 0.0918 - learning_rate: 1.8750e-05\n",
            "Epoch 116/200\n",
            "\u001b[1m21/21\u001b[0m \u001b[32m━━━━━━━━━━━━━━━━━━━━\u001b[0m\u001b[37m\u001b[0m \u001b[1m0s\u001b[0m 4ms/step - accuracy: 0.9694 - loss: 0.1185 - val_accuracy: 0.9691 - val_loss: 0.0917 - learning_rate: 9.3750e-06\n",
            "Epoch 117/200\n",
            "\u001b[1m21/21\u001b[0m \u001b[32m━━━━━━━━━━━━━━━━━━━━\u001b[0m\u001b[37m\u001b[0m \u001b[1m0s\u001b[0m 4ms/step - accuracy: 0.9598 - loss: 0.1315 - val_accuracy: 0.9691 - val_loss: 0.0917 - learning_rate: 9.3750e-06\n",
            "Epoch 118/200\n",
            "\u001b[1m20/21\u001b[0m \u001b[32m━━━━━━━━━━━━━━━━━━━\u001b[0m\u001b[37m━\u001b[0m \u001b[1m0s\u001b[0m 3ms/step - accuracy: 0.9620 - loss: 0.1291 \n",
            "Epoch 118: ReduceLROnPlateau reducing learning rate to 4.687500222644303e-06.\n",
            "\u001b[1m21/21\u001b[0m \u001b[32m━━━━━━━━━━━━━━━━━━━━\u001b[0m\u001b[37m\u001b[0m \u001b[1m0s\u001b[0m 4ms/step - accuracy: 0.9621 - loss: 0.1286 - val_accuracy: 0.9691 - val_loss: 0.0916 - learning_rate: 9.3750e-06\n",
            "Epoch 119/200\n",
            "\u001b[1m21/21\u001b[0m \u001b[32m━━━━━━━━━━━━━━━━━━━━\u001b[0m\u001b[37m\u001b[0m \u001b[1m0s\u001b[0m 4ms/step - accuracy: 0.9669 - loss: 0.1150 - val_accuracy: 0.9691 - val_loss: 0.0916 - learning_rate: 4.6875e-06\n",
            "Epoch 119: early stopping\n",
            "Restoring model weights from the end of the best epoch: 103.\n"
          ]
        }
      ],
      "source": [
        "# 컴파일 및 학습\n",
        "LEARNING_RATE_STATIC = 3e-4\n",
        "EPOCHS_STATIC = 200\n",
        "\n",
        "train_dataset_static = tf.data.Dataset.from_tensor_slices((x_train_static_scaled, y_train_static)).shuffle(len(x_train_static_scaled)).batch(BATCH_SIZE)\n",
        "val_dataset_static = tf.data.Dataset.from_tensor_slices((x_val_static_scaled, y_val_static)).batch(BATCH_SIZE)\n",
        "train_dataset_static = train_dataset_static.prefetch(tf.data.AUTOTUNE)\n",
        "val_dataset_static = val_dataset_static.prefetch(tf.data.AUTOTUNE)\n",
        "test_dataset_static = tf.data.Dataset.from_tensor_slices((x_test_static_scaled, y_test_static)).batch(BATCH_SIZE)\n",
        "\n",
        "model_static.compile(\n",
        "    loss=tf.keras.losses.SparseCategoricalCrossentropy(from_logits=False),\n",
        "    optimizer=Adam(learning_rate=LEARNING_RATE_STATIC),\n",
        "    metrics=['accuracy']\n",
        ")\n",
        "\n",
        "es_static = tf.keras.callbacks.EarlyStopping(monitor='val_loss', patience=16, verbose=1, restore_best_weights=True)\n",
        "redu_static = tf.keras.callbacks.ReduceLROnPlateau(monitor='val_loss', factor=0.5, patience=3, verbose=1)\n",
        "\n",
        "history_static = model_static.fit(\n",
        "    train_dataset_static,\n",
        "    validation_data=val_dataset_static,\n",
        "    epochs=EPOCHS_STATIC,\n",
        "    callbacks=[es_static, redu_static]\n",
        ")"
      ]
    },
    {
      "cell_type": "code",
      "execution_count": 87,
      "metadata": {
        "id": "WitjkIIfr4LR",
        "colab": {
          "base_uri": "https://localhost:8080/",
          "height": 542
        },
        "outputId": "e83dee71-348d-493f-a2e0-53499500d0b6"
      },
      "outputs": [
        {
          "output_type": "display_data",
          "data": {
            "text/plain": [
              "<Figure size 1000x600 with 1 Axes>"
            ],
            "image/png": "[encoded data removed]"
          },
          "metadata": {}
        }
      ],
      "source": [
        "# # 학습곡선\n",
        "dl_history_plot(history_static.history)"
      ]
    },
    {
      "cell_type": "code",
      "execution_count": 88,
      "metadata": {
        "id": "EhiuxERdr4LR",
        "colab": {
          "base_uri": "https://localhost:8080/"
        },
        "outputId": "89db84a2-5b96-4f10-f9ed-752673d573f6"
      },
      "outputs": [
        {
          "output_type": "stream",
          "name": "stdout",
          "text": [
            "\u001b[1m27/27\u001b[0m \u001b[32m━━━━━━━━━━━━━━━━━━━━\u001b[0m\u001b[37m\u001b[0m \u001b[1m1s\u001b[0m 17ms/step - accuracy: 0.9685 - loss: 0.0901\n"
          ]
        },
        {
          "output_type": "execute_result",
          "data": {
            "text/plain": [
              "[0.08113792538642883, 0.9699879884719849]"
            ]
          },
          "metadata": {},
          "execution_count": 88
        }
      ],
      "source": [
        "# 예측 및 평가\n",
        "model_static.evaluate(x_test_static_scaled, y_test_static)"
      ]
    },
    {
      "cell_type": "markdown",
      "source": [],
      "metadata": {
        "id": "6sK3vbLQ4L7I"
      }
    },
    {
      "cell_type": "markdown",
      "metadata": {
        "id": "WFaqIRAy0pJ-"
      },
      "source": [
        "#### 2) 단계2-2 : 동적 동작 세부 분류"
      ]
    },
    {
      "cell_type": "markdown",
      "metadata": {
        "id": "dwGTMsJ60pJ-"
      },
      "source": [
        "* 세부 요구사항\n",
        "    * 동적 행동(Walking, Walking Upstairs, Walking Downstairs)인 데이터 추출\n",
        "    * Walking, Walking Upstairs, Walking Downstairs 를 분류하는 모델을 생성\n",
        "    * 몇가지 모델을 만들고 가장 성능이 좋은 모델을 선정하시오."
      ]
    },
    {
      "cell_type": "code",
      "execution_count": 63,
      "metadata": {
        "id": "tfLclxZB00V9",
        "colab": {
          "base_uri": "https://localhost:8080/"
        },
        "collapsed": true,
        "outputId": "bc25b886-d505-490b-f66a-828fbe0484a4"
      },
      "outputs": [
        {
          "output_type": "stream",
          "name": "stdout",
          "text": [
            "Activity\n",
            "WALKING               228\n",
            "WALKING_UPSTAIRS      215\n",
            "WALKING_DOWNSTAIRS    195\n",
            "Name: count, dtype: int64\n"
          ]
        }
      ],
      "source": [
        "# (tip) 동적 행동(1)인 데이터 추출\n",
        "df_train_dynamic = df_train[df_train['is_dynamic'] == 1].copy()\n",
        "df_test_dynamic = df_test[df_test['is_dynamic'] == 1].copy()\n",
        "\n",
        "print(df_test_dynamic['Activity'].value_counts())"
      ]
    },
    {
      "cell_type": "code",
      "execution_count": 64,
      "metadata": {
        "id": "ErvefaZL00SZ",
        "colab": {
          "base_uri": "https://localhost:8080/"
        },
        "collapsed": true,
        "outputId": "0d663299-60dd-43ca-89cc-0b25e9f24d2c"
      },
      "outputs": [
        {
          "output_type": "stream",
          "name": "stdout",
          "text": [
            "(2117, 210) (530, 210) (2117,) (530,)\n"
          ]
        }
      ],
      "source": [
        "# (tip) map 활용해서 숫자레이블로 매핑\n",
        "label_encoder_dynamic = LabelEncoder()\n",
        "df_train_dynamic['Activity'] = label_encoder_dynamic.fit_transform(df_train_dynamic['Activity'])\n",
        "df_test_dynamic['Activity'] = label_encoder_dynamic.transform(df_test_dynamic['Activity'])\n",
        "\n",
        "x_train_dynamic = df_train_dynamic.drop(['is_dynamic', 'Activity'], axis=1)\n",
        "y_train_dynamic = df_train_dynamic['Activity']\n",
        "x_test_dynamic = df_test_dynamic.drop(['is_dynamic', 'Activity'], axis=1)\n",
        "y_test_dynamic = df_test_dynamic['Activity']\n",
        "\n",
        "x_train_dynamic, x_val_dynamic, y_train_dynamic, y_val_dynamic = train_test_split(\n",
        "    x_train_dynamic, y_train_dynamic, test_size=0.2, stratify=y_train_dynamic\n",
        ")\n",
        "print(x_train_dynamic.shape, x_val_dynamic.shape, y_train_dynamic.shape, y_val_dynamic.shape)\n",
        "\n",
        "# stage2: 전용 scaler (동적 모델 전용)\n",
        "scaler_dynamic = StandardScaler()\n",
        "x_train_dynamic_scaled = scaler_dynamic.fit_transform(x_train_dynamic)\n",
        "x_val_dynamic_scaled = scaler_dynamic.transform(x_val_dynamic)\n",
        "x_test_dynamic_scaled = scaler_dynamic.transform(x_test_dynamic)"
      ]
    },
    {
      "cell_type": "code",
      "execution_count": 89,
      "metadata": {
        "id": "-pG1CDkk00PJ",
        "colab": {
          "base_uri": "https://localhost:8080/",
          "height": 646
        },
        "collapsed": true,
        "outputId": "6a7dd0d5-0c3b-4919-b751-c1a82c0bcdb4"
      },
      "outputs": [
        {
          "output_type": "display_data",
          "data": {
            "text/plain": [
              "\u001b[1mModel: \"sequential_9\"\u001b[0m\n"
            ],
            "text/html": [
              "<pre style=\"white-space:pre;overflow-x:auto;line-height:normal;font-family:Menlo,'DejaVu Sans Mono',consolas,'Courier New',monospace\"><span style=\"font-weight: bold\">Model: \"sequential_9\"</span>\n",
              "</pre>\n"
            ]
          },
          "metadata": {}
        },
        {
          "output_type": "display_data",
          "data": {
            "text/plain": [
              "┏━━━━━━━━━━━━━━━━━━━━━━━━━━━━━━━━━┳━━━━━━━━━━━━━━━━━━━━━━━━┳━━━━━━━━━━━━━━━┓\n",
              "┃\u001b[1m \u001b[0m\u001b[1mLayer (type)                   \u001b[0m\u001b[1m \u001b[0m┃\u001b[1m \u001b[0m\u001b[1mOutput Shape          \u001b[0m\u001b[1m \u001b[0m┃\u001b[1m \u001b[0m\u001b[1m      Param #\u001b[0m\u001b[1m \u001b[0m┃\n",
              "┡━━━━━━━━━━━━━━━━━━━━━━━━━━━━━━━━━╇━━━━━━━━━━━━━━━━━━━━━━━━╇━━━━━━━━━━━━━━━┩\n",
              "│ dense_41 (\u001b[38;5;33mDense\u001b[0m)                │ (\u001b[38;5;45mNone\u001b[0m, \u001b[38;5;34m256\u001b[0m)            │        \u001b[38;5;34m54,016\u001b[0m │\n",
              "├─────────────────────────────────┼────────────────────────┼───────────────┤\n",
              "│ dropout_33 (\u001b[38;5;33mDropout\u001b[0m)            │ (\u001b[38;5;45mNone\u001b[0m, \u001b[38;5;34m256\u001b[0m)            │             \u001b[38;5;34m0\u001b[0m │\n",
              "├─────────────────────────────────┼────────────────────────┼───────────────┤\n",
              "│ batch_normalization_32          │ (\u001b[38;5;45mNone\u001b[0m, \u001b[38;5;34m256\u001b[0m)            │         \u001b[38;5;34m1,024\u001b[0m │\n",
              "│ (\u001b[38;5;33mBatchNormalization\u001b[0m)            │                        │               │\n",
              "├─────────────────────────────────┼────────────────────────┼───────────────┤\n",
              "│ dense_42 (\u001b[38;5;33mDense\u001b[0m)                │ (\u001b[38;5;45mNone\u001b[0m, \u001b[38;5;34m128\u001b[0m)            │        \u001b[38;5;34m32,896\u001b[0m │\n",
              "├─────────────────────────────────┼────────────────────────┼───────────────┤\n",
              "│ dropout_34 (\u001b[38;5;33mDropout\u001b[0m)            │ (\u001b[38;5;45mNone\u001b[0m, \u001b[38;5;34m128\u001b[0m)            │             \u001b[38;5;34m0\u001b[0m │\n",
              "├─────────────────────────────────┼────────────────────────┼───────────────┤\n",
              "│ batch_normalization_33          │ (\u001b[38;5;45mNone\u001b[0m, \u001b[38;5;34m128\u001b[0m)            │           \u001b[38;5;34m512\u001b[0m │\n",
              "│ (\u001b[38;5;33mBatchNormalization\u001b[0m)            │                        │               │\n",
              "├─────────────────────────────────┼────────────────────────┼───────────────┤\n",
              "│ dense_43 (\u001b[38;5;33mDense\u001b[0m)                │ (\u001b[38;5;45mNone\u001b[0m, \u001b[38;5;34m64\u001b[0m)             │         \u001b[38;5;34m8,256\u001b[0m │\n",
              "├─────────────────────────────────┼────────────────────────┼───────────────┤\n",
              "│ dropout_35 (\u001b[38;5;33mDropout\u001b[0m)            │ (\u001b[38;5;45mNone\u001b[0m, \u001b[38;5;34m64\u001b[0m)             │             \u001b[38;5;34m0\u001b[0m │\n",
              "├─────────────────────────────────┼────────────────────────┼───────────────┤\n",
              "│ batch_normalization_34          │ (\u001b[38;5;45mNone\u001b[0m, \u001b[38;5;34m64\u001b[0m)             │           \u001b[38;5;34m256\u001b[0m │\n",
              "│ (\u001b[38;5;33mBatchNormalization\u001b[0m)            │                        │               │\n",
              "├─────────────────────────────────┼────────────────────────┼───────────────┤\n",
              "│ dense_44 (\u001b[38;5;33mDense\u001b[0m)                │ (\u001b[38;5;45mNone\u001b[0m, \u001b[38;5;34m32\u001b[0m)             │         \u001b[38;5;34m2,080\u001b[0m │\n",
              "├─────────────────────────────────┼────────────────────────┼───────────────┤\n",
              "│ dropout_36 (\u001b[38;5;33mDropout\u001b[0m)            │ (\u001b[38;5;45mNone\u001b[0m, \u001b[38;5;34m32\u001b[0m)             │             \u001b[38;5;34m0\u001b[0m │\n",
              "├─────────────────────────────────┼────────────────────────┼───────────────┤\n",
              "│ batch_normalization_35          │ (\u001b[38;5;45mNone\u001b[0m, \u001b[38;5;34m32\u001b[0m)             │           \u001b[38;5;34m128\u001b[0m │\n",
              "│ (\u001b[38;5;33mBatchNormalization\u001b[0m)            │                        │               │\n",
              "├─────────────────────────────────┼────────────────────────┼───────────────┤\n",
              "│ dense_45 (\u001b[38;5;33mDense\u001b[0m)                │ (\u001b[38;5;45mNone\u001b[0m, \u001b[38;5;34m3\u001b[0m)              │            \u001b[38;5;34m99\u001b[0m │\n",
              "└─────────────────────────────────┴────────────────────────┴───────────────┘\n"
            ],
            "text/html": [
              "<pre style=\"white-space:pre;overflow-x:auto;line-height:normal;font-family:Menlo,'DejaVu Sans Mono',consolas,'Courier New',monospace\">┏━━━━━━━━━━━━━━━━━━━━━━━━━━━━━━━━━┳━━━━━━━━━━━━━━━━━━━━━━━━┳━━━━━━━━━━━━━━━┓\n",
              "┃<span style=\"font-weight: bold\"> Layer (type)                    </span>┃<span style=\"font-weight: bold\"> Output Shape           </span>┃<span style=\"font-weight: bold\">       Param # </span>┃\n",
              "┡━━━━━━━━━━━━━━━━━━━━━━━━━━━━━━━━━╇━━━━━━━━━━━━━━━━━━━━━━━━╇━━━━━━━━━━━━━━━┩\n",
              "│ dense_41 (<span style=\"color: #0087ff; text-decoration-color: #0087ff\">Dense</span>)                │ (<span style=\"color: #00d7ff; text-decoration-color: #00d7ff\">None</span>, <span style=\"color: #00af00; text-decoration-color: #00af00\">256</span>)            │        <span style=\"color: #00af00; text-decoration-color: #00af00\">54,016</span> │\n",
              "├─────────────────────────────────┼────────────────────────┼───────────────┤\n",
              "│ dropout_33 (<span style=\"color: #0087ff; text-decoration-color: #0087ff\">Dropout</span>)            │ (<span style=\"color: #00d7ff; text-decoration-color: #00d7ff\">None</span>, <span style=\"color: #00af00; text-decoration-color: #00af00\">256</span>)            │             <span style=\"color: #00af00; text-decoration-color: #00af00\">0</span> │\n",
              "├─────────────────────────────────┼────────────────────────┼───────────────┤\n",
              "│ batch_normalization_32          │ (<span style=\"color: #00d7ff; text-decoration-color: #00d7ff\">None</span>, <span style=\"color: #00af00; text-decoration-color: #00af00\">256</span>)            │         <span style=\"color: #00af00; text-decoration-color: #00af00\">1,024</span> │\n",
              "│ (<span style=\"color: #0087ff; text-decoration-color: #0087ff\">BatchNormalization</span>)            │                        │               │\n",
              "├─────────────────────────────────┼────────────────────────┼───────────────┤\n",
              "│ dense_42 (<span style=\"color: #0087ff; text-decoration-color: #0087ff\">Dense</span>)                │ (<span style=\"color: #00d7ff; text-decoration-color: #00d7ff\">None</span>, <span style=\"color: #00af00; text-decoration-color: #00af00\">128</span>)            │        <span style=\"color: #00af00; text-decoration-color: #00af00\">32,896</span> │\n",
              "├─────────────────────────────────┼────────────────────────┼───────────────┤\n",
              "│ dropout_34 (<span style=\"color: #0087ff; text-decoration-color: #0087ff\">Dropout</span>)            │ (<span style=\"color: #00d7ff; text-decoration-color: #00d7ff\">None</span>, <span style=\"color: #00af00; text-decoration-color: #00af00\">128</span>)            │             <span style=\"color: #00af00; text-decoration-color: #00af00\">0</span> │\n",
              "├─────────────────────────────────┼────────────────────────┼───────────────┤\n",
              "│ batch_normalization_33          │ (<span style=\"color: #00d7ff; text-decoration-color: #00d7ff\">None</span>, <span style=\"color: #00af00; text-decoration-color: #00af00\">128</span>)            │           <span style=\"color: #00af00; text-decoration-color: #00af00\">512</span> │\n",
              "│ (<span style=\"color: #0087ff; text-decoration-color: #0087ff\">BatchNormalization</span>)            │                        │               │\n",
              "├─────────────────────────────────┼────────────────────────┼───────────────┤\n",
              "│ dense_43 (<span style=\"color: #0087ff; text-decoration-color: #0087ff\">Dense</span>)                │ (<span style=\"color: #00d7ff; text-decoration-color: #00d7ff\">None</span>, <span style=\"color: #00af00; text-decoration-color: #00af00\">64</span>)             │         <span style=\"color: #00af00; text-decoration-color: #00af00\">8,256</span> │\n",
              "├─────────────────────────────────┼────────────────────────┼───────────────┤\n",
              "│ dropout_35 (<span style=\"color: #0087ff; text-decoration-color: #0087ff\">Dropout</span>)            │ (<span style=\"color: #00d7ff; text-decoration-color: #00d7ff\">None</span>, <span style=\"color: #00af00; text-decoration-color: #00af00\">64</span>)             │             <span style=\"color: #00af00; text-decoration-color: #00af00\">0</span> │\n",
              "├─────────────────────────────────┼────────────────────────┼───────────────┤\n",
              "│ batch_normalization_34          │ (<span style=\"color: #00d7ff; text-decoration-color: #00d7ff\">None</span>, <span style=\"color: #00af00; text-decoration-color: #00af00\">64</span>)             │           <span style=\"color: #00af00; text-decoration-color: #00af00\">256</span> │\n",
              "│ (<span style=\"color: #0087ff; text-decoration-color: #0087ff\">BatchNormalization</span>)            │                        │               │\n",
              "├─────────────────────────────────┼────────────────────────┼───────────────┤\n",
              "│ dense_44 (<span style=\"color: #0087ff; text-decoration-color: #0087ff\">Dense</span>)                │ (<span style=\"color: #00d7ff; text-decoration-color: #00d7ff\">None</span>, <span style=\"color: #00af00; text-decoration-color: #00af00\">32</span>)             │         <span style=\"color: #00af00; text-decoration-color: #00af00\">2,080</span> │\n",
              "├─────────────────────────────────┼────────────────────────┼───────────────┤\n",
              "│ dropout_36 (<span style=\"color: #0087ff; text-decoration-color: #0087ff\">Dropout</span>)            │ (<span style=\"color: #00d7ff; text-decoration-color: #00d7ff\">None</span>, <span style=\"color: #00af00; text-decoration-color: #00af00\">32</span>)             │             <span style=\"color: #00af00; text-decoration-color: #00af00\">0</span> │\n",
              "├─────────────────────────────────┼────────────────────────┼───────────────┤\n",
              "│ batch_normalization_35          │ (<span style=\"color: #00d7ff; text-decoration-color: #00d7ff\">None</span>, <span style=\"color: #00af00; text-decoration-color: #00af00\">32</span>)             │           <span style=\"color: #00af00; text-decoration-color: #00af00\">128</span> │\n",
              "│ (<span style=\"color: #0087ff; text-decoration-color: #0087ff\">BatchNormalization</span>)            │                        │               │\n",
              "├─────────────────────────────────┼────────────────────────┼───────────────┤\n",
              "│ dense_45 (<span style=\"color: #0087ff; text-decoration-color: #0087ff\">Dense</span>)                │ (<span style=\"color: #00d7ff; text-decoration-color: #00d7ff\">None</span>, <span style=\"color: #00af00; text-decoration-color: #00af00\">3</span>)              │            <span style=\"color: #00af00; text-decoration-color: #00af00\">99</span> │\n",
              "└─────────────────────────────────┴────────────────────────┴───────────────┘\n",
              "</pre>\n"
            ]
          },
          "metadata": {}
        },
        {
          "output_type": "display_data",
          "data": {
            "text/plain": [
              "\u001b[1m Total params: \u001b[0m\u001b[38;5;34m99,267\u001b[0m (387.76 KB)\n"
            ],
            "text/html": [
              "<pre style=\"white-space:pre;overflow-x:auto;line-height:normal;font-family:Menlo,'DejaVu Sans Mono',consolas,'Courier New',monospace\"><span style=\"font-weight: bold\"> Total params: </span><span style=\"color: #00af00; text-decoration-color: #00af00\">99,267</span> (387.76 KB)\n",
              "</pre>\n"
            ]
          },
          "metadata": {}
        },
        {
          "output_type": "display_data",
          "data": {
            "text/plain": [
              "\u001b[1m Trainable params: \u001b[0m\u001b[38;5;34m98,307\u001b[0m (384.01 KB)\n"
            ],
            "text/html": [
              "<pre style=\"white-space:pre;overflow-x:auto;line-height:normal;font-family:Menlo,'DejaVu Sans Mono',consolas,'Courier New',monospace\"><span style=\"font-weight: bold\"> Trainable params: </span><span style=\"color: #00af00; text-decoration-color: #00af00\">98,307</span> (384.01 KB)\n",
              "</pre>\n"
            ]
          },
          "metadata": {}
        },
        {
          "output_type": "display_data",
          "data": {
            "text/plain": [
              "\u001b[1m Non-trainable params: \u001b[0m\u001b[38;5;34m960\u001b[0m (3.75 KB)\n"
            ],
            "text/html": [
              "<pre style=\"white-space:pre;overflow-x:auto;line-height:normal;font-family:Menlo,'DejaVu Sans Mono',consolas,'Courier New',monospace\"><span style=\"font-weight: bold\"> Non-trainable params: </span><span style=\"color: #00af00; text-decoration-color: #00af00\">960</span> (3.75 KB)\n",
              "</pre>\n"
            ]
          },
          "metadata": {}
        }
      ],
      "source": [
        "# 모델 설계\n",
        "model_dynamic = Sequential()\n",
        "model_dynamic.add(Dense(256, input_dim=x_train_dynamic_scaled.shape[1], activation='relu'))\n",
        "model_dynamic.add(Dropout(0.5))\n",
        "model_dynamic.add(BatchNormalization())\n",
        "model_dynamic.add(Dense(128, activation='relu'))\n",
        "model_dynamic.add(Dropout(0.5))\n",
        "model_dynamic.add(BatchNormalization())\n",
        "model_dynamic.add(Dense(64, activation='relu'))\n",
        "model_dynamic.add(Dropout(0.5))\n",
        "model_dynamic.add(BatchNormalization())\n",
        "model_dynamic.add(Dense(32, activation='relu'))\n",
        "model_dynamic.add(Dropout(0.5))\n",
        "model_dynamic.add(BatchNormalization())\n",
        "model_dynamic.add(Dense(3, activation='softmax', kernel_regularizer=tf.keras.regularizers.l2(0.001)))\n",
        "\n",
        "model_dynamic.summary()"
      ]
    },
    {
      "cell_type": "code",
      "execution_count": 90,
      "metadata": {
        "id": "HoWylEYjr4LS",
        "colab": {
          "base_uri": "https://localhost:8080/"
        },
        "collapsed": true,
        "outputId": "101b5acb-692c-41c6-d8d6-446563c805e2"
      },
      "outputs": [
        {
          "output_type": "stream",
          "name": "stdout",
          "text": [
            "Epoch 1/200\n",
            "\u001b[1m17/17\u001b[0m \u001b[32m━━━━━━━━━━━━━━━━━━━━\u001b[0m\u001b[37m\u001b[0m \u001b[1m11s\u001b[0m 237ms/step - accuracy: 0.3358 - loss: 1.5488 - val_accuracy: 0.6811 - val_loss: 0.9450 - learning_rate: 3.0000e-04\n",
            "Epoch 2/200\n",
            "\u001b[1m17/17\u001b[0m \u001b[32m━━━━━━━━━━━━━━━━━━━━\u001b[0m\u001b[37m\u001b[0m \u001b[1m0s\u001b[0m 5ms/step - accuracy: 0.3907 - loss: 1.3283 - val_accuracy: 0.8189 - val_loss: 0.8102 - learning_rate: 3.0000e-04\n",
            "Epoch 3/200\n",
            "\u001b[1m17/17\u001b[0m \u001b[32m━━━━━━━━━━━━━━━━━━━━\u001b[0m\u001b[37m\u001b[0m \u001b[1m0s\u001b[0m 5ms/step - accuracy: 0.4601 - loss: 1.1848 - val_accuracy: 0.8434 - val_loss: 0.6998 - learning_rate: 3.0000e-04\n",
            "Epoch 4/200\n",
            "\u001b[1m17/17\u001b[0m \u001b[32m━━━━━━━━━━━━━━━━━━━━\u001b[0m\u001b[37m\u001b[0m \u001b[1m0s\u001b[0m 5ms/step - accuracy: 0.4936 - loss: 1.1126 - val_accuracy: 0.8623 - val_loss: 0.6077 - learning_rate: 3.0000e-04\n",
            "Epoch 5/200\n",
            "\u001b[1m17/17\u001b[0m \u001b[32m━━━━━━━━━━━━━━━━━━━━\u001b[0m\u001b[37m\u001b[0m \u001b[1m0s\u001b[0m 5ms/step - accuracy: 0.5594 - loss: 0.9689 - val_accuracy: 0.8736 - val_loss: 0.5321 - learning_rate: 3.0000e-04\n",
            "Epoch 6/200\n",
            "\u001b[1m17/17\u001b[0m \u001b[32m━━━━━━━━━━━━━━━━━━━━\u001b[0m\u001b[37m\u001b[0m \u001b[1m0s\u001b[0m 5ms/step - accuracy: 0.6044 - loss: 0.8752 - val_accuracy: 0.8811 - val_loss: 0.4703 - learning_rate: 3.0000e-04\n",
            "Epoch 7/200\n",
            "\u001b[1m17/17\u001b[0m \u001b[32m━━━━━━━━━━━━━━━━━━━━\u001b[0m\u001b[37m\u001b[0m \u001b[1m0s\u001b[0m 5ms/step - accuracy: 0.6288 - loss: 0.8369 - val_accuracy: 0.8943 - val_loss: 0.4156 - learning_rate: 3.0000e-04\n",
            "Epoch 8/200\n",
            "\u001b[1m17/17\u001b[0m \u001b[32m━━━━━━━━━━━━━━━━━━━━\u001b[0m\u001b[37m\u001b[0m \u001b[1m0s\u001b[0m 5ms/step - accuracy: 0.6481 - loss: 0.8096 - val_accuracy: 0.9057 - val_loss: 0.3669 - learning_rate: 3.0000e-04\n",
            "Epoch 9/200\n",
            "\u001b[1m17/17\u001b[0m \u001b[32m━━━━━━━━━━━━━━━━━━━━\u001b[0m\u001b[37m\u001b[0m \u001b[1m0s\u001b[0m 5ms/step - accuracy: 0.6939 - loss: 0.7174 - val_accuracy: 0.9132 - val_loss: 0.3267 - learning_rate: 3.0000e-04\n",
            "Epoch 10/200\n",
            "\u001b[1m17/17\u001b[0m \u001b[32m━━━━━━━━━━━━━━━━━━━━\u001b[0m\u001b[37m\u001b[0m \u001b[1m0s\u001b[0m 5ms/step - accuracy: 0.7186 - loss: 0.6840 - val_accuracy: 0.9245 - val_loss: 0.2911 - learning_rate: 3.0000e-04\n",
            "Epoch 11/200\n",
            "\u001b[1m17/17\u001b[0m \u001b[32m━━━━━━━━━━━━━━━━━━━━\u001b[0m\u001b[37m\u001b[0m \u001b[1m0s\u001b[0m 5ms/step - accuracy: 0.7436 - loss: 0.6335 - val_accuracy: 0.9340 - val_loss: 0.2608 - learning_rate: 3.0000e-04\n",
            "Epoch 12/200\n",
            "\u001b[1m17/17\u001b[0m \u001b[32m━━━━━━━━━━━━━━━━━━━━\u001b[0m\u001b[37m\u001b[0m \u001b[1m0s\u001b[0m 5ms/step - accuracy: 0.7407 - loss: 0.6116 - val_accuracy: 0.9434 - val_loss: 0.2340 - learning_rate: 3.0000e-04\n",
            "Epoch 13/200\n",
            "\u001b[1m17/17\u001b[0m \u001b[32m━━━━━━━━━━━━━━━━━━━━\u001b[0m\u001b[37m\u001b[0m \u001b[1m0s\u001b[0m 4ms/step - accuracy: 0.7856 - loss: 0.5604 - val_accuracy: 0.9491 - val_loss: 0.2136 - learning_rate: 3.0000e-04\n",
            "Epoch 14/200\n",
            "\u001b[1m17/17\u001b[0m \u001b[32m━━━━━━━━━━━━━━━━━━━━\u001b[0m\u001b[37m\u001b[0m \u001b[1m0s\u001b[0m 5ms/step - accuracy: 0.8160 - loss: 0.5096 - val_accuracy: 0.9566 - val_loss: 0.1943 - learning_rate: 3.0000e-04\n",
            "Epoch 15/200\n",
            "\u001b[1m17/17\u001b[0m \u001b[32m━━━━━━━━━━━━━━━━━━━━\u001b[0m\u001b[37m\u001b[0m \u001b[1m0s\u001b[0m 5ms/step - accuracy: 0.8008 - loss: 0.5154 - val_accuracy: 0.9604 - val_loss: 0.1753 - learning_rate: 3.0000e-04\n",
            "Epoch 16/200\n",
            "\u001b[1m17/17\u001b[0m \u001b[32m━━━━━━━━━━━━━━━━━━━━\u001b[0m\u001b[37m\u001b[0m \u001b[1m0s\u001b[0m 5ms/step - accuracy: 0.8323 - loss: 0.4712 - val_accuracy: 0.9679 - val_loss: 0.1600 - learning_rate: 3.0000e-04\n",
            "Epoch 17/200\n",
            "\u001b[1m17/17\u001b[0m \u001b[32m━━━━━━━━━━━━━━━━━━━━\u001b[0m\u001b[37m\u001b[0m \u001b[1m0s\u001b[0m 5ms/step - accuracy: 0.8604 - loss: 0.4222 - val_accuracy: 0.9698 - val_loss: 0.1480 - learning_rate: 3.0000e-04\n",
            "Epoch 18/200\n",
            "\u001b[1m17/17\u001b[0m \u001b[32m━━━━━━━━━━━━━━━━━━━━\u001b[0m\u001b[37m\u001b[0m \u001b[1m0s\u001b[0m 5ms/step - accuracy: 0.8678 - loss: 0.4020 - val_accuracy: 0.9736 - val_loss: 0.1387 - learning_rate: 3.0000e-04\n",
            "Epoch 19/200\n",
            "\u001b[1m17/17\u001b[0m \u001b[32m━━━━━━━━━━━━━━━━━━━━\u001b[0m\u001b[37m\u001b[0m \u001b[1m0s\u001b[0m 5ms/step - accuracy: 0.8662 - loss: 0.4094 - val_accuracy: 0.9811 - val_loss: 0.1279 - learning_rate: 3.0000e-04\n",
            "Epoch 20/200\n",
            "\u001b[1m17/17\u001b[0m \u001b[32m━━━━━━━━━━━━━━━━━━━━\u001b[0m\u001b[37m\u001b[0m \u001b[1m0s\u001b[0m 5ms/step - accuracy: 0.8768 - loss: 0.3784 - val_accuracy: 0.9811 - val_loss: 0.1179 - learning_rate: 3.0000e-04\n",
            "Epoch 21/200\n",
            "\u001b[1m17/17\u001b[0m \u001b[32m━━━━━━━━━━━━━━━━━━━━\u001b[0m\u001b[37m\u001b[0m \u001b[1m0s\u001b[0m 5ms/step - accuracy: 0.8836 - loss: 0.3592 - val_accuracy: 0.9811 - val_loss: 0.1101 - learning_rate: 3.0000e-04\n",
            "Epoch 22/200\n",
            "\u001b[1m17/17\u001b[0m \u001b[32m━━━━━━━━━━━━━━━━━━━━\u001b[0m\u001b[37m\u001b[0m \u001b[1m0s\u001b[0m 5ms/step - accuracy: 0.9017 - loss: 0.3359 - val_accuracy: 0.9811 - val_loss: 0.1029 - learning_rate: 3.0000e-04\n",
            "Epoch 23/200\n",
            "\u001b[1m17/17\u001b[0m \u001b[32m━━━━━━━━━━━━━━━━━━━━\u001b[0m\u001b[37m\u001b[0m \u001b[1m0s\u001b[0m 5ms/step - accuracy: 0.9061 - loss: 0.3222 - val_accuracy: 0.9830 - val_loss: 0.0964 - learning_rate: 3.0000e-04\n",
            "Epoch 24/200\n",
            "\u001b[1m17/17\u001b[0m \u001b[32m━━━━━━━━━━━━━━━━━━━━\u001b[0m\u001b[37m\u001b[0m \u001b[1m0s\u001b[0m 5ms/step - accuracy: 0.9176 - loss: 0.3139 - val_accuracy: 0.9830 - val_loss: 0.0898 - learning_rate: 3.0000e-04\n",
            "Epoch 25/200\n",
            "\u001b[1m17/17\u001b[0m \u001b[32m━━━━━━━━━━━━━━━━━━━━\u001b[0m\u001b[37m\u001b[0m \u001b[1m0s\u001b[0m 5ms/step - accuracy: 0.9154 - loss: 0.2986 - val_accuracy: 0.9830 - val_loss: 0.0842 - learning_rate: 3.0000e-04\n",
            "Epoch 26/200\n",
            "\u001b[1m17/17\u001b[0m \u001b[32m━━━━━━━━━━━━━━━━━━━━\u001b[0m\u001b[37m\u001b[0m \u001b[1m0s\u001b[0m 5ms/step - accuracy: 0.9263 - loss: 0.2741 - val_accuracy: 0.9849 - val_loss: 0.0788 - learning_rate: 3.0000e-04\n",
            "Epoch 27/200\n",
            "\u001b[1m17/17\u001b[0m \u001b[32m━━━━━━━━━━━━━━━━━━━━\u001b[0m\u001b[37m\u001b[0m \u001b[1m0s\u001b[0m 6ms/step - accuracy: 0.9404 - loss: 0.2556 - val_accuracy: 0.9830 - val_loss: 0.0741 - learning_rate: 3.0000e-04\n",
            "Epoch 28/200\n",
            "\u001b[1m17/17\u001b[0m \u001b[32m━━━━━━━━━━━━━━━━━━━━\u001b[0m\u001b[37m\u001b[0m \u001b[1m0s\u001b[0m 7ms/step - accuracy: 0.9450 - loss: 0.2474 - val_accuracy: 0.9830 - val_loss: 0.0698 - learning_rate: 3.0000e-04\n",
            "Epoch 29/200\n",
            "\u001b[1m17/17\u001b[0m \u001b[32m━━━━━━━━━━━━━━━━━━━━\u001b[0m\u001b[37m\u001b[0m \u001b[1m0s\u001b[0m 7ms/step - accuracy: 0.9382 - loss: 0.2482 - val_accuracy: 0.9868 - val_loss: 0.0647 - learning_rate: 3.0000e-04\n",
            "Epoch 30/200\n",
            "\u001b[1m17/17\u001b[0m \u001b[32m━━━━━━━━━━━━━━━━━━━━\u001b[0m\u001b[37m\u001b[0m \u001b[1m0s\u001b[0m 7ms/step - accuracy: 0.9403 - loss: 0.2468 - val_accuracy: 0.9887 - val_loss: 0.0620 - learning_rate: 3.0000e-04\n",
            "Epoch 31/200\n",
            "\u001b[1m17/17\u001b[0m \u001b[32m━━━━━━━━━━━━━━━━━━━━\u001b[0m\u001b[37m\u001b[0m \u001b[1m0s\u001b[0m 7ms/step - accuracy: 0.9392 - loss: 0.2394 - val_accuracy: 0.9887 - val_loss: 0.0585 - learning_rate: 3.0000e-04\n",
            "Epoch 32/200\n",
            "\u001b[1m17/17\u001b[0m \u001b[32m━━━━━━━━━━━━━━━━━━━━\u001b[0m\u001b[37m\u001b[0m \u001b[1m0s\u001b[0m 8ms/step - accuracy: 0.9427 - loss: 0.2278 - val_accuracy: 0.9887 - val_loss: 0.0547 - learning_rate: 3.0000e-04\n",
            "Epoch 33/200\n",
            "\u001b[1m17/17\u001b[0m \u001b[32m━━━━━━━━━━━━━━━━━━━━\u001b[0m\u001b[37m\u001b[0m \u001b[1m0s\u001b[0m 7ms/step - accuracy: 0.9531 - loss: 0.2147 - val_accuracy: 0.9925 - val_loss: 0.0512 - learning_rate: 3.0000e-04\n",
            "Epoch 34/200\n",
            "\u001b[1m17/17\u001b[0m \u001b[32m━━━━━━━━━━━━━━━━━━━━\u001b[0m\u001b[37m\u001b[0m \u001b[1m0s\u001b[0m 7ms/step - accuracy: 0.9541 - loss: 0.1989 - val_accuracy: 0.9887 - val_loss: 0.0509 - learning_rate: 3.0000e-04\n",
            "Epoch 35/200\n",
            "\u001b[1m17/17\u001b[0m \u001b[32m━━━━━━━━━━━━━━━━━━━━\u001b[0m\u001b[37m\u001b[0m \u001b[1m0s\u001b[0m 7ms/step - accuracy: 0.9621 - loss: 0.1890 - val_accuracy: 0.9925 - val_loss: 0.0472 - learning_rate: 3.0000e-04\n",
            "Epoch 36/200\n",
            "\u001b[1m17/17\u001b[0m \u001b[32m━━━━━━━━━━━━━━━━━━━━\u001b[0m\u001b[37m\u001b[0m \u001b[1m0s\u001b[0m 7ms/step - accuracy: 0.9589 - loss: 0.1915 - val_accuracy: 0.9925 - val_loss: 0.0441 - learning_rate: 3.0000e-04\n",
            "Epoch 37/200\n",
            "\u001b[1m17/17\u001b[0m \u001b[32m━━━━━━━━━━━━━━━━━━━━\u001b[0m\u001b[37m\u001b[0m \u001b[1m0s\u001b[0m 8ms/step - accuracy: 0.9693 - loss: 0.1667 - val_accuracy: 0.9943 - val_loss: 0.0397 - learning_rate: 3.0000e-04\n",
            "Epoch 38/200\n",
            "\u001b[1m17/17\u001b[0m \u001b[32m━━━━━━━━━━━━━━━━━━━━\u001b[0m\u001b[37m\u001b[0m \u001b[1m0s\u001b[0m 7ms/step - accuracy: 0.9565 - loss: 0.1843 - val_accuracy: 0.9943 - val_loss: 0.0369 - learning_rate: 3.0000e-04\n",
            "Epoch 39/200\n",
            "\u001b[1m17/17\u001b[0m \u001b[32m━━━━━━━━━━━━━━━━━━━━\u001b[0m\u001b[37m\u001b[0m \u001b[1m0s\u001b[0m 8ms/step - accuracy: 0.9623 - loss: 0.1702 - val_accuracy: 0.9943 - val_loss: 0.0345 - learning_rate: 3.0000e-04\n",
            "Epoch 40/200\n",
            "\u001b[1m17/17\u001b[0m \u001b[32m━━━━━━━━━━━━━━━━━━━━\u001b[0m\u001b[37m\u001b[0m \u001b[1m0s\u001b[0m 5ms/step - accuracy: 0.9693 - loss: 0.1636 - val_accuracy: 0.9962 - val_loss: 0.0319 - learning_rate: 3.0000e-04\n",
            "Epoch 41/200\n",
            "\u001b[1m17/17\u001b[0m \u001b[32m━━━━━━━━━━━━━━━━━━━━\u001b[0m\u001b[37m\u001b[0m \u001b[1m0s\u001b[0m 5ms/step - accuracy: 0.9669 - loss: 0.1536 - val_accuracy: 0.9962 - val_loss: 0.0299 - learning_rate: 3.0000e-04\n",
            "Epoch 42/200\n",
            "\u001b[1m17/17\u001b[0m \u001b[32m━━━━━━━━━━━━━━━━━━━━\u001b[0m\u001b[37m\u001b[0m \u001b[1m0s\u001b[0m 5ms/step - accuracy: 0.9651 - loss: 0.1562 - val_accuracy: 1.0000 - val_loss: 0.0280 - learning_rate: 3.0000e-04\n",
            "Epoch 43/200\n",
            "\u001b[1m17/17\u001b[0m \u001b[32m━━━━━━━━━━━━━━━━━━━━\u001b[0m\u001b[37m\u001b[0m \u001b[1m0s\u001b[0m 5ms/step - accuracy: 0.9746 - loss: 0.1470 - val_accuracy: 1.0000 - val_loss: 0.0267 - learning_rate: 3.0000e-04\n",
            "Epoch 44/200\n",
            "\u001b[1m17/17\u001b[0m \u001b[32m━━━━━━━━━━━━━━━━━━━━\u001b[0m\u001b[37m\u001b[0m \u001b[1m0s\u001b[0m 5ms/step - accuracy: 0.9645 - loss: 0.1549 - val_accuracy: 1.0000 - val_loss: 0.0254 - learning_rate: 3.0000e-04\n",
            "Epoch 45/200\n",
            "\u001b[1m17/17\u001b[0m \u001b[32m━━━━━━━━━━━━━━━━━━━━\u001b[0m\u001b[37m\u001b[0m \u001b[1m0s\u001b[0m 5ms/step - accuracy: 0.9766 - loss: 0.1363 - val_accuracy: 1.0000 - val_loss: 0.0245 - learning_rate: 3.0000e-04\n",
            "Epoch 46/200\n",
            "\u001b[1m17/17\u001b[0m \u001b[32m━━━━━━━━━━━━━━━━━━━━\u001b[0m\u001b[37m\u001b[0m \u001b[1m0s\u001b[0m 5ms/step - accuracy: 0.9807 - loss: 0.1258 - val_accuracy: 1.0000 - val_loss: 0.0232 - learning_rate: 3.0000e-04\n",
            "Epoch 47/200\n",
            "\u001b[1m17/17\u001b[0m \u001b[32m━━━━━━━━━━━━━━━━━━━━\u001b[0m\u001b[37m\u001b[0m \u001b[1m0s\u001b[0m 5ms/step - accuracy: 0.9818 - loss: 0.1254 - val_accuracy: 1.0000 - val_loss: 0.0218 - learning_rate: 3.0000e-04\n",
            "Epoch 48/200\n",
            "\u001b[1m17/17\u001b[0m \u001b[32m━━━━━━━━━━━━━━━━━━━━\u001b[0m\u001b[37m\u001b[0m \u001b[1m0s\u001b[0m 5ms/step - accuracy: 0.9794 - loss: 0.1210 - val_accuracy: 1.0000 - val_loss: 0.0211 - learning_rate: 3.0000e-04\n",
            "Epoch 49/200\n",
            "\u001b[1m17/17\u001b[0m \u001b[32m━━━━━━━━━━━━━━━━━━━━\u001b[0m\u001b[37m\u001b[0m \u001b[1m0s\u001b[0m 5ms/step - accuracy: 0.9779 - loss: 0.1301 - val_accuracy: 1.0000 - val_loss: 0.0205 - learning_rate: 3.0000e-04\n",
            "Epoch 50/200\n",
            "\u001b[1m17/17\u001b[0m \u001b[32m━━━━━━━━━━━━━━━━━━━━\u001b[0m\u001b[37m\u001b[0m \u001b[1m0s\u001b[0m 5ms/step - accuracy: 0.9796 - loss: 0.1203 - val_accuracy: 1.0000 - val_loss: 0.0196 - learning_rate: 3.0000e-04\n",
            "Epoch 51/200\n",
            "\u001b[1m17/17\u001b[0m \u001b[32m━━━━━━━━━━━━━━━━━━━━\u001b[0m\u001b[37m\u001b[0m \u001b[1m0s\u001b[0m 5ms/step - accuracy: 0.9801 - loss: 0.1136 - val_accuracy: 1.0000 - val_loss: 0.0186 - learning_rate: 3.0000e-04\n",
            "Epoch 52/200\n",
            "\u001b[1m17/17\u001b[0m \u001b[32m━━━━━━━━━━━━━━━━━━━━\u001b[0m\u001b[37m\u001b[0m \u001b[1m0s\u001b[0m 5ms/step - accuracy: 0.9794 - loss: 0.1114 - val_accuracy: 1.0000 - val_loss: 0.0179 - learning_rate: 3.0000e-04\n",
            "Epoch 53/200\n",
            "\u001b[1m17/17\u001b[0m \u001b[32m━━━━━━━━━━━━━━━━━━━━\u001b[0m\u001b[37m\u001b[0m \u001b[1m0s\u001b[0m 5ms/step - accuracy: 0.9857 - loss: 0.1112 - val_accuracy: 1.0000 - val_loss: 0.0174 - learning_rate: 3.0000e-04\n",
            "Epoch 54/200\n",
            "\u001b[1m17/17\u001b[0m \u001b[32m━━━━━━━━━━━━━━━━━━━━\u001b[0m\u001b[37m\u001b[0m \u001b[1m0s\u001b[0m 4ms/step - accuracy: 0.9814 - loss: 0.1056 - val_accuracy: 0.9981 - val_loss: 0.0174 - learning_rate: 3.0000e-04\n",
            "Epoch 55/200\n",
            "\u001b[1m17/17\u001b[0m \u001b[32m━━━━━━━━━━━━━━━━━━━━\u001b[0m\u001b[37m\u001b[0m \u001b[1m0s\u001b[0m 5ms/step - accuracy: 0.9809 - loss: 0.1049 - val_accuracy: 1.0000 - val_loss: 0.0166 - learning_rate: 3.0000e-04\n",
            "Epoch 56/200\n",
            "\u001b[1m17/17\u001b[0m \u001b[32m━━━━━━━━━━━━━━━━━━━━\u001b[0m\u001b[37m\u001b[0m \u001b[1m0s\u001b[0m 4ms/step - accuracy: 0.9886 - loss: 0.0892 - val_accuracy: 0.9981 - val_loss: 0.0170 - learning_rate: 3.0000e-04\n",
            "Epoch 57/200\n",
            "\u001b[1m17/17\u001b[0m \u001b[32m━━━━━━━━━━━━━━━━━━━━\u001b[0m\u001b[37m\u001b[0m \u001b[1m0s\u001b[0m 5ms/step - accuracy: 0.9824 - loss: 0.0992 - val_accuracy: 1.0000 - val_loss: 0.0163 - learning_rate: 3.0000e-04\n",
            "Epoch 58/200\n",
            "\u001b[1m17/17\u001b[0m \u001b[32m━━━━━━━━━━━━━━━━━━━━\u001b[0m\u001b[37m\u001b[0m \u001b[1m0s\u001b[0m 5ms/step - accuracy: 0.9852 - loss: 0.0952 - val_accuracy: 1.0000 - val_loss: 0.0154 - learning_rate: 3.0000e-04\n",
            "Epoch 59/200\n",
            "\u001b[1m17/17\u001b[0m \u001b[32m━━━━━━━━━━━━━━━━━━━━\u001b[0m\u001b[37m\u001b[0m \u001b[1m0s\u001b[0m 5ms/step - accuracy: 0.9889 - loss: 0.0867 - val_accuracy: 1.0000 - val_loss: 0.0147 - learning_rate: 3.0000e-04\n",
            "Epoch 60/200\n",
            "\u001b[1m17/17\u001b[0m \u001b[32m━━━━━━━━━━━━━━━━━━━━\u001b[0m\u001b[37m\u001b[0m \u001b[1m0s\u001b[0m 5ms/step - accuracy: 0.9903 - loss: 0.0861 - val_accuracy: 1.0000 - val_loss: 0.0145 - learning_rate: 3.0000e-04\n",
            "Epoch 61/200\n",
            "\u001b[1m17/17\u001b[0m \u001b[32m━━━━━━━━━━━━━━━━━━━━\u001b[0m\u001b[37m\u001b[0m \u001b[1m0s\u001b[0m 5ms/step - accuracy: 0.9804 - loss: 0.0968 - val_accuracy: 1.0000 - val_loss: 0.0143 - learning_rate: 3.0000e-04\n",
            "Epoch 62/200\n",
            "\u001b[1m17/17\u001b[0m \u001b[32m━━━━━━━━━━━━━━━━━━━━\u001b[0m\u001b[37m\u001b[0m \u001b[1m0s\u001b[0m 5ms/step - accuracy: 0.9867 - loss: 0.0792 - val_accuracy: 1.0000 - val_loss: 0.0137 - learning_rate: 3.0000e-04\n",
            "Epoch 63/200\n",
            "\u001b[1m17/17\u001b[0m \u001b[32m━━━━━━━━━━━━━━━━━━━━\u001b[0m\u001b[37m\u001b[0m \u001b[1m0s\u001b[0m 6ms/step - accuracy: 0.9838 - loss: 0.0918 - val_accuracy: 1.0000 - val_loss: 0.0131 - learning_rate: 3.0000e-04\n",
            "Epoch 64/200\n",
            "\u001b[1m17/17\u001b[0m \u001b[32m━━━━━━━━━━━━━━━━━━━━\u001b[0m\u001b[37m\u001b[0m \u001b[1m0s\u001b[0m 6ms/step - accuracy: 0.9810 - loss: 0.0872 - val_accuracy: 1.0000 - val_loss: 0.0130 - learning_rate: 3.0000e-04\n",
            "Epoch 65/200\n",
            "\u001b[1m17/17\u001b[0m \u001b[32m━━━━━━━━━━━━━━━━━━━━\u001b[0m\u001b[37m\u001b[0m \u001b[1m0s\u001b[0m 5ms/step - accuracy: 0.9864 - loss: 0.0831 - val_accuracy: 1.0000 - val_loss: 0.0128 - learning_rate: 3.0000e-04\n",
            "Epoch 66/200\n",
            "\u001b[1m17/17\u001b[0m \u001b[32m━━━━━━━━━━━━━━━━━━━━\u001b[0m\u001b[37m\u001b[0m \u001b[1m0s\u001b[0m 6ms/step - accuracy: 0.9924 - loss: 0.0751 - val_accuracy: 1.0000 - val_loss: 0.0126 - learning_rate: 3.0000e-04\n",
            "Epoch 67/200\n",
            "\u001b[1m17/17\u001b[0m \u001b[32m━━━━━━━━━━━━━━━━━━━━\u001b[0m\u001b[37m\u001b[0m \u001b[1m0s\u001b[0m 5ms/step - accuracy: 0.9841 - loss: 0.0784 - val_accuracy: 1.0000 - val_loss: 0.0125 - learning_rate: 3.0000e-04\n",
            "Epoch 68/200\n",
            "\u001b[1m17/17\u001b[0m \u001b[32m━━━━━━━━━━━━━━━━━━━━\u001b[0m\u001b[37m\u001b[0m \u001b[1m0s\u001b[0m 7ms/step - accuracy: 0.9880 - loss: 0.0785 - val_accuracy: 1.0000 - val_loss: 0.0121 - learning_rate: 3.0000e-04\n",
            "Epoch 69/200\n",
            "\u001b[1m17/17\u001b[0m \u001b[32m━━━━━━━━━━━━━━━━━━━━\u001b[0m\u001b[37m\u001b[0m \u001b[1m0s\u001b[0m 5ms/step - accuracy: 0.9860 - loss: 0.0730 - val_accuracy: 1.0000 - val_loss: 0.0119 - learning_rate: 3.0000e-04\n",
            "Epoch 70/200\n",
            "\u001b[1m17/17\u001b[0m \u001b[32m━━━━━━━━━━━━━━━━━━━━\u001b[0m\u001b[37m\u001b[0m \u001b[1m0s\u001b[0m 6ms/step - accuracy: 0.9870 - loss: 0.0711 - val_accuracy: 1.0000 - val_loss: 0.0116 - learning_rate: 3.0000e-04\n",
            "Epoch 71/200\n",
            "\u001b[1m17/17\u001b[0m \u001b[32m━━━━━━━━━━━━━━━━━━━━\u001b[0m\u001b[37m\u001b[0m \u001b[1m0s\u001b[0m 5ms/step - accuracy: 0.9852 - loss: 0.0807 - val_accuracy: 1.0000 - val_loss: 0.0115 - learning_rate: 3.0000e-04\n",
            "Epoch 72/200\n",
            "\u001b[1m17/17\u001b[0m \u001b[32m━━━━━━━━━━━━━━━━━━━━\u001b[0m\u001b[37m\u001b[0m \u001b[1m0s\u001b[0m 7ms/step - accuracy: 0.9914 - loss: 0.0726 - val_accuracy: 1.0000 - val_loss: 0.0114 - learning_rate: 3.0000e-04\n",
            "Epoch 73/200\n",
            "\u001b[1m17/17\u001b[0m \u001b[32m━━━━━━━━━━━━━━━━━━━━\u001b[0m\u001b[37m\u001b[0m \u001b[1m0s\u001b[0m 6ms/step - accuracy: 0.9921 - loss: 0.0655 - val_accuracy: 1.0000 - val_loss: 0.0112 - learning_rate: 3.0000e-04\n",
            "Epoch 74/200\n",
            "\u001b[1m17/17\u001b[0m \u001b[32m━━━━━━━━━━━━━━━━━━━━\u001b[0m\u001b[37m\u001b[0m \u001b[1m0s\u001b[0m 5ms/step - accuracy: 0.9915 - loss: 0.0637 - val_accuracy: 1.0000 - val_loss: 0.0110 - learning_rate: 3.0000e-04\n",
            "Epoch 75/200\n",
            "\u001b[1m17/17\u001b[0m \u001b[32m━━━━━━━━━━━━━━━━━━━━\u001b[0m\u001b[37m\u001b[0m \u001b[1m0s\u001b[0m 5ms/step - accuracy: 0.9832 - loss: 0.0807 - val_accuracy: 1.0000 - val_loss: 0.0110 - learning_rate: 3.0000e-04\n",
            "Epoch 76/200\n",
            "\u001b[1m17/17\u001b[0m \u001b[32m━━━━━━━━━━━━━━━━━━━━\u001b[0m\u001b[37m\u001b[0m \u001b[1m0s\u001b[0m 5ms/step - accuracy: 0.9932 - loss: 0.0572 - val_accuracy: 1.0000 - val_loss: 0.0110 - learning_rate: 3.0000e-04\n",
            "Epoch 77/200\n",
            "\u001b[1m 1/17\u001b[0m \u001b[32m━\u001b[0m\u001b[37m━━━━━━━━━━━━━━━━━━━\u001b[0m \u001b[1m0s\u001b[0m 18ms/step - accuracy: 1.0000 - loss: 0.0656\n",
            "Epoch 77: ReduceLROnPlateau reducing learning rate to 0.0001500000071246177.\n",
            "\u001b[1m17/17\u001b[0m \u001b[32m━━━━━━━━━━━━━━━━━━━━\u001b[0m\u001b[37m\u001b[0m \u001b[1m0s\u001b[0m 4ms/step - accuracy: 0.9913 - loss: 0.0636 - val_accuracy: 1.0000 - val_loss: 0.0115 - learning_rate: 3.0000e-04\n",
            "Epoch 78/200\n",
            "\u001b[1m17/17\u001b[0m \u001b[32m━━━━━━━━━━━━━━━━━━━━\u001b[0m\u001b[37m\u001b[0m \u001b[1m0s\u001b[0m 4ms/step - accuracy: 0.9885 - loss: 0.0635 - val_accuracy: 1.0000 - val_loss: 0.0119 - learning_rate: 1.5000e-04\n",
            "Epoch 79/200\n",
            "\u001b[1m17/17\u001b[0m \u001b[32m━━━━━━━━━━━━━━━━━━━━\u001b[0m\u001b[37m\u001b[0m \u001b[1m0s\u001b[0m 5ms/step - accuracy: 0.9972 - loss: 0.0543 - val_accuracy: 1.0000 - val_loss: 0.0120 - learning_rate: 1.5000e-04\n",
            "Epoch 80/200\n",
            "\u001b[1m 1/17\u001b[0m \u001b[32m━\u001b[0m\u001b[37m━━━━━━━━━━━━━━━━━━━\u001b[0m \u001b[1m0s\u001b[0m 18ms/step - accuracy: 1.0000 - loss: 0.0442\n",
            "Epoch 80: ReduceLROnPlateau reducing learning rate to 7.500000356230885e-05.\n",
            "\u001b[1m17/17\u001b[0m \u001b[32m━━━━━━━━━━━━━━━━━━━━\u001b[0m\u001b[37m\u001b[0m \u001b[1m0s\u001b[0m 4ms/step - accuracy: 0.9885 - loss: 0.0646 - val_accuracy: 1.0000 - val_loss: 0.0119 - learning_rate: 1.5000e-04\n",
            "Epoch 81/200\n",
            "\u001b[1m17/17\u001b[0m \u001b[32m━━━━━━━━━━━━━━━━━━━━\u001b[0m\u001b[37m\u001b[0m \u001b[1m0s\u001b[0m 5ms/step - accuracy: 0.9886 - loss: 0.0760 - val_accuracy: 1.0000 - val_loss: 0.0116 - learning_rate: 7.5000e-05\n",
            "Epoch 82/200\n",
            "\u001b[1m17/17\u001b[0m \u001b[32m━━━━━━━━━━━━━━━━━━━━\u001b[0m\u001b[37m\u001b[0m \u001b[1m0s\u001b[0m 6ms/step - accuracy: 0.9913 - loss: 0.0598 - val_accuracy: 1.0000 - val_loss: 0.0115 - learning_rate: 7.5000e-05\n",
            "Epoch 83/200\n",
            "\u001b[1m16/17\u001b[0m \u001b[32m━━━━━━━━━━━━━━━━━━\u001b[0m\u001b[37m━━\u001b[0m \u001b[1m0s\u001b[0m 3ms/step - accuracy: 0.9944 - loss: 0.0593 \n",
            "Epoch 83: ReduceLROnPlateau reducing learning rate to 3.7500001781154424e-05.\n",
            "\u001b[1m17/17\u001b[0m \u001b[32m━━━━━━━━━━━━━━━━━━━━\u001b[0m\u001b[37m\u001b[0m \u001b[1m0s\u001b[0m 5ms/step - accuracy: 0.9943 - loss: 0.0593 - val_accuracy: 1.0000 - val_loss: 0.0113 - learning_rate: 7.5000e-05\n",
            "Epoch 84/200\n",
            "\u001b[1m17/17\u001b[0m \u001b[32m━━━━━━━━━━━━━━━━━━━━\u001b[0m\u001b[37m\u001b[0m \u001b[1m0s\u001b[0m 6ms/step - accuracy: 0.9842 - loss: 0.0655 - val_accuracy: 1.0000 - val_loss: 0.0113 - learning_rate: 3.7500e-05\n",
            "Epoch 85/200\n",
            "\u001b[1m17/17\u001b[0m \u001b[32m━━━━━━━━━━━━━━━━━━━━\u001b[0m\u001b[37m\u001b[0m \u001b[1m0s\u001b[0m 5ms/step - accuracy: 0.9932 - loss: 0.0560 - val_accuracy: 1.0000 - val_loss: 0.0113 - learning_rate: 3.7500e-05\n",
            "Epoch 86/200\n",
            "\u001b[1m 1/17\u001b[0m \u001b[32m━\u001b[0m\u001b[37m━━━━━━━━━━━━━━━━━━━\u001b[0m \u001b[1m0s\u001b[0m 17ms/step - accuracy: 1.0000 - loss: 0.0522\n",
            "Epoch 86: ReduceLROnPlateau reducing learning rate to 1.8750000890577212e-05.\n",
            "\u001b[1m17/17\u001b[0m \u001b[32m━━━━━━━━━━━━━━━━━━━━\u001b[0m\u001b[37m\u001b[0m \u001b[1m0s\u001b[0m 5ms/step - accuracy: 0.9909 - loss: 0.0643 - val_accuracy: 1.0000 - val_loss: 0.0112 - learning_rate: 3.7500e-05\n",
            "Epoch 87/200\n",
            "\u001b[1m17/17\u001b[0m \u001b[32m━━━━━━━━━━━━━━━━━━━━\u001b[0m\u001b[37m\u001b[0m \u001b[1m0s\u001b[0m 5ms/step - accuracy: 0.9948 - loss: 0.0493 - val_accuracy: 1.0000 - val_loss: 0.0112 - learning_rate: 1.8750e-05\n",
            "Epoch 88/200\n",
            "\u001b[1m17/17\u001b[0m \u001b[32m━━━━━━━━━━━━━━━━━━━━\u001b[0m\u001b[37m\u001b[0m \u001b[1m0s\u001b[0m 5ms/step - accuracy: 0.9879 - loss: 0.0671 - val_accuracy: 1.0000 - val_loss: 0.0113 - learning_rate: 1.8750e-05\n",
            "Epoch 89/200\n",
            "\u001b[1m 1/17\u001b[0m \u001b[32m━\u001b[0m\u001b[37m━━━━━━━━━━━━━━━━━━━\u001b[0m \u001b[1m0s\u001b[0m 18ms/step - accuracy: 0.9844 - loss: 0.0573\n",
            "Epoch 89: ReduceLROnPlateau reducing learning rate to 9.375000445288606e-06.\n",
            "\u001b[1m17/17\u001b[0m \u001b[32m━━━━━━━━━━━━━━━━━━━━\u001b[0m\u001b[37m\u001b[0m \u001b[1m0s\u001b[0m 5ms/step - accuracy: 0.9887 - loss: 0.0639 - val_accuracy: 1.0000 - val_loss: 0.0113 - learning_rate: 1.8750e-05\n",
            "Epoch 90/200\n",
            "\u001b[1m17/17\u001b[0m \u001b[32m━━━━━━━━━━━━━━━━━━━━\u001b[0m\u001b[37m\u001b[0m \u001b[1m0s\u001b[0m 4ms/step - accuracy: 0.9919 - loss: 0.0568 - val_accuracy: 1.0000 - val_loss: 0.0113 - learning_rate: 9.3750e-06\n",
            "Epoch 91/200\n",
            "\u001b[1m17/17\u001b[0m \u001b[32m━━━━━━━━━━━━━━━━━━━━\u001b[0m\u001b[37m\u001b[0m \u001b[1m0s\u001b[0m 4ms/step - accuracy: 0.9895 - loss: 0.0565 - val_accuracy: 1.0000 - val_loss: 0.0114 - learning_rate: 9.3750e-06\n",
            "Epoch 92/200\n",
            "\u001b[1m 1/17\u001b[0m \u001b[32m━\u001b[0m\u001b[37m━━━━━━━━━━━━━━━━━━━\u001b[0m \u001b[1m0s\u001b[0m 15ms/step - accuracy: 0.9922 - loss: 0.0522\n",
            "Epoch 92: ReduceLROnPlateau reducing learning rate to 4.687500222644303e-06.\n",
            "\u001b[1m17/17\u001b[0m \u001b[32m━━━━━━━━━━━━━━━━━━━━\u001b[0m\u001b[37m\u001b[0m \u001b[1m0s\u001b[0m 4ms/step - accuracy: 0.9880 - loss: 0.0603 - val_accuracy: 1.0000 - val_loss: 0.0114 - learning_rate: 9.3750e-06\n",
            "Epoch 92: early stopping\n",
            "Restoring model weights from the end of the best epoch: 76.\n"
          ]
        }
      ],
      "source": [
        "# 컴파일 및 학습\n",
        "LEARNING_RATE_DYNAMIC = 3e-4\n",
        "EPOCHS_DYNAMIC = 200\n",
        "\n",
        "train_dataset_dynamic = tf.data.Dataset.from_tensor_slices((x_train_dynamic_scaled, y_train_dynamic)).shuffle(len(x_train_dynamic_scaled)).batch(BATCH_SIZE)\n",
        "val_dataset_dynamic = tf.data.Dataset.from_tensor_slices((x_val_dynamic_scaled, y_val_dynamic)).batch(BATCH_SIZE)\n",
        "train_dataset_dynamic = train_dataset_dynamic.prefetch(tf.data.AUTOTUNE)\n",
        "val_dataset_dynamic = val_dataset_dynamic.prefetch(tf.data.AUTOTUNE)\n",
        "\n",
        "model_dynamic.compile(\n",
        "    loss=tf.keras.losses.SparseCategoricalCrossentropy(from_logits=False),\n",
        "    optimizer=Adam(learning_rate=LEARNING_RATE_DYNAMIC),\n",
        "    metrics=['accuracy']\n",
        ")\n",
        "\n",
        "es_dynamic = tf.keras.callbacks.EarlyStopping(monitor='val_loss', patience=16, verbose=1, restore_best_weights=True)\n",
        "redu_dynamic = tf.keras.callbacks.ReduceLROnPlateau(monitor='val_loss', factor=0.5, patience=3, verbose=1)\n",
        "\n",
        "# 클래스 가중치 계산\n",
        "class_weights_dynamic = compute_class_weight('balanced', classes=np.unique(y_train_dynamic), y=y_train_dynamic)\n",
        "class_weights_dynamic = dict(enumerate(class_weights_dynamic))\n",
        "\n",
        "history_dynamic = model_dynamic.fit(\n",
        "    train_dataset_dynamic,\n",
        "    validation_data=val_dataset_dynamic,\n",
        "    epochs=EPOCHS_DYNAMIC,\n",
        "    callbacks=[es_dynamic, redu_dynamic],\n",
        "    class_weight=class_weights_dynamic\n",
        ")"
      ]
    },
    {
      "cell_type": "code",
      "execution_count": 91,
      "metadata": {
        "id": "gFPosvo-r4LS",
        "colab": {
          "base_uri": "https://localhost:8080/",
          "height": 542
        },
        "outputId": "3f1eb649-426d-48d6-a353-8f69af8e767b"
      },
      "outputs": [
        {
          "output_type": "display_data",
          "data": {
            "text/plain": [
              "<Figure size 1000x600 with 1 Axes>"
            ],
            "image/png": "[encoded data removed]"
          },
          "metadata": {}
        }
      ],
      "source": [
        "# 학습곡선\n",
        "dl_history_plot(history_dynamic.history)"
      ]
    },
    {
      "cell_type": "code",
      "execution_count": 92,
      "metadata": {
        "id": "Gz3HfFFvr4LS",
        "colab": {
          "base_uri": "https://localhost:8080/"
        },
        "outputId": "d3e9b98c-9f2e-4ce2-fb26-dd0044eef032"
      },
      "outputs": [
        {
          "output_type": "stream",
          "name": "stdout",
          "text": [
            "\u001b[1m20/20\u001b[0m \u001b[32m━━━━━━━━━━━━━━━━━━━━\u001b[0m\u001b[37m\u001b[0m \u001b[1m1s\u001b[0m 15ms/step - accuracy: 0.9971 - loss: 0.0179\n"
          ]
        },
        {
          "output_type": "execute_result",
          "data": {
            "text/plain": [
              "[0.017245985567569733, 0.9968652129173279]"
            ]
          },
          "metadata": {},
          "execution_count": 92
        }
      ],
      "source": [
        "# 예측 및 평가\n",
        "model_dynamic.evaluate(x_test_dynamic_scaled, y_test_dynamic)"
      ]
    },
    {
      "cell_type": "markdown",
      "metadata": {
        "id": "G0vxLxBy1MHk"
      },
      "source": [
        "### (3) (옵션) 분류 모델 파이프라인 구성\n"
      ]
    },
    {
      "cell_type": "markdown",
      "metadata": {
        "id": "6ypgwVbm1MHl"
      },
      "source": [
        "* 세부 요구사항\n",
        "    * 두 단계 모델을 통합하고, 새로운 데이터(test)에 대해서 최종 예측결과와 성능평가가 나오도록 함수로 만들기\n",
        "    * 데이터 파이프라인 구축 : test데이터가 로딩되어 전처리 과정을 거치고, 예측 및 성능 평가 수행"
      ]
    },
    {
      "cell_type": "markdown",
      "metadata": {
        "id": "J6mVuIA51MHm"
      },
      "source": [
        "* 예시\n",
        "![](https://github.com/DA4BAM/image/blob/main/pipeline%20function.png?raw=true)"
      ]
    },
    {
      "cell_type": "markdown",
      "metadata": {
        "id": "Re6LpNYhi5d3"
      },
      "source": [
        "#### 1) 함수 만들기"
      ]
    },
    {
      "cell_type": "code",
      "execution_count": 93,
      "metadata": {
        "id": "ZdO7GTOq1Vtl"
      },
      "outputs": [],
      "source": [
        "# 동적 행동 분류 레이블\n",
        "def mini_project_1(test_df, model_stage1, model_static, model_dynamic,\n",
        "                   scaler_stage1, scaler_static, scaler_dynamic,\n",
        "                   label_encoder_static, label_encoder_dynamic):\n",
        "    \"\"\"\n",
        "    test_df: 원본 test DataFrame (is_dynamic, Activity 컬럼 포함)\n",
        "    모델들: stage1 (정적/동적 분류), 정적 모델, 동적 모델\n",
        "    scaler_stage1: stage1 전용 스케일러\n",
        "    scaler_static: 정적 모델 전용 스케일러\n",
        "    scaler_dynamic: 동적 모델 전용 스케일러\n",
        "    label_encoder_static, label_encoder_dynamic: 각 모델에 적용한 LabelEncoder (매핑 확인용)\n",
        "    \"\"\"\n",
        "    from sklearn.metrics import classification_report, accuracy_score\n",
        "    import numpy as np\n",
        "\n",
        "    # 인덱스 재설정\n",
        "    test_df = test_df.reset_index(drop=True)\n",
        "    X_test = test_df.drop(columns=['Activity', 'is_dynamic'])\n",
        "\n",
        "    # Stage1 예측\n",
        "    X_test_stage1 = scaler_stage1.transform(X_test)\n",
        "    stage1_preds = model_stage1.predict(X_test_stage1, verbose=0)\n",
        "    stage1_classes = (stage1_preds > 0.5).astype(int).flatten()\n",
        "\n",
        "    # LabelEncoder로부터 매핑 추출\n",
        "    mapping_static = dict(zip(label_encoder_static.classes_, label_encoder_static.transform(label_encoder_static.classes_)))\n",
        "    mapping_dynamic = dict(zip(label_encoder_dynamic.classes_, label_encoder_dynamic.transform(label_encoder_dynamic.classes_)))\n",
        "\n",
        "    # 최종 결과를 저장할 리스트\n",
        "    final_preds = [None] * len(X_test)\n",
        "\n",
        "    # 라벨 매핑 (LabelEncoder 결과에 맞게 조정)\n",
        "    label_map_static = { mapping_static.get('SITTING', None): 'SITTING',\n",
        "                         mapping_static.get('STANDING', None): 'STANDING',\n",
        "                         mapping_static.get('LAYING', None): 'LAYING' }\n",
        "    label_map_dynamic = { mapping_dynamic.get('WALKING', None): 'WALKING',\n",
        "                          mapping_dynamic.get('WALKING_UPSTAIRS', None): 'WALKING_UPSTAIRS',\n",
        "                          mapping_dynamic.get('WALKING_DOWNSTAIRS', None): 'WALKING_DOWNSTAIRS' }\n",
        "\n",
        "    # 정적/동적 인덱스 분리\n",
        "    static_idx = np.where(stage1_classes == 0)[0]\n",
        "    dynamic_idx = np.where(stage1_classes == 1)[0]\n",
        "\n",
        "    # 정적 모델 예측\n",
        "    if len(static_idx) > 0:\n",
        "        X_static = X_test.iloc[static_idx]\n",
        "        X_static_scaled = scaler_static.transform(X_static)\n",
        "        static_preds = model_static.predict(X_static_scaled, verbose=0)\n",
        "        static_classes = np.argmax(static_preds, axis=1)\n",
        "        static_labels = [label_map_static.get(c, None) for c in static_classes]\n",
        "        for i, idx in enumerate(static_idx):\n",
        "            final_preds[idx] = static_labels[i]\n",
        "\n",
        "    # 동적 모델 예측\n",
        "    if len(dynamic_idx) > 0:\n",
        "        X_dynamic = X_test.iloc[dynamic_idx]\n",
        "        X_dynamic_scaled = scaler_dynamic.transform(X_dynamic)\n",
        "        dynamic_preds = model_dynamic.predict(X_dynamic_scaled, verbose=0)\n",
        "        dynamic_classes = np.argmax(dynamic_preds, axis=1)\n",
        "        dynamic_labels = [label_map_dynamic.get(c, None) for c in dynamic_classes]\n",
        "        for i, idx in enumerate(dynamic_idx):\n",
        "            final_preds[idx] = dynamic_labels[i]\n",
        "\n",
        "    # 최종 성능 평가 결과 출력\n",
        "    y_true = test_df['Activity'].values\n",
        "    print(\"\\n[최종 성능 평가 결과]\")\n",
        "    print(classification_report(y_true, final_preds, digits=4))\n",
        "    print(\"정확도:\", accuracy_score(y_true, final_preds))\n",
        "\n",
        "    return final_preds\n"
      ]
    },
    {
      "cell_type": "markdown",
      "metadata": {
        "id": "pk2Efe1K1MHn"
      },
      "source": [
        "#### 2) test 셋으로 예측하고 평가하기"
      ]
    },
    {
      "cell_type": "code",
      "execution_count": 94,
      "metadata": {
        "id": "eVLnQbdfUyx9",
        "colab": {
          "base_uri": "https://localhost:8080/"
        },
        "outputId": "12688844-a517-4411-a89f-b3a569b1b73b"
      },
      "outputs": [
        {
          "output_type": "stream",
          "name": "stdout",
          "text": [
            "\n",
            "[최종 성능 평가 결과]\n",
            "                    precision    recall  f1-score   support\n",
            "\n",
            "            LAYING     1.0000    1.0000    1.0000       292\n",
            "           SITTING     0.9421    0.9606    0.9513       254\n",
            "          STANDING     0.9645    0.9477    0.9561       287\n",
            "           WALKING     0.9956    0.9956    0.9956       228\n",
            "WALKING_DOWNSTAIRS     1.0000    1.0000    1.0000       195\n",
            "  WALKING_UPSTAIRS     0.9953    0.9953    0.9953       215\n",
            "\n",
            "          accuracy                         0.9816      1471\n",
            "         macro avg     0.9829    0.9832    0.9830      1471\n",
            "      weighted avg     0.9817    0.9816    0.9817      1471\n",
            "\n",
            "정확도: 0.981645139360979\n"
          ]
        }
      ],
      "source": [
        "final_predictions = mini_project_1(\n",
        "    test_df=df_test,\n",
        "    model_stage1=model_stage1,\n",
        "    model_static=model_static,\n",
        "    model_dynamic=model_dynamic,\n",
        "    scaler_stage1=scaler_stage1,\n",
        "    scaler_static=scaler_static,\n",
        "    scaler_dynamic=scaler_dynamic,\n",
        "    label_encoder_static=label_encoder_static,\n",
        "    label_encoder_dynamic=label_encoder_dynamic\n",
        ")"
      ]
    }
  ],
  "metadata": {
    "colab": {
      "provenance": [],
      "collapsed_sections": [
        "Xo6HcoOUh8I5"
      ],
      "gpuType": "T4"
    },
    "kernelspec": {
      "display_name": "Python 3",
      "name": "python3"
    },
    "language_info": {
      "codemirror_mode": {
        "name": "ipython",
        "version": 3
      },
      "file_extension": ".py",
      "mimetype": "text/x-python",
      "name": "python",
      "nbconvert_exporter": "python",
      "pygments_lexer": "ipython3",
      "version": "3.12.4"
    },
    "accelerator": "GPU"
  },
  "nbformat": 4,
  "nbformat_minor": 0
}